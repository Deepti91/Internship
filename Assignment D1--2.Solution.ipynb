{
 "cells": [
  {
   "cell_type": "markdown",
   "id": "f3721772",
   "metadata": {},
   "source": [
    "# Assignment D1--2"
   ]
  },
  {
   "cell_type": "markdown",
   "id": "751d9bf8",
   "metadata": {},
   "source": [
    "Solution"
   ]
  },
  {
   "cell_type": "markdown",
   "id": "aed060c9",
   "metadata": {},
   "source": [
    "1 What will be the output of the following code snippet?"
   ]
  },
  {
   "cell_type": "code",
   "execution_count": 2,
   "id": "d7c5aad9",
   "metadata": {},
   "outputs": [
    {
     "name": "stdout",
     "output_type": "stream",
     "text": [
      "15\n"
     ]
    }
   ],
   "source": [
    "def func(a,b):\n",
    "    return b if a == 0 else func(b%a,a)\n",
    "\n",
    "print(func(30,75))"
   ]
  },
  {
   "cell_type": "markdown",
   "id": "57c612df",
   "metadata": {},
   "source": [
    "Q.2"
   ]
  },
  {
   "cell_type": "code",
   "execution_count": 8,
   "id": "0be0f477",
   "metadata": {},
   "outputs": [
    {
     "name": "stdout",
     "output_type": "stream",
     "text": [
      "<class 'filter'>\n"
     ]
    }
   ],
   "source": [
    "numbers=(4,7,19,2,89,45,72,22)\n",
    "sorted_numbers=sorted(numbers)\n",
    "even=lambda a:a%2 == 0\n",
    "even_numbers = filter(even, sorted_numbers)\n",
    "print(type(even_numbers))"
   ]
  },
  {
   "cell_type": "markdown",
   "id": "1cfd25da",
   "metadata": {},
   "source": [
    "Q.4"
   ]
  },
  {
   "cell_type": "code",
   "execution_count": 15,
   "id": "4d478b0c",
   "metadata": {},
   "outputs": [
    {
     "ename": "TypeError",
     "evalue": "unsupported operand type(s) for +: 'set' and 'set'",
     "output_type": "error",
     "traceback": [
      "\u001b[1;31m---------------------------------------------------------------------------\u001b[0m",
      "\u001b[1;31mTypeError\u001b[0m                                 Traceback (most recent call last)",
      "\u001b[1;32m~\\AppData\\Local\\Temp\\ipykernel_15840\\1282947524.py\u001b[0m in \u001b[0;36m<module>\u001b[1;34m\u001b[0m\n\u001b[0;32m      2\u001b[0m \u001b[0mset2\u001b[0m \u001b[1;33m=\u001b[0m \u001b[1;33m{\u001b[0m\u001b[1;36m82\u001b[0m\u001b[1;33m,\u001b[0m\u001b[1;36m49\u001b[0m\u001b[1;33m,\u001b[0m\u001b[1;36m62\u001b[0m\u001b[1;33m}\u001b[0m\u001b[1;33m\u001b[0m\u001b[1;33m\u001b[0m\u001b[0m\n\u001b[0;32m      3\u001b[0m \u001b[0mset3\u001b[0m \u001b[1;33m=\u001b[0m \u001b[1;33m{\u001b[0m\u001b[1;36m99\u001b[0m\u001b[1;33m,\u001b[0m\u001b[1;36m22\u001b[0m\u001b[1;33m,\u001b[0m\u001b[1;36m17\u001b[0m\u001b[1;33m}\u001b[0m\u001b[1;33m\u001b[0m\u001b[1;33m\u001b[0m\u001b[0m\n\u001b[1;32m----> 4\u001b[1;33m \u001b[0mprint\u001b[0m\u001b[1;33m(\u001b[0m\u001b[0mlen\u001b[0m\u001b[1;33m(\u001b[0m\u001b[0mset1\u001b[0m\u001b[1;33m+\u001b[0m\u001b[0mset2\u001b[0m\u001b[1;33m+\u001b[0m\u001b[0mset3\u001b[0m\u001b[1;33m)\u001b[0m\u001b[1;33m)\u001b[0m\u001b[1;33m\u001b[0m\u001b[1;33m\u001b[0m\u001b[0m\n\u001b[0m",
      "\u001b[1;31mTypeError\u001b[0m: unsupported operand type(s) for +: 'set' and 'set'"
     ]
    }
   ],
   "source": [
    "set1 = {14,3,55}\n",
    "set2 = {82,49,62}\n",
    "set3 = {99,22,17}\n",
    "print(len(set1+set2+set3))"
   ]
  },
  {
   "cell_type": "markdown",
   "id": "5232a421",
   "metadata": {},
   "source": [
    "5) What keyword is used in Python to raise exceptions?\n"
   ]
  },
  {
   "cell_type": "markdown",
   "id": "7c4b16c9",
   "metadata": {},
   "source": [
    "Ans. a) raise \n"
   ]
  },
  {
   "cell_type": "markdown",
   "id": "29801a19",
   "metadata": {},
   "source": [
    "6) Which of the following modules need to be imported to handle date time computations in Python?"
   ]
  },
  {
   "cell_type": "markdown",
   "id": "cc314ac0",
   "metadata": {},
   "source": [
    "Ans.c) datetime\n"
   ]
  },
  {
   "cell_type": "code",
   "execution_count": null,
   "id": "0505043c",
   "metadata": {},
   "outputs": [],
   "source": [
    "7) What will be the output of the following code snippet?"
   ]
  },
  {
   "cell_type": "code",
   "execution_count": 16,
   "id": "813cc17b",
   "metadata": {},
   "outputs": [
    {
     "name": "stdout",
     "output_type": "stream",
     "text": [
      "208\n"
     ]
    }
   ],
   "source": [
    "print(4**3 + (7+5)**(1+1))"
   ]
  },
  {
   "cell_type": "markdown",
   "id": "9ab30207",
   "metadata": {},
   "source": [
    "8) Which of the following functions converts date to corresponding time in Python?\n"
   ]
  },
  {
   "cell_type": "markdown",
   "id": "5d165ca1",
   "metadata": {},
   "source": [
    "Ans.d) None\n"
   ]
  },
  {
   "cell_type": "markdown",
   "id": "67360e8e",
   "metadata": {},
   "source": [
    "9) The python tuple is _____ in nature.\n"
   ]
  },
  {
   "cell_type": "code",
   "execution_count": null,
   "id": "e9030e30",
   "metadata": {},
   "outputs": [],
   "source": [
    "Ans. b)immutable"
   ]
  },
  {
   "cell_type": "markdown",
   "id": "0cf625d6",
   "metadata": {},
   "source": [
    "10.The ___ is a built-in function that returns a range object that consists series of integer numbers, which we can iterate using a for loop.\n",
    "\n"
   ]
  },
  {
   "cell_type": "markdown",
   "id": "9674ace6",
   "metadata": {},
   "source": [
    "Ans.A. range()\n"
   ]
  },
  {
   "cell_type": "code",
   "execution_count": null,
   "id": "98b845b9",
   "metadata": {},
   "outputs": [],
   "source": [
    "Q.11 Amongst which of the following is a function which does not have any name?\n"
   ]
  },
  {
   "cell_type": "markdown",
   "id": "d221f624",
   "metadata": {},
   "source": [
    "Ans.C. Lambda function\n"
   ]
  },
  {
   "cell_type": "markdown",
   "id": "5df50a6a",
   "metadata": {},
   "source": [
    "Q.12 The module Pickle is used to ___.\n"
   ]
  },
  {
   "cell_type": "markdown",
   "id": "cb9e2563",
   "metadata": {},
   "source": [
    "Ans.C. Both A and B\n"
   ]
  },
  {
   "cell_type": "markdown",
   "id": "4d1f92ae",
   "metadata": {},
   "source": [
    "Q.13 Amongst which of the following is / are the method of convert Python objects for writing data in a binary file?\n",
    "\n"
   ]
  },
  {
   "cell_type": "markdown",
   "id": "b0abcd62",
   "metadata": {},
   "source": [
    "Ans.B. dump() method\n"
   ]
  },
  {
   "cell_type": "markdown",
   "id": "b3cf4576",
   "metadata": {},
   "source": [
    "Q14.Amongst which of the following is / are the method used to unpickling data from a binary file?\n"
   ]
  },
  {
   "cell_type": "markdown",
   "id": "6e9dbec8",
   "metadata": {},
   "source": [
    "Ans.A. load()\n"
   ]
  },
  {
   "cell_type": "markdown",
   "id": "4bd4a878",
   "metadata": {},
   "source": [
    "Q.15 A text file contains only textual information consisting of ___.\n"
   ]
  },
  {
   "cell_type": "markdown",
   "id": "c561ebc6",
   "metadata": {},
   "source": [
    "Ans.D. All of the mentioned above\n"
   ]
  },
  {
   "cell_type": "code",
   "execution_count": null,
   "id": "d88ac6b7",
   "metadata": {},
   "outputs": [],
   "source": [
    "Q.17 Which of the following lines of code will create an empty dictionary named captains?\n"
   ]
  },
  {
   "cell_type": "markdown",
   "id": "a13793dd",
   "metadata": {},
   "source": [
    "captains = {dict}\n"
   ]
  },
  {
   "cell_type": "markdown",
   "id": "185da37c",
   "metadata": {},
   "source": [
    "18) Now you have your empty dictionary named captains. It’s time to add some data!\n",
    "Specifically, you want to add the key-value pairs \"Enterprise\": \"Picard\", \"Voyager\": \"Janeway\", \n",
    "and \"Defiant\": \"Sisko\".\n",
    "    Which of the following code snippets will successfully add these key-value pairs to the \n",
    "existing captains dictionary?"
   ]
  },
  {
   "cell_type": "code",
   "execution_count": 5,
   "id": "a7003175",
   "metadata": {},
   "outputs": [],
   "source": [
    "C.captains={\"Enterprise\":\"Picard\",\"Voyager\":\"Janeway\",\"Defiant\":\"Sisko\"}"
   ]
  },
  {
   "cell_type": "code",
   "execution_count": 6,
   "id": "836f57ca",
   "metadata": {},
   "outputs": [
    {
     "data": {
      "text/plain": [
       "{'Enterprise': 'Picard', 'Voyager': 'Janeway', 'Defiant': 'Sisko'}"
      ]
     },
     "execution_count": 6,
     "metadata": {},
     "output_type": "execute_result"
    }
   ],
   "source": [
    "captains"
   ]
  },
  {
   "cell_type": "markdown",
   "id": "41fc6b54",
   "metadata": {},
   "source": [
    "19 ) You’re really building out the Federation Starfleet now! Here’s what you have:\n"
   ]
  },
  {
   "cell_type": "code",
   "execution_count": 7,
   "id": "ac86e7e0",
   "metadata": {},
   "outputs": [],
   "source": [
    "captains= {\"Enterprise\":\"Picard\",\"Voyager\":\"Janeway\",\"Defiant\":\"Sisko\",\"Discovery\":\"unknown\"}"
   ]
  },
  {
   "cell_type": "code",
   "execution_count": 8,
   "id": "1e25bc00",
   "metadata": {},
   "outputs": [
    {
     "data": {
      "text/plain": [
       "{'Enterprise': 'Picard',\n",
       " 'Voyager': 'Janeway',\n",
       " 'Defiant': 'Sisko',\n",
       " 'Discovery': 'unknown'}"
      ]
     },
     "execution_count": 8,
     "metadata": {},
     "output_type": "execute_result"
    }
   ],
   "source": [
    "captains"
   ]
  },
  {
   "cell_type": "code",
   "execution_count": 12,
   "id": "371d7a20",
   "metadata": {},
   "outputs": [
    {
     "name": "stdout",
     "output_type": "stream",
     "text": [
      "The Picard is captained by Enterprise.\n",
      "The Janeway is captained by Voyager.\n",
      "The Sisko is captained by Defiant.\n",
      "The unknown is captained by Discovery.\n"
     ]
    }
   ],
   "source": [
    "for captain, ship in captains.items():\n",
    "    print(f\"The {ship} is captained by {captain}.\")"
   ]
  },
  {
   "cell_type": "markdown",
   "id": "39e48116",
   "metadata": {},
   "source": [
    "Q.20 You’ve created a dictionary, added data, checked for the existence of keys, and iterated over it with \n",
    "a for loop. Now you’re ready to delete a key from this dictionary:"
   ]
  },
  {
   "cell_type": "code",
   "execution_count": 13,
   "id": "3f93cd27",
   "metadata": {},
   "outputs": [],
   "source": [
    "captains= {\"Enterprise\":\"Picard\",\"Vyoger\":\"Janeway\",\"Defiant\":\"Sisko\",\"Discovery\":\"Unknown\"}"
   ]
  },
  {
   "cell_type": "code",
   "execution_count": 14,
   "id": "271fd996",
   "metadata": {},
   "outputs": [
    {
     "data": {
      "text/plain": [
       "{'Enterprise': 'Picard',\n",
       " 'Vyoger': 'Janeway',\n",
       " 'Defiant': 'Sisko',\n",
       " 'Discovery': 'Unknown'}"
      ]
     },
     "execution_count": 14,
     "metadata": {},
     "output_type": "execute_result"
    }
   ],
   "source": [
    "captains"
   ]
  },
  {
   "cell_type": "code",
   "execution_count": 16,
   "id": "f3d58a39",
   "metadata": {},
   "outputs": [],
   "source": [
    "del captains[\"Discovery\"]"
   ]
  },
  {
   "cell_type": "code",
   "execution_count": 17,
   "id": "0d10a172",
   "metadata": {},
   "outputs": [
    {
     "data": {
      "text/plain": [
       "{'Enterprise': 'Picard', 'Vyoger': 'Janeway', 'Defiant': 'Sisko'}"
      ]
     },
     "execution_count": 17,
     "metadata": {},
     "output_type": "execute_result"
    }
   ],
   "source": [
    "captains"
   ]
  },
  {
   "cell_type": "code",
   "execution_count": null,
   "id": "763b6d86",
   "metadata": {},
   "outputs": [],
   "source": []
  },
  {
   "cell_type": "code",
   "execution_count": null,
   "id": "eee82e53",
   "metadata": {},
   "outputs": [],
   "source": []
  },
  {
   "cell_type": "code",
   "execution_count": null,
   "id": "c81afb9c",
   "metadata": {},
   "outputs": [],
   "source": []
  },
  {
   "cell_type": "code",
   "execution_count": null,
   "id": "125abb90",
   "metadata": {},
   "outputs": [],
   "source": []
  },
  {
   "cell_type": "code",
   "execution_count": null,
   "id": "60b4b35c",
   "metadata": {},
   "outputs": [],
   "source": []
  },
  {
   "cell_type": "code",
   "execution_count": null,
   "id": "ffaad010",
   "metadata": {},
   "outputs": [],
   "source": []
  },
  {
   "cell_type": "code",
   "execution_count": null,
   "id": "4f3b6087",
   "metadata": {},
   "outputs": [],
   "source": []
  },
  {
   "cell_type": "code",
   "execution_count": null,
   "id": "4294ff48",
   "metadata": {},
   "outputs": [],
   "source": []
  }
 ],
 "metadata": {
  "kernelspec": {
   "display_name": "Python 3 (ipykernel)",
   "language": "python",
   "name": "python3"
  },
  "language_info": {
   "codemirror_mode": {
    "name": "ipython",
    "version": 3
   },
   "file_extension": ".py",
   "mimetype": "text/x-python",
   "name": "python",
   "nbconvert_exporter": "python",
   "pygments_lexer": "ipython3",
   "version": "3.9.13"
  }
 },
 "nbformat": 4,
 "nbformat_minor": 5
}
