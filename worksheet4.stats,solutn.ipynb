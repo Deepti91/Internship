{
 "cells": [
  {
   "cell_type": "markdown",
   "id": "7e35e8ec",
   "metadata": {},
   "source": [
    "#                                                    STATISTICS WORKSHEET-6"
   ]
  },
  {
   "cell_type": "markdown",
   "id": "cb572c0f",
   "metadata": {},
   "source": [
    "Assignment Solution"
   ]
  },
  {
   "cell_type": "markdown",
   "id": "296ced51",
   "metadata": {},
   "source": [
    "Q1 to Q9 have only one correct answer. Choose the correct option to answer your"
   ]
  },
  {
   "cell_type": "markdown",
   "id": "59c46338",
   "metadata": {},
   "source": [
    "1.Which of the following can be considered as random variable?"
   ]
  },
  {
   "cell_type": "markdown",
   "id": "7ed8f85b",
   "metadata": {},
   "source": [
    "Ans. d) All of the mentioned"
   ]
  },
  {
   "cell_type": "markdown",
   "id": "9b58510c",
   "metadata": {},
   "source": [
    "2.Which of the following random variable that take on only a countable number of possibilities?"
   ]
  },
  {
   "cell_type": "markdown",
   "id": "471a6c48",
   "metadata": {},
   "source": [
    "Ans. a) Discrete"
   ]
  },
  {
   "cell_type": "markdown",
   "id": "4a66adae",
   "metadata": {},
   "source": [
    "3.Which of the following function is associated with a continuous random variable?"
   ]
  },
  {
   "cell_type": "markdown",
   "id": "f94723eb",
   "metadata": {},
   "source": [
    "Ans. a) pdf"
   ]
  },
  {
   "cell_type": "markdown",
   "id": "bdcc998a",
   "metadata": {},
   "source": [
    "4.The expected value or _______ of a random variable is the center of its distribution."
   ]
  },
  {
   "cell_type": "markdown",
   "id": "2c6a5337",
   "metadata": {},
   "source": [
    "Ans. c) mean"
   ]
  },
  {
   "cell_type": "markdown",
   "id": "678cf96a",
   "metadata": {},
   "source": [
    "5.Which of the following of a random variable is not a measure of spread?"
   ]
  },
  {
   "cell_type": "markdown",
   "id": "27781e74",
   "metadata": {},
   "source": [
    "Ans. a) variance"
   ]
  },
  {
   "cell_type": "markdown",
   "id": "6235a669",
   "metadata": {},
   "source": [
    "6.The _________ of the Chi-squared distribution is twice the degrees of freedom."
   ]
  },
  {
   "cell_type": "markdown",
   "id": "33046460",
   "metadata": {},
   "source": [
    "Ans. a) variance"
   ]
  },
  {
   "cell_type": "markdown",
   "id": "dfd46617",
   "metadata": {},
   "source": [
    "7.The beta distribution is the default prior for parameters between ____________"
   ]
  },
  {
   "cell_type": "markdown",
   "id": "21c320ea",
   "metadata": {},
   "source": [
    "Ans. c) 0 and 1"
   ]
  },
  {
   "cell_type": "markdown",
   "id": "db4dfa39",
   "metadata": {},
   "source": [
    "8.Which of the following tool is used for constructing confidence intervals and calculating standard errors for difficult statistics?"
   ]
  },
  {
   "cell_type": "markdown",
   "id": "8f39fb76",
   "metadata": {},
   "source": [
    "Ans. b) bootstrap"
   ]
  },
  {
   "cell_type": "markdown",
   "id": "e4eb1ee0",
   "metadata": {},
   "source": [
    "9.Data that summarize all observations in a category are called __________ data. "
   ]
  },
  {
   "cell_type": "markdown",
   "id": "a7dcabe5",
   "metadata": {},
   "source": [
    "Ans. b) summarized"
   ]
  },
  {
   "cell_type": "markdown",
   "id": "5780de18",
   "metadata": {},
   "source": [
    "Q10 and Q15 are subjective answer type questions, Answer them in your own words briefly."
   ]
  },
  {
   "cell_type": "markdown",
   "id": "c096cbe8",
   "metadata": {},
   "source": [
    "10.What is the difference between a boxplot and histogram?"
   ]
  },
  {
   "cell_type": "markdown",
   "id": "546d9944",
   "metadata": {},
   "source": [
    "Ans. Lots of time it is important to learn the variability or spread or distribution of the data. Both histogram and boxplot are good for providing a lot of extra information about a dataset that helps with the understanding of the data. Histogram A histogram takes only one variable from the dataset and shows the frequency of each occurrence."
   ]
  },
  {
   "cell_type": "markdown",
   "id": "254ae858",
   "metadata": {},
   "source": [
    "11.How to select metrics?"
   ]
  },
  {
   "cell_type": "markdown",
   "id": "b1f79bfb",
   "metadata": {},
   "source": [
    "Ans. The choice of the metric have to be based on factors such as the type of classification. Is it binary, multiclass or multilabel classification. And how we want our model to perform. Do we want to penalize more false negatives or false positives, or do we want to have a balance between them."
   ]
  },
  {
   "cell_type": "markdown",
   "id": "a8004c1d",
   "metadata": {},
   "source": [
    "12.How do you assess the statistical significance of an insight?"
   ]
  },
  {
   "cell_type": "markdown",
   "id": "36a98635",
   "metadata": {},
   "source": [
    "Ans. Hypothesis testing is guided by statistical analysis. Statistical significance is calculated using a p value, which tells you the probability of your result being observed, given that a certain statement (the null hypothesis) is true. If this p-value is less than the significance level set (usually 0.05), the experimenter can assume that the null hypothesis is false and accept the alternative hypothesis. Using a simple t-test, you can calculate a p-value and determine significance between two different groups of a dataset."
   ]
  },
  {
   "cell_type": "markdown",
   "id": "632da9f6",
   "metadata": {},
   "source": [
    "13.Give examples of data that doesnot have a Gaussian distribution, nor log-normal."
   ]
  },
  {
   "cell_type": "markdown",
   "id": "adb5520a",
   "metadata": {},
   "source": [
    "  Ans. Pick random values in the 0,1 interval - this can be done by spinning a pointer or many other ways. This is an example of the Uniform distribution (continuous). . (It’s clearly non-Gaussian.) Another one is to count the number of Heads when tossing 5 coins over and over. This is an example of the Binomial distribution. (It’s very clearly non-Gaussian - note that it’s a “discrete” probability distribution.)"
   ]
  },
  {
   "cell_type": "markdown",
   "id": "974ca36c",
   "metadata": {},
   "source": [
    "14.Give an example where the median is a better measure than the mean."
   ]
  },
  {
   "cell_type": "markdown",
   "id": "88860161",
   "metadata": {},
   "source": [
    "Ans. When a distribution is skewed, the median does a better job of describing the center of the distribution than the mean. For example, consider the following distribution of salaries for residents in a certain city: The median does a better job of capturing the “typical” salary of a resident than the mean."
   ]
  },
  {
   "cell_type": "markdown",
   "id": "1553f1ca",
   "metadata": {},
   "source": [
    "15.What is the Likelihood?"
   ]
  },
  {
   "cell_type": "markdown",
   "id": "83eb6350",
   "metadata": {},
   "source": [
    "Ans. In non-technical parlance, \"likelihood\" is usually a synonym for \"probability,\" but in statistical usage there is a clear distinction in perspective: the number that is the probability of some observed outcomes given a set of parameter values is regarded as the likelihood of the set of parameter values given the observed outcomes."
   ]
  }
 ],
 "metadata": {
  "kernelspec": {
   "display_name": "Python 3 (ipykernel)",
   "language": "python",
   "name": "python3"
  },
  "language_info": {
   "codemirror_mode": {
    "name": "ipython",
    "version": 3
   },
   "file_extension": ".py",
   "mimetype": "text/x-python",
   "name": "python",
   "nbconvert_exporter": "python",
   "pygments_lexer": "ipython3",
   "version": "3.9.13"
  }
 },
 "nbformat": 4,
 "nbformat_minor": 5
}
