{
 "cells": [
  {
   "cell_type": "markdown",
   "id": "93ca2727",
   "metadata": {},
   "source": [
    "# Assignment SQL Worksheet"
   ]
  },
  {
   "cell_type": "markdown",
   "id": "81347586",
   "metadata": {},
   "source": [
    "1. Which of the following is/are DDL commands in SQL?"
   ]
  },
  {
   "cell_type": "markdown",
   "id": "0a4ef145",
   "metadata": {},
   "source": [
    "Ans: 1. A). Create, D).Alter\n",
    "     2. D). Drop\n",
    "    "
   ]
  },
  {
   "cell_type": "markdown",
   "id": "8d2122db",
   "metadata": {},
   "source": [
    "3. Full Form of SQL is"
   ]
  },
  {
   "cell_type": "markdown",
   "id": "8ac63729",
   "metadata": {},
   "source": [
    "Ans. B). Structured Query Language"
   ]
  },
  {
   "cell_type": "markdown",
   "id": "3f0454d6",
   "metadata": {},
   "source": [
    "4. Full Form of DDL is"
   ]
  },
  {
   "cell_type": "raw",
   "id": "195ee735",
   "metadata": {},
   "source": [
    "Ans. B). Data Definition Language"
   ]
  },
  {
   "cell_type": "markdown",
   "id": "2b2f9be2",
   "metadata": {},
   "source": [
    "5. Full Form of DML is"
   ]
  },
  {
   "cell_type": "markdown",
   "id": "99255e14",
   "metadata": {},
   "source": [
    "Ans. A). Data Manipulation Language"
   ]
  },
  {
   "cell_type": "markdown",
   "id": "5185bc98",
   "metadata": {},
   "source": [
    "6). Which of the following statement is used to create a table with Column B Int Type and C Float Type?"
   ]
  },
  {
   "cell_type": "markdown",
   "id": "b3bd4b5f",
   "metadata": {},
   "source": [
    "Ans. C). Create Table A (B Int,C Float)"
   ]
  },
  {
   "cell_type": "code",
   "execution_count": 17,
   "id": "cd37a6b1",
   "metadata": {},
   "outputs": [],
   "source": [
    "import sqlite3"
   ]
  },
  {
   "cell_type": "code",
   "execution_count": 18,
   "id": "0805e075",
   "metadata": {},
   "outputs": [],
   "source": [
    "dbcon=sqlite3.connect('table_database.db')"
   ]
  },
  {
   "cell_type": "code",
   "execution_count": 19,
   "id": "a60b856a",
   "metadata": {},
   "outputs": [],
   "source": [
    "cur=dbcon.cursor()"
   ]
  },
  {
   "cell_type": "code",
   "execution_count": 1,
   "id": "e8494623",
   "metadata": {
    "scrolled": true
   },
   "outputs": [
    {
     "ename": "NameError",
     "evalue": "name 'cur' is not defined",
     "output_type": "error",
     "traceback": [
      "\u001b[1;31m---------------------------------------------------------------------------\u001b[0m",
      "\u001b[1;31mNameError\u001b[0m                                 Traceback (most recent call last)",
      "\u001b[1;32m~\\AppData\\Local\\Temp\\ipykernel_17808\\1819325789.py\u001b[0m in \u001b[0;36m<module>\u001b[1;34m\u001b[0m\n\u001b[1;32m----> 1\u001b[1;33m \u001b[0mcur\u001b[0m\u001b[1;33m.\u001b[0m\u001b[0mexecute\u001b[0m\u001b[1;33m(\u001b[0m\u001b[1;34m\"create table A (B int,C float)\"\u001b[0m\u001b[1;33m)\u001b[0m\u001b[1;33m\u001b[0m\u001b[1;33m\u001b[0m\u001b[0m\n\u001b[0m",
      "\u001b[1;31mNameError\u001b[0m: name 'cur' is not defined"
     ]
    }
   ],
   "source": [
    "cur.execute(\"create table A (B int,C float)\")"
   ]
  },
  {
   "cell_type": "code",
   "execution_count": null,
   "id": "f8381d7e",
   "metadata": {},
   "outputs": [],
   "source": []
  },
  {
   "cell_type": "code",
   "execution_count": null,
   "id": "13a3fae0",
   "metadata": {},
   "outputs": [],
   "source": [
    "cur.execute()"
   ]
  },
  {
   "cell_type": "code",
   "execution_count": null,
   "id": "db4d09ac",
   "metadata": {},
   "outputs": [],
   "source": [
    "cur.execute(\"insert into A(B,C) values(1,65.34)\")\n",
    "dbcon.commit()"
   ]
  },
  {
   "cell_type": "code",
   "execution_count": 2,
   "id": "042b4019",
   "metadata": {},
   "outputs": [
    {
     "ename": "NameError",
     "evalue": "name 'cur' is not defined",
     "output_type": "error",
     "traceback": [
      "\u001b[1;31m---------------------------------------------------------------------------\u001b[0m",
      "\u001b[1;31mNameError\u001b[0m                                 Traceback (most recent call last)",
      "\u001b[1;32m~\\AppData\\Local\\Temp\\ipykernel_17808\\1543278105.py\u001b[0m in \u001b[0;36m<module>\u001b[1;34m\u001b[0m\n\u001b[1;32m----> 1\u001b[1;33m \u001b[0mresults\u001b[0m\u001b[1;33m=\u001b[0m\u001b[0mcur\u001b[0m\u001b[1;33m.\u001b[0m\u001b[0mexecute\u001b[0m\u001b[1;33m(\u001b[0m\u001b[1;34m\"select* from A\"\u001b[0m\u001b[1;33m)\u001b[0m\u001b[1;33m\u001b[0m\u001b[1;33m\u001b[0m\u001b[0m\n\u001b[0m\u001b[0;32m      2\u001b[0m \u001b[1;33m\u001b[0m\u001b[0m\n\u001b[0;32m      3\u001b[0m \u001b[1;32mfor\u001b[0m \u001b[0mi\u001b[0m \u001b[1;32min\u001b[0m \u001b[0mresults\u001b[0m\u001b[1;33m:\u001b[0m\u001b[1;33m\u001b[0m\u001b[1;33m\u001b[0m\u001b[0m\n\u001b[0;32m      4\u001b[0m     \u001b[0mprint\u001b[0m\u001b[1;33m(\u001b[0m\u001b[0mi\u001b[0m\u001b[1;33m)\u001b[0m\u001b[1;33m\u001b[0m\u001b[1;33m\u001b[0m\u001b[0m\n",
      "\u001b[1;31mNameError\u001b[0m: name 'cur' is not defined"
     ]
    }
   ],
   "source": [
    "results=cur.execute(\"select* from A\")\n",
    "\n",
    "for i in results:\n",
    "    print(i)"
   ]
  },
  {
   "cell_type": "code",
   "execution_count": null,
   "id": "18987e8b",
   "metadata": {},
   "outputs": [],
   "source": []
  },
  {
   "cell_type": "markdown",
   "id": "a8d19941",
   "metadata": {},
   "source": [
    "7). Which of the Following statement can be used to add a column D (Float type) to the table created above Table A?"
   ]
  },
  {
   "cell_type": "markdown",
   "id": "d1f6f841",
   "metadata": {},
   "source": [
    "Ans. B). ALTER Table A ADD COLUMN D FLOAT"
   ]
  },
  {
   "cell_type": "markdown",
   "id": "2ee9703c",
   "metadata": {},
   "source": [
    "cur.execute('alter table A column D float')"
   ]
  },
  {
   "cell_type": "markdown",
   "id": "bb5560de",
   "metadata": {},
   "source": [
    "7). Which of the Following statement can be used to add a column D (Float type) to the table created above Table A?"
   ]
  },
  {
   "cell_type": "markdown",
   "id": "ddd5b854",
   "metadata": {},
   "source": [
    "Ans. B). ALTER Table A ADD COLUMN D FLOAT"
   ]
  },
  {
   "cell_type": "markdown",
   "id": "4a5bb1d3",
   "metadata": {},
   "source": [
    "8). Which of the following statement can be used to drop the column added in the above question?"
   ]
  },
  {
   "cell_type": "markdown",
   "id": "cfd22997",
   "metadata": {},
   "source": [
    "Ans. B). ALTER Table A Drop Column D"
   ]
  },
  {
   "cell_type": "markdown",
   "id": "ccedb8e9",
   "metadata": {},
   "source": [
    "9). Which of the following statement can be used to change the data type (From Float to Int) of the column D of the table created above question?"
   ]
  },
  {
   "cell_type": "markdown",
   "id": "12ce390e",
   "metadata": {},
   "source": [
    "Ans. B). ALTER Table A ALTER Column D Int"
   ]
  },
  {
   "cell_type": "markdown",
   "id": "09de7070",
   "metadata": {},
   "source": [
    "10). Suppose we want to make column B of Table A as a primary key of the table, By which of the following statement we can do it?"
   ]
  },
  {
   "cell_type": "markdown",
   "id": "0e593970",
   "metadata": {},
   "source": [
    "Ans. C). ALTER Table A add Primary Key B"
   ]
  },
  {
   "cell_type": "markdown",
   "id": "8d8e90cc",
   "metadata": {},
   "source": [
    "11). What is Data-Warehouse??"
   ]
  },
  {
   "cell_type": "markdown",
   "id": "e20b8f2f",
   "metadata": {},
   "source": [
    "Ans. Data-Warehouse is process for collecting and managing data from varied sources to provide meaningful business insights. A Data warehouse is typically used to connect and analyze business data from heterogeneous sources. The data warehouse is the core of the BI system which is built for data analysis and reporting."
   ]
  },
  {
   "cell_type": "markdown",
   "id": "ba81886b",
   "metadata": {},
   "source": [
    "12. What is the difference between OLTP Vs OLAP?"
   ]
  },
  {
   "cell_type": "markdown",
   "id": "219c8738",
   "metadata": {},
   "source": [
    "Ans. OLTP stands for online transaction processing (OLTP), whereas OLAP stands for online analytical processing. Both OLTP and OLAP are online processing systems. The basic difference between OLTP and OLAP is that OLTP works with the processing of transactions, OLAP is more focused on analytical processing.  "
   ]
  },
  {
   "cell_type": "markdown",
   "id": "e176efe8",
   "metadata": {},
   "source": [
    "13. What is the Various Characteristics of Data-Warehouse?"
   ]
  },
  {
   "cell_type": "markdown",
   "id": "714100ba",
   "metadata": {},
   "source": [
    "Ans. The Various Characteristics of Data-Warehouse are as follows:-\n",
    "    1.\tSubject-oriented : A data warehouse is always a subject oriented as it delivers information about a theme instead of organization’s current operations. It can be achieved on specific theme. That means the data warehousing process is proposed to handle with a specific theme which is more defined. These themes can be sales, distributions, marketing etc.\n",
    "    2.\tIntegrated : It is somewhere same as subject orientation which is made in a reliable format. Integration means founding a shared entity to scale the all similar data from the different databases. The data also required to be resided into various data warehouse in shared and generally granted manner.\n",
    "    3.\tTime-Variant : In this data is maintained via different intervals of time such as weekly, monthly, or annually etc. It founds various time limit which are structured between the large datasets and are held in online transaction process (OLTP). The time limits for data warehouse is wide-ranged than that of operational systems. The data resided in data warehouse is predictable with a specific interval of time and delivers information from the historical perspective. It comprises elements of time explicitly or implicitly. Another feature of time-variance is that once data is stored in the data warehouse then it cannot be modified, alter, or updated.\n",
    "    4.\tNon-Volatile : As the name defines the data resided in data warehouse is permanent. It also means that data is not erased or deleted when new data is inserted. It includes the mammoth quantity of data that is inserted into modification between the selected quantity on logical business. It evaluates the analysis within the technologies of warehouse."
   ]
  },
  {
   "cell_type": "markdown",
   "id": "73e376ac",
   "metadata": {},
   "source": [
    "14. What is Star-Schema??"
   ]
  },
  {
   "cell_type": "markdown",
   "id": "3b05ee6d",
   "metadata": {},
   "source": [
    "Ans. A star schema is a database organizational structure optimized for use in a data warehouse or business intelligence that uses a single large fact table to store transactional or measured data, and one or more smaller dimensional tables that store attributes about the data. It is called a star schema because the fact table sits at the center of the logical diagram, and the small dimensional tables branch off to form the points of the star."
   ]
  },
  {
   "cell_type": "markdown",
   "id": "75b0f513",
   "metadata": {},
   "source": [
    "15. 15. What do you mean by SETL?\n"
   ]
  },
  {
   "cell_type": "markdown",
   "id": "843edaa7",
   "metadata": {},
   "source": [
    "Ans. The SET command is used with UPDATE to specify which columns and values that should be updated in a table."
   ]
  },
  {
   "cell_type": "code",
   "execution_count": null,
   "id": "0319c1fb",
   "metadata": {},
   "outputs": [],
   "source": []
  },
  {
   "cell_type": "raw",
   "id": "00af24f7",
   "metadata": {},
   "source": []
  },
  {
   "cell_type": "markdown",
   "id": "99222fad",
   "metadata": {},
   "source": []
  },
  {
   "cell_type": "code",
   "execution_count": null,
   "id": "4f13c9a9",
   "metadata": {},
   "outputs": [],
   "source": []
  },
  {
   "cell_type": "markdown",
   "id": "543a8f20",
   "metadata": {},
   "source": []
  },
  {
   "cell_type": "code",
   "execution_count": null,
   "id": "c74a90cc",
   "metadata": {},
   "outputs": [],
   "source": []
  },
  {
   "cell_type": "markdown",
   "id": "6580a138",
   "metadata": {},
   "source": []
  },
  {
   "cell_type": "code",
   "execution_count": null,
   "id": "ddf34f3b",
   "metadata": {},
   "outputs": [],
   "source": []
  },
  {
   "cell_type": "code",
   "execution_count": null,
   "id": "ce7725a9",
   "metadata": {},
   "outputs": [],
   "source": []
  },
  {
   "cell_type": "code",
   "execution_count": null,
   "id": "44ad10bc",
   "metadata": {},
   "outputs": [],
   "source": []
  },
  {
   "cell_type": "code",
   "execution_count": null,
   "id": "e70f9344",
   "metadata": {},
   "outputs": [],
   "source": []
  },
  {
   "cell_type": "code",
   "execution_count": null,
   "id": "2dfbd555",
   "metadata": {},
   "outputs": [],
   "source": []
  }
 ],
 "metadata": {
  "kernelspec": {
   "display_name": "Python 3 (ipykernel)",
   "language": "python",
   "name": "python3"
  },
  "language_info": {
   "codemirror_mode": {
    "name": "ipython",
    "version": 3
   },
   "file_extension": ".py",
   "mimetype": "text/x-python",
   "name": "python",
   "nbconvert_exporter": "python",
   "pygments_lexer": "ipython3",
   "version": "3.9.13"
  }
 },
 "nbformat": 4,
 "nbformat_minor": 5
}
