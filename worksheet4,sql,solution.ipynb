{
 "cells": [
  {
   "cell_type": "markdown",
   "id": "9f2b2442",
   "metadata": {},
   "source": [
    "# WORKSHEET4 :SQL"
   ]
  },
  {
   "cell_type": "markdown",
   "id": "79e904d3",
   "metadata": {},
   "source": [
    "Assignment solution"
   ]
  },
  {
   "cell_type": "markdown",
   "id": "5c9f9834",
   "metadata": {},
   "source": [
    "Q1 and Q2 have one or more correct answer. Choose all the correct option to answer your question."
   ]
  },
  {
   "cell_type": "markdown",
   "id": "3809bd5f",
   "metadata": {},
   "source": [
    "1.Which of the following are TCL commands?"
   ]
  },
  {
   "cell_type": "markdown",
   "id": "bdf67998",
   "metadata": {},
   "source": [
    "Ans. A. Commit C. Rollback D. Savepoint"
   ]
  },
  {
   "cell_type": "markdown",
   "id": "a06b57ac",
   "metadata": {},
   "source": [
    "2.Which of the following are DDL commands?"
   ]
  },
  {
   "cell_type": "markdown",
   "id": "427821cd",
   "metadata": {},
   "source": [
    "Ans. A. Create C. Drop D. Alter"
   ]
  },
  {
   "cell_type": "markdown",
   "id": "ec3ff4ef",
   "metadata": {},
   "source": [
    "Q3 to Q10 have only one correct answer. Choose the correct option to answer your question."
   ]
  },
  {
   "cell_type": "markdown",
   "id": "ea3dd654",
   "metadata": {},
   "source": [
    "3.Which of the following is a legal expression in SQL?"
   ]
  },
  {
   "cell_type": "markdown",
   "id": "9ec86180",
   "metadata": {},
   "source": [
    "Ans. B. SELECT NAME FROM SALES;"
   ]
  },
  {
   "cell_type": "markdown",
   "id": "2bf818e0",
   "metadata": {},
   "source": [
    "4.DCL provides commands to perform actions like?"
   ]
  },
  {
   "cell_type": "markdown",
   "id": "fb09b1e1",
   "metadata": {},
   "source": [
    "Ans. B. Insert, Update or Delete Records and Values"
   ]
  },
  {
   "cell_type": "markdown",
   "id": "9d72e1c2",
   "metadata": {},
   "source": [
    "5.Which of the following should be enclosed in double quotes?"
   ]
  },
  {
   "cell_type": "markdown",
   "id": "51564420",
   "metadata": {},
   "source": [
    "Ans. B. Column Alias"
   ]
  },
  {
   "cell_type": "markdown",
   "id": "aef05979",
   "metadata": {},
   "source": [
    "6.Which of the following command makes the updates performed by the transaction permanent in the database?"
   ]
  },
  {
   "cell_type": "markdown",
   "id": "48ff4bc0",
   "metadata": {},
   "source": [
    "Ans. B. COMMIT"
   ]
  },
  {
   "cell_type": "markdown",
   "id": "56ba2b0d",
   "metadata": {},
   "source": [
    "7.A subquery in an SQL Select statement is enclosed in:"
   ]
  },
  {
   "cell_type": "markdown",
   "id": "722e8241",
   "metadata": {},
   "source": [
    "Ans. A. Parenthesis - (...)."
   ]
  },
  {
   "cell_type": "markdown",
   "id": "08daa2c2",
   "metadata": {},
   "source": [
    "8.The result of a SQL SELECT statement is a :-"
   ]
  },
  {
   "cell_type": "markdown",
   "id": "c912e28e",
   "metadata": {},
   "source": [
    "Ans. C. TABLE"
   ]
  },
  {
   "cell_type": "markdown",
   "id": "be06b1a0",
   "metadata": {},
   "source": [
    "9.Which of the following do you need to consider when you make a table in a SQL?"
   ]
  },
  {
   "cell_type": "markdown",
   "id": "96d40003",
   "metadata": {},
   "source": [
    "Ans. D. All of the mentioned"
   ]
  },
  {
   "cell_type": "markdown",
   "id": "55a9081c",
   "metadata": {},
   "source": [
    "10.If you don’t specify ASC and DESC after a SQL ORDER BY clause, the following is used by___?"
   ]
  },
  {
   "cell_type": "markdown",
   "id": "e1959b57",
   "metadata": {},
   "source": [
    "Ans. A. ASC"
   ]
  },
  {
   "cell_type": "markdown",
   "id": "b318d773",
   "metadata": {},
   "source": [
    "Q11 to Q15 are subjective answer type questions, Answer them briefly."
   ]
  },
  {
   "cell_type": "markdown",
   "id": "c1eae2ce",
   "metadata": {},
   "source": [
    "11.What is denormalization?"
   ]
  },
  {
   "cell_type": "markdown",
   "id": "5a534b8d",
   "metadata": {},
   "source": [
    "Ans. Denormalization is a database optimization technique in which we add redundant data to one or more tables. This can help us avoid costly joins in a relational database. Note that denormalization does not mean not doing normalization. It is an optimization technique that is applied after doing normalization."
   ]
  },
  {
   "cell_type": "markdown",
   "id": "304ea078",
   "metadata": {},
   "source": [
    "12.\tWhat is a database cursor?"
   ]
  },
  {
   "cell_type": "markdown",
   "id": "481715c5",
   "metadata": {},
   "source": [
    "Ans. A database cursor can be thought of as a pointer to a specific row within a query result. The pointer can be moved from one row to the next. Depending on the type of cursor, you may even be able to move it to the previous row. Think of it this way: a SQL result is like a bag, you get to hold a whole bunch of rows at once, but not any of them individually; whereas, a cursor is like a pair of tweezers. With it, you can reach into the bag and grab a row, and then move onto the next."
   ]
  },
  {
   "cell_type": "markdown",
   "id": "96963ccb",
   "metadata": {},
   "source": [
    "13.What are the different types of the queries?"
   ]
  },
  {
   "cell_type": "markdown",
   "id": "8473ee7a",
   "metadata": {},
   "source": [
    "Ans. Types of  SQL Queries\n",
    "Select Query : The select query is the least difficult kind of inquiry and thus, it is likewise the most ordinarily utilized one in Microsoft Access databases. It very well may be utilized to choose and show information from possibly one table or a progression of them relying upon what is required.\n",
    "Action Query : At the point when the activity question is called, the database experiences a particular activity relying upon what was indicated in the query itself. This can incorporate such things as making new tables, erasing lines from existing ones and refreshing records or making totally new ones.\n",
    "    1.Append Query – takes the set consequences of a query and \"adds\" (or includes) them to a current table.\n",
    "    2.Delete Query – erases all records in a hidden table from the set results of a query.\n",
    "    3.Make Table Query – as the name proposes, it makes a table dependent on the set consequences of a query\n",
    "    4.Update Query – takes into account at least one field in your table to be refreshed."
   ]
  },
  {
   "cell_type": "markdown",
   "id": "218b6590",
   "metadata": {},
   "source": [
    "14.Define constraint?"
   ]
  },
  {
   "cell_type": "markdown",
   "id": "d1d9a7e7",
   "metadata": {},
   "source": [
    "Ans. Constraints synonyms, Constraints pronunciation, Constraints translation, English dictionary definition of Constraints. n. 1. The threat or use of force to prevent, restrict, or dictate the action or thought of others. 2. The state of being restricted or confined within... Constraints - definition of Constraints by The Free Dictionary"
   ]
  },
  {
   "cell_type": "markdown",
   "id": "afd33aa5",
   "metadata": {},
   "source": [
    "15.What is auto increment?"
   ]
  },
  {
   "cell_type": "markdown",
   "id": "e6ce0cbc",
   "metadata": {},
   "source": [
    "Ans. The auto increment in SQL is a feature that is applied to a field so that it can automatically generate and provide a unique value to every record that you enter into an SQL table. This field is often used as the PRIMARY KEY column, where you need to provide a unique value for every record you add."
   ]
  },
  {
   "cell_type": "code",
   "execution_count": null,
   "id": "d1879195",
   "metadata": {},
   "outputs": [],
   "source": []
  },
  {
   "cell_type": "code",
   "execution_count": null,
   "id": "8dfcd634",
   "metadata": {},
   "outputs": [],
   "source": []
  }
 ],
 "metadata": {
  "kernelspec": {
   "display_name": "Python 3 (ipykernel)",
   "language": "python",
   "name": "python3"
  },
  "language_info": {
   "codemirror_mode": {
    "name": "ipython",
    "version": 3
   },
   "file_extension": ".py",
   "mimetype": "text/x-python",
   "name": "python",
   "nbconvert_exporter": "python",
   "pygments_lexer": "ipython3",
   "version": "3.9.13"
  }
 },
 "nbformat": 4,
 "nbformat_minor": 5
}
