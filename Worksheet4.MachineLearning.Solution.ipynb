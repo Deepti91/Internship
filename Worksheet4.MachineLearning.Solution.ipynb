{
 "cells": [
  {
   "cell_type": "markdown",
   "id": "b7bc49cf",
   "metadata": {},
   "source": [
    "# Worksheet4 : MACHINE LEARNING"
   ]
  },
  {
   "cell_type": "markdown",
   "id": "cf815b18",
   "metadata": {},
   "source": [
    "Assignment Solution"
   ]
  },
  {
   "cell_type": "markdown",
   "id": "f762d3df",
   "metadata": {},
   "source": [
    "In Q1 to Q5, only one option is correct, Choose the correct option:"
   ]
  },
  {
   "cell_type": "markdown",
   "id": "73a3f9c2",
   "metadata": {},
   "source": [
    "1.In which of the following you can say that the model is overfitting?"
   ]
  },
  {
   "cell_type": "markdown",
   "id": "a932ca61",
   "metadata": {},
   "source": [
    "Ans. C) High R-squared value for train-set and Low R-squared value for test-set."
   ]
  },
  {
   "cell_type": "markdown",
   "id": "6ff247dd",
   "metadata": {},
   "source": [
    "2.Which among the following is a disadvantage of decision trees?"
   ]
  },
  {
   "cell_type": "markdown",
   "id": "2880c48a",
   "metadata": {},
   "source": [
    "Ans. B) Decision trees are highly prone to overfitting."
   ]
  },
  {
   "cell_type": "markdown",
   "id": "9a7319b1",
   "metadata": {},
   "source": [
    "3.Which of the following is an ensemble technique?"
   ]
  },
  {
   "cell_type": "markdown",
   "id": "9b6923f0",
   "metadata": {},
   "source": [
    "Ans. C) Random Forest "
   ]
  },
  {
   "cell_type": "markdown",
   "id": "2dd4b028",
   "metadata": {},
   "source": [
    "4.Suppose you are building a classification model for detection of a fatal disease where detection of the disease is most important. In this case which of the following metrics you would focus on?"
   ]
  },
  {
   "cell_type": "markdown",
   "id": "1ffb5df0",
   "metadata": {},
   "source": [
    "Ans. A) Accuracy "
   ]
  },
  {
   "cell_type": "markdown",
   "id": "0c8e3ca8",
   "metadata": {},
   "source": [
    "5.The value of AUC (Area under Curve) value for ROC curve of model A is 0.70 and of model B is 5. The value of AUC (Area under Curve) value for ROC curve of model A is 0.70 and of model B is"
   ]
  },
  {
   "cell_type": "markdown",
   "id": "fb2d9978",
   "metadata": {},
   "source": [
    "Ans.B) Model B"
   ]
  },
  {
   "cell_type": "markdown",
   "id": "2198e8ea",
   "metadata": {},
   "source": [
    "In Q6 to Q9, more than one options are correct, Choose all the correct options:"
   ]
  },
  {
   "cell_type": "markdown",
   "id": "f369c836",
   "metadata": {},
   "source": [
    "6. Which of the following are the regularization technique in Linear Regression?"
   ]
  },
  {
   "cell_type": "markdown",
   "id": "74931f89",
   "metadata": {},
   "source": [
    "Ans. A) Ridge  D) Lasso"
   ]
  },
  {
   "cell_type": "markdown",
   "id": "99c0648c",
   "metadata": {},
   "source": [
    "7.Which of the following is not an example of boosting technique?"
   ]
  },
  {
   "cell_type": "markdown",
   "id": "1df67770",
   "metadata": {},
   "source": [
    "Ans.B) Decision Tree C) Random Forest"
   ]
  },
  {
   "cell_type": "markdown",
   "id": "e0147563",
   "metadata": {},
   "source": [
    "8.Which of the techniques are used for regularization of Decision Trees?"
   ]
  },
  {
   "cell_type": "markdown",
   "id": "aeadf268",
   "metadata": {},
   "source": [
    "Ans. A) Pruning B) L2 regularization"
   ]
  },
  {
   "cell_type": "markdown",
   "id": "2bb8eea4",
   "metadata": {},
   "source": [
    "9.Which of the following statements is true regarding the Adaboost technique?"
   ]
  },
  {
   "cell_type": "markdown",
   "id": "4a50293b",
   "metadata": {},
   "source": [
    "Ans. A) We initialize the probabilities of the distribution as 1/n, where n is the number of data-points\n",
    "     B) A tree in the ensemble focuses more on the data points on which the previous tree was not performing well"
   ]
  },
  {
   "cell_type": "markdown",
   "id": "23cad407",
   "metadata": {},
   "source": [
    "Q10 to Q15 are subjective answer type questions, Answer them briefly."
   ]
  },
  {
   "cell_type": "markdown",
   "id": "797f5484",
   "metadata": {},
   "source": [
    "10.\tDifferentiate between Ridge and Lasso Regression."
   ]
  },
  {
   "cell_type": "markdown",
   "id": "443c71a5",
   "metadata": {},
   "source": [
    "Ans. The main difference between Ridge and LASSO Regression is that if ridge regression can shrink the coefficient close to 0 so that all predictor variables are retained. Whereas LASSO can shrink the coefficient to exactly 0 so that LASSO can select and discard the predictor variables that have the right coefficient of 0."
   ]
  },
  {
   "cell_type": "markdown",
   "id": "d6e0ea94",
   "metadata": {},
   "source": [
    "11. What is VIF? What is the suitable value of a VIF for a feature to be included in a regression modelling?"
   ]
  },
  {
   "cell_type": "markdown",
   "id": "1f5e3c91",
   "metadata": {},
   "source": [
    "Ans. The Variance Inflation Factor (VIF) measures the severity of multicollinearity in regression analysis. It is a statistical concept that indicates the increase in the variance of a regression coefficient as a result of collinearity."
   ]
  },
  {
   "cell_type": "markdown",
   "id": "f32edbd7",
   "metadata": {},
   "source": [
    "12.Why do we need to scale the data before feeding it to the train the model?      "
   ]
  },
  {
   "cell_type": "markdown",
   "id": "3cb4581d",
   "metadata": {},
   "source": [
    "Ans. Scaling of the data comes under the set of steps of data pre-processing when we are performing machine learning algorithms in the data set. As we know most of the supervised and unsupervised learning methods make decisions according to the data sets applied to them and often the algorithms calculate the distance between the data points to make better inferences out of the data."
   ]
  },
  {
   "cell_type": "markdown",
   "id": "28a86e50",
   "metadata": {},
   "source": [
    "13.What are the different metrics which are used to check the goodness of fit in linear regression?"
   ]
  },
  {
   "cell_type": "markdown",
   "id": "01887ba8",
   "metadata": {},
   "source": [
    "Ans. The metrics that are used to check the goodness of fit linear regression: \n",
    "    1) Mean Absolute Error(MAE)\n",
    "    2) Mean Squared Error(MSE)\n",
    "    3) Root Mean Squared Error(RMSE)\n",
    "    4) Root Mean Squared Log Error(RMSLE)"
   ]
  },
  {
   "cell_type": "code",
   "execution_count": null,
   "id": "d2a540d2",
   "metadata": {},
   "outputs": [],
   "source": []
  },
  {
   "cell_type": "code",
   "execution_count": null,
   "id": "08d9c004",
   "metadata": {},
   "outputs": [],
   "source": []
  },
  {
   "cell_type": "code",
   "execution_count": null,
   "id": "7882dfbc",
   "metadata": {},
   "outputs": [],
   "source": []
  }
 ],
 "metadata": {
  "kernelspec": {
   "display_name": "Python 3 (ipykernel)",
   "language": "python",
   "name": "python3"
  },
  "language_info": {
   "codemirror_mode": {
    "name": "ipython",
    "version": 3
   },
   "file_extension": ".py",
   "mimetype": "text/x-python",
   "name": "python",
   "nbconvert_exporter": "python",
   "pygments_lexer": "ipython3",
   "version": "3.9.13"
  }
 },
 "nbformat": 4,
 "nbformat_minor": 5
}
