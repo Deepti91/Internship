{
 "cells": [
  {
   "cell_type": "markdown",
   "id": "3d6fbb85",
   "metadata": {},
   "source": [
    "# ASSIGNMENT-1\n"
   ]
  },
  {
   "cell_type": "markdown",
   "id": "05f1eb51",
   "metadata": {},
   "source": [
    "WEB SCRAPING\n"
   ]
  },
  {
   "cell_type": "markdown",
   "id": "81af121b",
   "metadata": {},
   "source": [
    "In all the following questions, you have to use BeautifulSoup to scrape different websites and collect data as per \n",
    "the requirement of the question.\n"
   ]
  },
  {
   "cell_type": "markdown",
   "id": "44bbcb5e",
   "metadata": {},
   "source": [
    "1) Write a python program to display all the header tags from wikipedia.org and make data frame.\n"
   ]
  },
  {
   "cell_type": "code",
   "execution_count": 1,
   "id": "804846fb",
   "metadata": {
    "scrolled": true
   },
   "outputs": [
    {
     "name": "stdout",
     "output_type": "stream",
     "text": [
      "Collecting Bs4\n",
      "  Downloading bs4-0.0.1.tar.gz (1.1 kB)\n",
      "  Preparing metadata (setup.py): started\n",
      "  Preparing metadata (setup.py): finished with status 'done'\n",
      "Requirement already satisfied: beautifulsoup4 in c:\\users\\admin\\anaconda3\\lib\\site-packages (from Bs4) (4.11.1)\n",
      "Requirement already satisfied: soupsieve>1.2 in c:\\users\\admin\\anaconda3\\lib\\site-packages (from beautifulsoup4->Bs4) (2.3.1)\n",
      "Building wheels for collected packages: Bs4\n",
      "  Building wheel for Bs4 (setup.py): started\n",
      "  Building wheel for Bs4 (setup.py): finished with status 'done'\n",
      "  Created wheel for Bs4: filename=bs4-0.0.1-py3-none-any.whl size=1257 sha256=a7e6ab079ad6c566daa02295928f978a0dabdb7413fae3415b811a1da9c5ac05\n",
      "  Stored in directory: c:\\users\\admin\\appdata\\local\\pip\\cache\\wheels\\73\\2b\\cb\\099980278a0c9a3e57ff1a89875ec07bfa0b6fcbebb9a8cad3\n",
      "Successfully built Bs4\n",
      "Installing collected packages: Bs4\n",
      "Successfully installed Bs4-0.0.1\n",
      "Requirement already satisfied: requests in c:\\users\\admin\\anaconda3\\lib\\site-packages (2.28.1)\n",
      "Requirement already satisfied: urllib3<1.27,>=1.21.1 in c:\\users\\admin\\anaconda3\\lib\\site-packages (from requests) (1.26.11)\n",
      "Requirement already satisfied: certifi>=2017.4.17 in c:\\users\\admin\\anaconda3\\lib\\site-packages (from requests) (2022.9.14)\n",
      "Requirement already satisfied: charset-normalizer<3,>=2 in c:\\users\\admin\\anaconda3\\lib\\site-packages (from requests) (2.0.4)\n",
      "Requirement already satisfied: idna<4,>=2.5 in c:\\users\\admin\\anaconda3\\lib\\site-packages (from requests) (3.3)\n"
     ]
    }
   ],
   "source": [
    "!pip install Bs4\n",
    "!pip install requests"
   ]
  },
  {
   "cell_type": "code",
   "execution_count": 2,
   "id": "987edf75",
   "metadata": {},
   "outputs": [],
   "source": [
    "from bs4 import BeautifulSoup\n",
    "import requests"
   ]
  },
  {
   "cell_type": "code",
   "execution_count": 3,
   "id": "09bac867",
   "metadata": {},
   "outputs": [],
   "source": [
    "page = requests.get('https://en.wikipedia.org/wiki/Main_Page')\n"
   ]
  },
  {
   "cell_type": "code",
   "execution_count": 4,
   "id": "059c0cab",
   "metadata": {},
   "outputs": [
    {
     "data": {
      "text/plain": [
       "<Response [200]>"
      ]
     },
     "execution_count": 4,
     "metadata": {},
     "output_type": "execute_result"
    }
   ],
   "source": [
    "page\n"
   ]
  },
  {
   "cell_type": "code",
   "execution_count": 5,
   "id": "0d45e6f2",
   "metadata": {},
   "outputs": [
    {
     "data": {
      "text/plain": [
       "<!DOCTYPE html>\n",
       "<html class=\"client-nojs vector-feature-language-in-header-enabled vector-feature-language-in-main-page-header-disabled vector-feature-language-alert-in-sidebar-enabled vector-feature-sticky-header-disabled vector-feature-page-tools-disabled vector-feature-page-tools-pinned-disabled vector-feature-main-menu-pinned-disabled vector-feature-limited-width-enabled vector-feature-limited-width-content-enabled\" dir=\"ltr\" lang=\"en\">\n",
       "<head>\n",
       "<meta charset=\"utf-8\"/>\n",
       "<title>Wikipedia, the free encyclopedia</title>\n",
       "<script>document.documentElement.className=\"client-js vector-feature-language-in-header-enabled vector-feature-language-in-main-page-header-disabled vector-feature-language-alert-in-sidebar-enabled vector-feature-sticky-header-disabled vector-feature-page-tools-disabled vector-feature-page-tools-pinned-disabled vector-feature-main-menu-pinned-disabled vector-feature-limited-width-enabled vector-feature-limited-width-content-enabled\";(function(){var cookie=document.cookie.match(/(?:^|; )enwikimwclientprefs=([^;]+)/);if(cookie){var featureName=cookie[1];document.documentElement.className=document.documentElement.className.replace(featureName+'-enabled',featureName+'-disabled');}}());RLCONF={\"wgBreakFrames\":false,\"wgSeparatorTransformTable\":[\"\",\"\"],\"wgDigitTransformTable\":[\"\",\"\"],\"wgDefaultDateFormat\":\"dmy\",\"wgMonthNames\":[\"\",\"January\",\"February\",\"March\",\"April\",\"May\",\"June\",\"July\",\"August\",\"September\",\"October\",\"November\",\"December\"],\"wgRequestId\":\"cf9e6404-9807-4b66-ad20-6ec1a76f1f62\",\n",
       "\"wgCSPNonce\":false,\"wgCanonicalNamespace\":\"\",\"wgCanonicalSpecialPageName\":false,\"wgNamespaceNumber\":0,\"wgPageName\":\"Main_Page\",\"wgTitle\":\"Main Page\",\"wgCurRevisionId\":1114291180,\"wgRevisionId\":1114291180,\"wgArticleId\":15580374,\"wgIsArticle\":true,\"wgIsRedirect\":false,\"wgAction\":\"view\",\"wgUserName\":null,\"wgUserGroups\":[\"*\"],\"wgCategories\":[],\"wgPageContentLanguage\":\"en\",\"wgPageContentModel\":\"wikitext\",\"wgRelevantPageName\":\"Main_Page\",\"wgRelevantArticleId\":15580374,\"wgIsProbablyEditable\":false,\"wgRelevantPageIsProbablyEditable\":false,\"wgRestrictionEdit\":[\"sysop\"],\"wgRestrictionMove\":[\"sysop\"],\"wgIsMainPage\":true,\"wgFlaggedRevsParams\":{\"tags\":{\"status\":{\"levels\":1}}},\"wgVisualEditor\":{\"pageLanguageCode\":\"en\",\"pageLanguageDir\":\"ltr\",\"pageVariantFallbacks\":\"en\"},\"wgMFDisplayWikibaseDescriptions\":{\"search\":true,\"watchlist\":true,\"tagline\":false,\"nearby\":true},\"wgWMESchemaEditAttemptStepOversample\":false,\"wgWMEPageLength\":3000,\"wgNoticeProject\":\"wikipedia\",\"wgVector2022PreviewPages\":[],\n",
       "\"wgMediaViewerOnClick\":true,\"wgMediaViewerEnabledByDefault\":true,\"wgPopupsFlags\":10,\"wgULSCurrentAutonym\":\"English\",\"wgEditSubmitButtonLabelPublish\":true,\"wgCentralAuthMobileDomain\":false,\"wgULSPosition\":\"interlanguage\",\"wgULSisCompactLinksEnabled\":true,\"wgULSisLanguageSelectorEmpty\":false,\"wgWikibaseItemId\":\"Q5296\",\"GEHomepageSuggestedEditsEnableTopics\":true,\"wgGETopicsMatchModeEnabled\":false,\"wgGEStructuredTaskRejectionReasonTextInputEnabled\":false};RLSTATE={\"skins.vector.user.styles\":\"ready\",\"ext.globalCssJs.user.styles\":\"ready\",\"site.styles\":\"ready\",\"user.styles\":\"ready\",\"skins.vector.user\":\"ready\",\"ext.globalCssJs.user\":\"ready\",\"user\":\"ready\",\"user.options\":\"loading\",\"ext.tmh.player.styles\":\"ready\",\"mediawiki.ui.button\":\"ready\",\"skins.vector.styles\":\"ready\",\"skins.vector.icons\":\"ready\",\"mediawiki.ui.icon\":\"ready\",\"ext.visualEditor.desktopArticleTarget.noscript\":\"ready\",\"ext.wikimediaBadges\":\"ready\",\"ext.uls.interlanguage\":\"ready\"};RLPAGEMODULES=[\"ext.tmh.player\",\"site\",\n",
       "\"mediawiki.page.ready\",\"skins.vector.js\",\"skins.vector.es6\",\"mmv.head\",\"mmv.bootstrap.autostart\",\"ext.visualEditor.desktopArticleTarget.init\",\"ext.visualEditor.targetLoader\",\"ext.eventLogging\",\"ext.wikimediaEvents\",\"ext.navigationTiming\",\"ext.cx.eventlogging.campaigns\",\"ext.centralNotice.geoIP\",\"ext.centralNotice.startUp\",\"ext.gadget.ReferenceTooltips\",\"ext.gadget.charinsert\",\"ext.gadget.extra-toolbar-buttons\",\"ext.gadget.switcher\",\"ext.centralauth.centralautologin\",\"ext.popups\",\"ext.echo.centralauth\",\"ext.uls.interface\",\"wikibase.client.vector-2022\",\"ext.growthExperiments.SuggestedEditSession\"];</script>\n",
       "<script>(RLQ=window.RLQ||[]).push(function(){mw.loader.implement(\"user.options@12s5i\",function($,jQuery,require,module){mw.user.tokens.set({\"patrolToken\":\"+\\\\\",\"watchToken\":\"+\\\\\",\"csrfToken\":\"+\\\\\"});});});</script>\n",
       "<link href=\"/w/load.php?lang=en&amp;modules=ext.tmh.player.styles%7Cext.uls.interlanguage%7Cext.visualEditor.desktopArticleTarget.noscript%7Cext.wikimediaBadges%7Cmediawiki.ui.button%2Cicon%7Cskins.vector.icons%2Cstyles&amp;only=styles&amp;skin=vector-2022\" rel=\"stylesheet\"/>\n",
       "<script async=\"\" src=\"/w/load.php?lang=en&amp;modules=startup&amp;only=scripts&amp;raw=1&amp;skin=vector-2022\"></script>\n",
       "<meta content=\"\" name=\"ResourceLoaderDynamicStyles\"/>\n",
       "<link href=\"/w/load.php?lang=en&amp;modules=site.styles&amp;only=styles&amp;skin=vector-2022\" rel=\"stylesheet\"/>\n",
       "<meta content=\"MediaWiki 1.40.0-wmf.22\" name=\"generator\"/>\n",
       "<meta content=\"origin\" name=\"referrer\"/>\n",
       "<meta content=\"origin-when-crossorigin\" name=\"referrer\"/>\n",
       "<meta content=\"origin-when-cross-origin\" name=\"referrer\"/>\n",
       "<meta content=\"max-image-preview:standard\" name=\"robots\"/>\n",
       "<meta content=\"telephone=no\" name=\"format-detection\"/>\n",
       "<meta content=\"https://upload.wikimedia.org/wikipedia/commons/thumb/e/ef/2023_Turkey_Earthquake_Damage.jpg/1200px-2023_Turkey_Earthquake_Damage.jpg\" property=\"og:image\"/>\n",
       "<meta content=\"1200\" property=\"og:image:width\"/>\n",
       "<meta content=\"675\" property=\"og:image:height\"/>\n",
       "<meta content=\"https://upload.wikimedia.org/wikipedia/commons/thumb/e/ef/2023_Turkey_Earthquake_Damage.jpg/800px-2023_Turkey_Earthquake_Damage.jpg\" property=\"og:image\"/>\n",
       "<meta content=\"800\" property=\"og:image:width\"/>\n",
       "<meta content=\"450\" property=\"og:image:height\"/>\n",
       "<meta content=\"https://upload.wikimedia.org/wikipedia/commons/thumb/e/ef/2023_Turkey_Earthquake_Damage.jpg/640px-2023_Turkey_Earthquake_Damage.jpg\" property=\"og:image\"/>\n",
       "<meta content=\"640\" property=\"og:image:width\"/>\n",
       "<meta content=\"360\" property=\"og:image:height\"/>\n",
       "<meta content=\"width=1000\" name=\"viewport\"/>\n",
       "<meta content=\"Wikipedia, the free encyclopedia\" property=\"og:title\"/>\n",
       "<meta content=\"website\" property=\"og:type\"/>\n",
       "<link href=\"//upload.wikimedia.org\" rel=\"preconnect\"/>\n",
       "<link href=\"//en.m.wikipedia.org/wiki/Main_Page\" media=\"only screen and (max-width: 720px)\" rel=\"alternate\"/>\n",
       "<link href=\"/w/api.php?action=featuredfeed&amp;feed=potd&amp;feedformat=atom\" rel=\"alternate\" title=\"Wikipedia picture of the day feed\" type=\"application/atom+xml\"/>\n",
       "<link href=\"/w/api.php?action=featuredfeed&amp;feed=featured&amp;feedformat=atom\" rel=\"alternate\" title=\"Wikipedia featured articles feed\" type=\"application/atom+xml\"/>\n",
       "<link href=\"/w/api.php?action=featuredfeed&amp;feed=onthisday&amp;feedformat=atom\" rel=\"alternate\" title='Wikipedia \"On this day...\" feed' type=\"application/atom+xml\"/>\n",
       "<link href=\"/static/apple-touch/wikipedia.png\" rel=\"apple-touch-icon\"/>\n",
       "<link href=\"/static/favicon/wikipedia.ico\" rel=\"icon\"/>\n",
       "<link href=\"/w/opensearch_desc.php\" rel=\"search\" title=\"Wikipedia (en)\" type=\"application/opensearchdescription+xml\"/>\n",
       "<link href=\"//en.wikipedia.org/w/api.php?action=rsd\" rel=\"EditURI\" type=\"application/rsd+xml\"/>\n",
       "<link href=\"https://creativecommons.org/licenses/by-sa/3.0/\" rel=\"license\"/>\n",
       "<link href=\"https://en.wikipedia.org/wiki/Main_Page\" rel=\"canonical\"/>\n",
       "<link href=\"//meta.wikimedia.org\" rel=\"dns-prefetch\"/>\n",
       "<link href=\"//login.wikimedia.org\" rel=\"dns-prefetch\"/>\n",
       "</head>\n",
       "<body class=\"skin-vector skin-vector-search-vue vector-toc-pinned mediawiki ltr sitedir-ltr mw-hide-empty-elt ns-0 ns-subject page-Main_Page rootpage-Main_Page skin-vector-2022 action-view\"><div class=\"mw-page-container\">\n",
       "<a class=\"mw-jump-link\" href=\"#bodyContent\">Jump to content</a>\n",
       "<div class=\"mw-page-container-inner\">\n",
       "<input class=\"mw-checkbox-hack-checkbox\" id=\"mw-sidebar-checkbox\" type=\"checkbox\"/>\n",
       "<header class=\"mw-header mw-ui-icon-flush-left mw-ui-icon-flush-right\">\n",
       "<div class=\"vector-header-start\">\n",
       "<label aria-controls=\"mw-panel\" class=\"mw-checkbox-hack-button mw-ui-icon mw-ui-button mw-ui-quiet mw-ui-icon-element mw-ui-icon-flush-right\" data-event-name=\"ui.sidebar\" for=\"mw-sidebar-checkbox\" id=\"mw-sidebar-button\" role=\"button\" tabindex=\"0\" title=\"Main menu\">\n",
       "<span>Toggle sidebar</span>\n",
       "</label>\n",
       "<a class=\"mw-logo\" href=\"/wiki/Main_Page\">\n",
       "<img alt=\"\" aria-hidden=\"true\" class=\"mw-logo-icon\" height=\"50\" src=\"/static/images/icons/wikipedia.png\" width=\"50\"/>\n",
       "<span class=\"mw-logo-container\">\n",
       "<img alt=\"Wikipedia\" class=\"mw-logo-wordmark\" src=\"/static/images/mobile/copyright/wikipedia-wordmark-en.svg\" style=\"width: 7.5em; height: 1.125em;\"/>\n",
       "<img alt=\"The Free Encyclopedia\" class=\"mw-logo-tagline\" height=\"13\" src=\"/static/images/mobile/copyright/wikipedia-tagline-en.svg\" style=\"width: 7.3125em; height: 0.8125em;\" width=\"117\"/>\n",
       "</span>\n",
       "</a>\n",
       "</div>\n",
       "<div class=\"vector-header-end\">\n",
       "<div class=\"vector-search-box-vue vector-search-box-collapses vector-search-box-show-thumbnail vector-search-box-auto-expand-width vector-search-box\" id=\"p-search\" role=\"search\">\n",
       "<a accesskey=\"f\" class=\"mw-ui-button mw-ui-quiet mw-ui-icon mw-ui-icon-element mw-ui-icon-wikimedia-search search-toggle\" href=\"/wiki/Special:Search\" title=\"Search Wikipedia [f]\">\n",
       "<span>Search</span>\n",
       "</a>\n",
       "<div>\n",
       "<form action=\"/w/index.php\" class=\"vector-search-box-form\" id=\"searchform\">\n",
       "<div class=\"vector-search-box-inner\" data-search-loc=\"header-moved\" id=\"simpleSearch\">\n",
       "<input accesskey=\"f\" aria-label=\"Search Wikipedia\" autocapitalize=\"sentences\" class=\"vector-search-box-input\" id=\"searchInput\" name=\"search\" placeholder=\"Search Wikipedia\" title=\"Search Wikipedia [f]\" type=\"search\"/>\n",
       "<input name=\"title\" type=\"hidden\" value=\"Special:Search\"/>\n",
       "<input class=\"searchButton mw-fallbackSearchButton\" id=\"mw-searchButton\" name=\"fulltext\" title=\"Search Wikipedia for this text\" type=\"submit\" value=\"Search\"/>\n",
       "<input class=\"searchButton\" id=\"searchButton\" name=\"go\" title=\"Go to a page with this exact name if it exists\" type=\"submit\" value=\"Go\"/>\n",
       "</div>\n",
       "</form>\n",
       "</div>\n",
       "</div>\n",
       "<nav aria-label=\"Personal tools\" class=\"vector-user-links\" role=\"navigation\">\n",
       "<div class=\"vector-menu mw-portlet mw-portlet-vector-user-menu-overflow\" id=\"p-vector-user-menu-overflow\">\n",
       "<div class=\"vector-menu-heading\">\n",
       "</div>\n",
       "<div class=\"vector-menu-content\">\n",
       "<ul class=\"vector-menu-content-list\"><li class=\"user-links-collapsible-item mw-list-item\" id=\"pt-createaccount-2\"><a href=\"/w/index.php?title=Special:CreateAccount&amp;returnto=Main+Page\" title=\"You are encouraged to create an account and log in; however, it is not mandatory\"><span>Create account</span></a></li><li class=\"user-links-collapsible-item mw-list-item\" id=\"pt-login-2\"><a accesskey=\"o\" href=\"/w/index.php?title=Special:UserLogin&amp;returnto=Main+Page\" title=\"You're encouraged to log in; however, it's not mandatory. [o]\"><span>Log in</span></a></li></ul>\n",
       "</div>\n",
       "</div>\n",
       "<div class=\"vector-menu vector-dropdown vector-menu-dropdown mw-portlet mw-portlet-personal vector-user-menu vector-user-menu-logged-out\" id=\"p-personal\" title=\"Log in and more options\">\n",
       "<input aria-haspopup=\"true\" class=\"vector-menu-checkbox\" data-event-name=\"ui.dropdown-p-personal\" id=\"p-personal-checkbox\" role=\"button\" type=\"checkbox\"/>\n",
       "<label class=\"vector-menu-heading mw-checkbox-hack-button mw-ui-icon mw-ui-button mw-ui-quiet mw-ui-icon-element mw-ui-icon-wikimedia-ellipsis\" for=\"p-personal-checkbox\" id=\"p-personal-label\">\n",
       "<span class=\"vector-menu-heading-label\">Personal tools</span>\n",
       "</label>\n",
       "<div class=\"vector-menu-content\">\n",
       "<div class=\"vector-menu-content\">\n",
       "<ul class=\"vector-menu-content-list\"><li class=\"vector-user-menu-create-account user-links-collapsible-item\" id=\"pt-createaccount\"><a data-mw=\"interface\" href=\"/w/index.php?title=Special:CreateAccount&amp;returnto=Main+Page\" title=\"You are encouraged to create an account and log in; however, it is not mandatory\"><span class=\"mw-ui-icon mw-ui-icon-userAdd mw-ui-icon-wikimedia-userAdd\"></span><span>Create account</span></a>\n",
       "</li><li class=\"vector-user-menu-login user-links-collapsible-item\" id=\"pt-login\"><a accesskey=\"o\" data-mw=\"interface\" href=\"/w/index.php?title=Special:UserLogin&amp;returnto=Main+Page\" title=\"You're encouraged to log in; however, it's not mandatory. [o]\"><span class=\"mw-ui-icon mw-ui-icon-logIn mw-ui-icon-wikimedia-logIn\"></span><span>Log in</span></a>\n",
       "</li></ul>\n",
       "</div>\n",
       "<div class=\"vector-user-menu-anon-editor\">\n",
       "<p>\n",
       "\t\t\tPages for logged out editors <a aria-label=\"Learn more about editing\" data-mw=\"interface\" href=\"/wiki/Help:Introduction\"><span>learn more</span></a>\n",
       "</p>\n",
       "</div>\n",
       "<div class=\"vector-menu-content\">\n",
       "<ul class=\"vector-menu-content-list\"><li class=\"mw-list-item\" id=\"pt-anontalk\"><a accesskey=\"n\" href=\"/wiki/Special:MyTalk\" title=\"Discussion about edits from this IP address [n]\"><span>Talk</span></a></li><li class=\"mw-list-item\" id=\"pt-anoncontribs\"><a accesskey=\"y\" href=\"/wiki/Special:MyContributions\" title=\"A list of edits made from this IP address [y]\"><span>Contributions</span></a></li></ul>\n",
       "</div>\n",
       "</div>\n",
       "</div>\n",
       "</nav>\n",
       "</div>\n",
       "</header>\n",
       "<div class=\"vector-main-menu-container vector-sidebar-container-no-toc\">\n",
       "<div id=\"mw-navigation\">\n",
       "<nav aria-label=\"Site\" class=\"vector-main-menu-landmark\" id=\"mw-panel\" role=\"navigation\">\n",
       "<div class=\"vector-main-menu vector-pinnable-element\" id=\"vector-main-menu\">\n",
       "<div class=\"vector-main-menu-group vector-menu mw-portlet mw-portlet-navigation\" id=\"p-navigation\">\n",
       "<div class=\"vector-menu-heading\" id=\"p-navigation-label\">\n",
       "<span class=\"vector-menu-heading-label\">Navigation</span>\n",
       "</div>\n",
       "<div class=\"vector-menu-content\">\n",
       "<ul class=\"vector-menu-content-list\"><li class=\"mw-list-item\" id=\"n-mainpage-description\"><a accesskey=\"z\" href=\"/wiki/Main_Page\" title=\"Visit the main page [z]\"><span>Main page</span></a></li><li class=\"mw-list-item\" id=\"n-contents\"><a href=\"/wiki/Wikipedia:Contents\" title=\"Guides to browsing Wikipedia\"><span>Contents</span></a></li><li class=\"mw-list-item\" id=\"n-currentevents\"><a href=\"/wiki/Portal:Current_events\" title=\"Articles related to current events\"><span>Current events</span></a></li><li class=\"mw-list-item\" id=\"n-randompage\"><a accesskey=\"x\" href=\"/wiki/Special:Random\" title=\"Visit a randomly selected article [x]\"><span>Random article</span></a></li><li class=\"mw-list-item\" id=\"n-aboutsite\"><a href=\"/wiki/Wikipedia:About\" title=\"Learn about Wikipedia and how it works\"><span>About Wikipedia</span></a></li><li class=\"mw-list-item\" id=\"n-contactpage\"><a href=\"//en.wikipedia.org/wiki/Wikipedia:Contact_us\" title=\"How to contact Wikipedia\"><span>Contact us</span></a></li><li class=\"mw-list-item\" id=\"n-sitesupport\"><a href=\"https://donate.wikimedia.org/wiki/Special:FundraiserRedirector?utm_source=donate&amp;utm_medium=sidebar&amp;utm_campaign=C13_en.wikipedia.org&amp;uselang=en\" title=\"Support us by donating to the Wikimedia Foundation\"><span>Donate</span></a></li></ul>\n",
       "</div>\n",
       "</div>\n",
       "<div class=\"vector-main-menu-group vector-menu mw-portlet mw-portlet-interaction\" id=\"p-interaction\">\n",
       "<div class=\"vector-menu-heading\" id=\"p-interaction-label\">\n",
       "<span class=\"vector-menu-heading-label\">Contribute</span>\n",
       "</div>\n",
       "<div class=\"vector-menu-content\">\n",
       "<ul class=\"vector-menu-content-list\"><li class=\"mw-list-item\" id=\"n-help\"><a href=\"/wiki/Help:Contents\" title=\"Guidance on how to use and edit Wikipedia\"><span>Help</span></a></li><li class=\"mw-list-item\" id=\"n-introduction\"><a href=\"/wiki/Help:Introduction\" title=\"Learn how to edit Wikipedia\"><span>Learn to edit</span></a></li><li class=\"mw-list-item\" id=\"n-portal\"><a href=\"/wiki/Wikipedia:Community_portal\" title=\"The hub for editors\"><span>Community portal</span></a></li><li class=\"mw-list-item\" id=\"n-recentchanges\"><a accesskey=\"r\" href=\"/wiki/Special:RecentChanges\" title=\"A list of recent changes to Wikipedia [r]\"><span>Recent changes</span></a></li><li class=\"mw-list-item\" id=\"n-upload\"><a href=\"/wiki/Wikipedia:File_upload_wizard\" title=\"Add images or other media for use on Wikipedia\"><span>Upload file</span></a></li></ul>\n",
       "</div>\n",
       "</div>\n",
       "<div class=\"vector-main-menu-group vector-menu mw-portlet mw-portlet-tb\" id=\"p-tb\">\n",
       "<div class=\"vector-menu-heading\" id=\"p-tb-label\">\n",
       "<span class=\"vector-menu-heading-label\">Tools</span>\n",
       "</div>\n",
       "<div class=\"vector-menu-content\">\n",
       "<ul class=\"vector-menu-content-list\"><li class=\"mw-list-item\" id=\"t-whatlinkshere\"><a accesskey=\"j\" href=\"/wiki/Special:WhatLinksHere/Main_Page\" title=\"List of all English Wikipedia pages containing links to this page [j]\"><span>What links here</span></a></li><li class=\"mw-list-item\" id=\"t-recentchangeslinked\"><a accesskey=\"k\" href=\"/wiki/Special:RecentChangesLinked/Main_Page\" rel=\"nofollow\" title=\"Recent changes in pages linked from this page [k]\"><span>Related changes</span></a></li><li class=\"mw-list-item\" id=\"t-upload\"><a accesskey=\"u\" href=\"/wiki/Wikipedia:File_Upload_Wizard\" title=\"Upload files [u]\"><span>Upload file</span></a></li><li class=\"mw-list-item\" id=\"t-specialpages\"><a accesskey=\"q\" href=\"/wiki/Special:SpecialPages\" title=\"A list of all special pages [q]\"><span>Special pages</span></a></li><li class=\"mw-list-item\" id=\"t-permalink\"><a href=\"/w/index.php?title=Main_Page&amp;oldid=1114291180\" title=\"Permanent link to this revision of this page\"><span>Permanent link</span></a></li><li class=\"mw-list-item\" id=\"t-info\"><a href=\"/w/index.php?title=Main_Page&amp;action=info\" title=\"More information about this page\"><span>Page information</span></a></li><li class=\"mw-list-item\" id=\"t-cite\"><a href=\"/w/index.php?title=Special:CiteThisPage&amp;page=Main_Page&amp;id=1114291180&amp;wpFormIdentifier=titleform\" title=\"Information on how to cite this page\"><span>Cite this page</span></a></li><li class=\"mw-list-item\" id=\"t-wikibase\"><a accesskey=\"g\" href=\"https://www.wikidata.org/wiki/Special:EntityPage/Q5296\" title=\"Structured data on this page hosted by Wikidata [g]\"><span>Wikidata item</span></a></li></ul>\n",
       "</div>\n",
       "</div>\n",
       "<div class=\"vector-main-menu-group vector-menu mw-portlet mw-portlet-coll-print_export\" id=\"p-coll-print_export\">\n",
       "<div class=\"vector-menu-heading\" id=\"p-coll-print_export-label\">\n",
       "<span class=\"vector-menu-heading-label\">Print/export</span>\n",
       "</div>\n",
       "<div class=\"vector-menu-content\">\n",
       "<ul class=\"vector-menu-content-list\"><li class=\"mw-list-item\" id=\"coll-download-as-rl\"><a href=\"/w/index.php?title=Special:DownloadAsPdf&amp;page=Main_Page&amp;action=show-download-screen\" title=\"Download this page as a PDF file\"><span>Download as PDF</span></a></li><li class=\"mw-list-item\" id=\"t-print\"><a accesskey=\"p\" href=\"/w/index.php?title=Main_Page&amp;printable=yes\" title=\"Printable version of this page [p]\"><span>Printable version</span></a></li></ul>\n",
       "</div>\n",
       "</div>\n",
       "<div class=\"vector-main-menu-group vector-menu mw-portlet mw-portlet-wikibase-otherprojects\" id=\"p-wikibase-otherprojects\">\n",
       "<div class=\"vector-menu-heading\" id=\"p-wikibase-otherprojects-label\">\n",
       "<span class=\"vector-menu-heading-label\">In other projects</span>\n",
       "</div>\n",
       "<div class=\"vector-menu-content\">\n",
       "<ul class=\"vector-menu-content-list\"><li class=\"wb-otherproject-link wb-otherproject-commons mw-list-item\"><a href=\"https://commons.wikimedia.org/wiki/Main_Page\" hreflang=\"en\"><span>Wikimedia Commons</span></a></li><li class=\"wb-otherproject-link wb-otherproject-mediawiki mw-list-item\"><a href=\"https://www.mediawiki.org/wiki/MediaWiki\" hreflang=\"en\"><span>MediaWiki</span></a></li><li class=\"wb-otherproject-link wb-otherproject-meta mw-list-item\"><a href=\"https://meta.wikimedia.org/wiki/Main_Page\" hreflang=\"en\"><span>Meta-Wiki</span></a></li><li class=\"wb-otherproject-link wb-otherproject-sources mw-list-item\"><a href=\"https://wikisource.org/wiki/Main_Page\" hreflang=\"en\"><span>Multilingual Wikisource</span></a></li><li class=\"wb-otherproject-link wb-otherproject-species mw-list-item\"><a href=\"https://species.wikimedia.org/wiki/Main_Page\" hreflang=\"en\"><span>Wikispecies</span></a></li><li class=\"wb-otherproject-link wb-otherproject-wikibooks mw-list-item\"><a href=\"https://en.wikibooks.org/wiki/Main_Page\" hreflang=\"en\"><span>Wikibooks</span></a></li><li class=\"wb-otherproject-link wb-otherproject-wikidata mw-list-item\"><a href=\"https://www.wikidata.org/wiki/Wikidata:Main_Page\" hreflang=\"en\"><span>Wikidata</span></a></li><li class=\"wb-otherproject-link wb-otherproject-wikimania mw-list-item\"><a href=\"https://wikimania.wikimedia.org/wiki/2022:Wikimania\" hreflang=\"en\"><span>Wikimania</span></a></li><li class=\"wb-otherproject-link wb-otherproject-wikinews mw-list-item\"><a href=\"https://en.wikinews.org/wiki/Main_Page\" hreflang=\"en\"><span>Wikinews</span></a></li><li class=\"wb-otherproject-link wb-otherproject-wikiquote mw-list-item\"><a href=\"https://en.wikiquote.org/wiki/Main_Page\" hreflang=\"en\"><span>Wikiquote</span></a></li><li class=\"wb-otherproject-link wb-otherproject-wikisource mw-list-item\"><a href=\"https://en.wikisource.org/wiki/Main_Page\" hreflang=\"en\"><span>Wikisource</span></a></li><li class=\"wb-otherproject-link wb-otherproject-wikiversity mw-list-item\"><a href=\"https://en.wikiversity.org/wiki/Wikiversity:Main_Page\" hreflang=\"en\"><span>Wikiversity</span></a></li><li class=\"wb-otherproject-link wb-otherproject-wikivoyage mw-list-item\"><a href=\"https://en.wikivoyage.org/wiki/Main_Page\" hreflang=\"en\"><span>Wikivoyage</span></a></li><li class=\"wb-otherproject-link wb-otherproject-wiktionary mw-list-item\"><a href=\"https://en.wiktionary.org/wiki/Wiktionary:Main_Page\" hreflang=\"en\"><span>Wiktionary</span></a></li></ul>\n",
       "</div>\n",
       "</div>\n",
       "</div>\n",
       "</nav>\n",
       "</div>\n",
       "</div>\n",
       "<div class=\"vector-sitenotice-container\">\n",
       "<div id=\"siteNotice\"><!-- CentralNotice --></div>\n",
       "</div>\n",
       "<input class=\"mw-checkbox-hack-checkbox\" id=\"vector-toc-collapsed-checkbox\" type=\"checkbox\"/>\n",
       "<nav aria-label=\"Contents\" class=\"mw-table-of-contents-container\" data-event-name=\"ui.sidebar-toc\" id=\"mw-panel-toc\" role=\"navigation\">\n",
       "</nav>\n",
       "<div class=\"mw-content-container\">\n",
       "<main class=\"mw-body\" id=\"content\" role=\"main\">\n",
       "<header class=\"mw-body-header vector-page-titlebar vector-page-titlebar-blank\">\n",
       "<label aria-controls=\"toc-toggle-list\" class=\"mw-ui-button mw-ui-quiet mw-ui-icon mw-ui-icon-flush-left mw-ui-icon-element mw-ui-icon-wikimedia-listBullet mw-checkbox-hack-button\" data-event-name=\"vector.toc-toggle-list\" for=\"vector-toc-collapsed-checkbox\" id=\"vector-toc-collapsed-button\" role=\"button\" tabindex=\"0\" title=\"Table of Contents\">\n",
       "\t\t\t\t\t\tToggle the table of contents\n",
       "\t\t\t\t\t</label>\n",
       "<h1 class=\"firstHeading mw-first-heading\" id=\"firstHeading\" style=\"display: none\"><span class=\"mw-page-title-main\">Main Page</span></h1>\n",
       "<div class=\"mw-indicators\">\n",
       "</div>\n",
       "</header>\n",
       "<div class=\"vector-page-toolbar\">\n",
       "<div class=\"vector-page-toolbar-container\">\n",
       "<div id=\"left-navigation\">\n",
       "<nav aria-label=\"Namespaces\">\n",
       "<div class=\"vector-menu vector-menu-tabs mw-portlet mw-portlet-associated-pages\" id=\"p-associated-pages\">\n",
       "<div class=\"vector-menu-content\">\n",
       "<ul class=\"vector-menu-content-list\"><li class=\"selected vector-tab-noicon mw-list-item\" id=\"ca-nstab-main\"><a accesskey=\"c\" href=\"/wiki/Main_Page\" title=\"View the content page [c]\"><span>Main Page</span></a></li><li class=\"vector-tab-noicon mw-list-item\" id=\"ca-talk\"><a accesskey=\"t\" href=\"/wiki/Talk:Main_Page\" rel=\"discussion\" title=\"Discuss improvements to the content page [t]\"><span>Talk</span></a></li></ul>\n",
       "</div>\n",
       "</div>\n",
       "<div class=\"vector-menu vector-dropdown vector-menu-dropdown mw-portlet mw-portlet-variants emptyPortlet\" id=\"p-variants\">\n",
       "<input aria-haspopup=\"true\" aria-label=\"Change language variant\" class=\"vector-menu-checkbox\" data-event-name=\"ui.dropdown-p-variants\" id=\"p-variants-checkbox\" role=\"button\" type=\"checkbox\"/>\n",
       "<label class=\"vector-menu-heading\" for=\"p-variants-checkbox\" id=\"p-variants-label\">\n",
       "<span class=\"vector-menu-heading-label\">English</span>\n",
       "</label>\n",
       "<div class=\"vector-menu-content\">\n",
       "<div class=\"vector-menu-content\">\n",
       "<ul class=\"vector-menu-content-list\"></ul>\n",
       "</div>\n",
       "</div>\n",
       "</div>\n",
       "</nav>\n",
       "</div>\n",
       "<div class=\"vector-collapsible\" id=\"right-navigation\">\n",
       "<nav aria-label=\"Views\">\n",
       "<div class=\"vector-menu vector-menu-tabs mw-portlet mw-portlet-views\" id=\"p-views\">\n",
       "<div class=\"vector-menu-content\">\n",
       "<ul class=\"vector-menu-content-list\"><li class=\"selected vector-tab-noicon mw-list-item\" id=\"ca-view\"><a href=\"/wiki/Main_Page\"><span>Read</span></a></li><li class=\"vector-tab-noicon mw-list-item\" id=\"ca-viewsource\"><a accesskey=\"e\" href=\"/w/index.php?title=Main_Page&amp;action=edit\" title=\"This page is protected.\n",
       "You can view its source [e]\"><span>View source</span></a></li><li class=\"vector-tab-noicon mw-list-item\" id=\"ca-history\"><a accesskey=\"h\" href=\"/w/index.php?title=Main_Page&amp;action=history\" title=\"Past revisions of this page [h]\"><span>View history</span></a></li></ul>\n",
       "</div>\n",
       "</div>\n",
       "</nav>\n",
       "<nav aria-label=\"More options\" class=\"vector-page-tools-landmark\">\n",
       "<div class=\"vector-menu vector-dropdown vector-menu-dropdown mw-portlet mw-portlet-cactions emptyPortlet vector-has-collapsible-items\" id=\"p-cactions\" title=\"More options\">\n",
       "<input aria-haspopup=\"true\" class=\"vector-menu-checkbox\" data-event-name=\"ui.dropdown-p-cactions\" id=\"p-cactions-checkbox\" role=\"button\" type=\"checkbox\"/>\n",
       "<label class=\"vector-menu-heading\" for=\"p-cactions-checkbox\" id=\"p-cactions-label\">\n",
       "<span class=\"vector-menu-heading-label\">More</span>\n",
       "</label>\n",
       "<div class=\"vector-menu-content\">\n",
       "<div class=\"vector-menu-content\">\n",
       "<ul class=\"vector-menu-content-list\"><li class=\"selected vector-more-collapsible-item mw-list-item\" id=\"ca-more-view\"><a href=\"/wiki/Main_Page\"><span>Read</span></a></li><li class=\"vector-more-collapsible-item mw-list-item\" id=\"ca-more-viewsource\"><a href=\"/w/index.php?title=Main_Page&amp;action=edit\"><span>View source</span></a></li><li class=\"vector-more-collapsible-item mw-list-item\" id=\"ca-more-history\"><a href=\"/w/index.php?title=Main_Page&amp;action=history\"><span>View history</span></a></li></ul>\n",
       "</div>\n",
       "</div>\n",
       "</div>\n",
       "</nav>\n",
       "</div>\n",
       "</div>\n",
       "</div>\n",
       "<div aria-labelledby=\"firstHeading\" class=\"vector-body\" data-mw-ve-target-container=\"\" id=\"bodyContent\">\n",
       "<div class=\"vector-body-before-content\">\n",
       "<div class=\"noprint\" id=\"siteSub\">From Wikipedia, the free encyclopedia</div>\n",
       "</div>\n",
       "<div id=\"contentSub\"><div id=\"mw-content-subtitle\"></div></div>\n",
       "<div class=\"mw-body-content mw-content-ltr\" dir=\"ltr\" id=\"mw-content-text\" lang=\"en\"><div class=\"mw-parser-output\"><style data-mw-deduplicate=\"TemplateStyles:r1131603205\">.mw-parser-output .mp-box{border:1px solid #aaa;padding:0 0.5em 0.5em;margin-top:4px}.mw-parser-output .mp-h2,body.skin-timeless .mw-parser-output .mp-h2{border:1px solid #aaa;margin:0.5em 0;padding:0.2em 0.4em;font-size:120%;font-weight:bold;font-family:inherit}.mw-parser-output .mp-later{font-size:85%;font-weight:normal}.mw-parser-output #mp-topbanner{background:#f9f9f9;border-color:#ddd}.mw-parser-output #mp-welcomecount{text-align:center;margin:0.4em}.mw-parser-output #mp-welcome{font-size:162%;padding:0.1em}.mw-parser-output #mp-welcome h1{font-size:inherit;font-family:inherit;display:inline;border:none}.mw-parser-output #mp-free{font-size:95%}.mw-parser-output #articlecount{font-size:85%}.mw-parser-output .mp-contains-float::after{content:\"\";display:block;clear:both}.mw-parser-output #mp-banner{background:#fffaf5;border-color:#f2e0ce}.mw-parser-output #mp-left{background:#f5fffa;border-color:#cef2e0}.mw-parser-output #mp-left .mp-h2{background:#cef2e0;border-color:#a3bfb1}.mw-parser-output #mp-right{background:#f5faff;border-color:#cedff2}.mw-parser-output #mp-right .mp-h2{background:#cedff2;border-color:#a3b0bf}.mw-parser-output #mp-middle{background:#fff5fa;border-color:#f2cedd}.mw-parser-output #mp-middle .mp-h2{background:#f2cedd;border-color:#bfa3af}.mw-parser-output #mp-lower{background:#faf5ff;border-color:#ddcef2}.mw-parser-output #mp-lower .mp-h2{background:#ddcef2;border-color:#afa3bf}.mw-parser-output #mp-bottom{border-color:#e2e2e2}.mw-parser-output #mp-bottom .mp-h2{background:#eee;border-color:#ddd}@media(max-width:875px){.mw-parser-output #mp-tfp table,.mw-parser-output #mp-tfp tr,.mw-parser-output #mp-tfp td,.mw-parser-output #mp-tfp tbody{display:block!important;width:100%!important;box-sizing:border-box}.mw-parser-output #mp-tfp tr:first-child td:first-child a{text-align:center;display:table;margin:0 auto}}@media(min-width:875px){.mw-parser-output #mp-upper{display:flex}.mw-parser-output #mp-left{flex:1 1 55%;margin-right:2px}.mw-parser-output #mp-right{flex:1 1 45%;margin-left:2px}}</style>\n",
       "<div class=\"mp-box\" id=\"mp-topbanner\">\n",
       "<div id=\"mp-welcomecount\">\n",
       "<div id=\"mp-welcome\"><h1><span class=\"mw-headline\" id=\"Welcome_to_Wikipedia\">Welcome to <a href=\"/wiki/Wikipedia\" title=\"Wikipedia\">Wikipedia</a></span></h1>,</div>\n",
       "<div id=\"mp-free\">the <a href=\"/wiki/Free_content\" title=\"Free content\">free</a> <a href=\"/wiki/Encyclopedia\" title=\"Encyclopedia\">encyclopedia</a> that <a href=\"/wiki/Help:Introduction_to_Wikipedia\" title=\"Help:Introduction to Wikipedia\">anyone can edit</a>.</div>\n",
       "<div id=\"articlecount\"><a href=\"/wiki/Special:Statistics\" title=\"Special:Statistics\">6,616,134</a> articles in <a href=\"/wiki/English_language\" title=\"English language\">English</a></div>\n",
       "</div>\n",
       "</div>\n",
       "<div id=\"mp-upper\">\n",
       "<div class=\"MainPageBG mp-box\" id=\"mp-left\">\n",
       "<h2 class=\"mp-h2\" id=\"mp-tfa-h2\"><span id=\"From_today.27s_featured_article\"></span><span class=\"mw-headline\" id=\"From_today's_featured_article\">From today's featured article</span></h2>\n",
       "<div class=\"mp-contains-float\" id=\"mp-tfa\"><div id=\"mp-tfa-img\" style=\"float: left; margin: 0.5em 0.9em 0.4em 0em;\">\n",
       "<div class=\"thumbinner mp-thumb\" style=\"background: transparent; border: none; padding: 0; max-width: 115px;\">\n",
       "<a class=\"image\" href=\"/wiki/File:Fatima_Whitbread_2.jpg\" title=\"Fatima Whitbread\"><img alt=\"Fatima Whitbread\" data-file-height=\"529\" data-file-width=\"359\" decoding=\"async\" height=\"169\" src=\"//upload.wikimedia.org/wikipedia/commons/thumb/1/17/Fatima_Whitbread_2.jpg/115px-Fatima_Whitbread_2.jpg\" srcset=\"//upload.wikimedia.org/wikipedia/commons/thumb/1/17/Fatima_Whitbread_2.jpg/173px-Fatima_Whitbread_2.jpg 1.5x, //upload.wikimedia.org/wikipedia/commons/thumb/1/17/Fatima_Whitbread_2.jpg/230px-Fatima_Whitbread_2.jpg 2x\" width=\"115\"/></a></div>\n",
       "</div>\n",
       "<p><b><a href=\"/wiki/Fatima_Whitbread\" title=\"Fatima Whitbread\">Fatima Whitbread</a></b> (born 1961) is a retired British <a href=\"/wiki/Javelin_throw\" title=\"Javelin throw\">javelin thrower</a>. She broke the <a href=\"/wiki/Women%27s_javelin_throw_world_record_progression\" title=\"Women's javelin throw world record progression\">women's javelin throw world record</a> with a throw of 77.44 metres (254 ft <style data-mw-deduplicate=\"TemplateStyles:r1020198016\">.mw-parser-output .frac{white-space:nowrap}.mw-parser-output .frac .num,.mw-parser-output .frac .den{font-size:80%;line-height:0;vertical-align:super}.mw-parser-output .frac .den{vertical-align:sub}.mw-parser-output .sr-only{border:0;clip:rect(0,0,0,0);height:1px;margin:-1px;overflow:hidden;padding:0;position:absolute;width:1px}</style><span class=\"frac\" role=\"math\"><span class=\"num\">3</span>⁄<span class=\"den\">4</span></span> in) at the <a href=\"/wiki/1986_European_Athletics_Championships\" title=\"1986 European Athletics Championships\">1986 European Athletics Championships</a> in <a href=\"/wiki/Stuttgart\" title=\"Stuttgart\">Stuttgart</a>, and also won the European title that year. She took the gold medal at the <a href=\"/wiki/1987_World_Championships_in_Athletics\" title=\"1987 World Championships in Athletics\">1987 World Championships in Athletics</a> and is a two-time Olympic medallist, winning bronze at the <a href=\"/wiki/1984_Summer_Olympics\" title=\"1984 Summer Olympics\">1984 games</a> and silver at the <a href=\"/wiki/1988_Summer_Olympics\" title=\"1988 Summer Olympics\">1988 games</a>. She was voted <a href=\"/wiki/BBC_Sports_Personality_of_the_Year_Award\" title=\"BBC Sports Personality of the Year Award\">BBC Sports Personality of the Year</a> in 1987. During her career, she had a well-publicised rivalry with another British javelin athlete, <a href=\"/wiki/Tessa_Sanderson\" title=\"Tessa Sanderson\">Tessa Sanderson</a>. Her later career was affected by a persistent shoulder injury, and in 1992 she retired from competition. She has since appeared on several television programmes, including <i><a href=\"/wiki/I%27m_a_Celebrity...Get_Me_Out_of_Here!_(British_series_11)\" title=\"I'm a Celebrity...Get Me Out of Here! (British series 11)\">I'm a Celebrity ... Get Me Out of Here!</a></i> in 2011. Whitbread was named the <a href=\"/wiki/Sports_Journalists%27_Association\" title=\"Sports Journalists' Association\">Sports Writers' Association</a> Sportswoman of the Year in 1986 and 1987. She was appointed a <a href=\"/wiki/Order_of_the_British_Empire\" title=\"Order of the British Empire\">Member of the Order of the British Empire</a> for services to athletics. (<b><a href=\"/wiki/Fatima_Whitbread\" title=\"Fatima Whitbread\">Full article...</a></b>)\n",
       "</p>\n",
       "<div class=\"tfa-recent\" style=\"text-align: right;\">\n",
       "Recently featured: <style data-mw-deduplicate=\"TemplateStyles:r1129693374\">.mw-parser-output .hlist dl,.mw-parser-output .hlist ol,.mw-parser-output .hlist ul{margin:0;padding:0}.mw-parser-output .hlist dd,.mw-parser-output .hlist dt,.mw-parser-output .hlist li{margin:0;display:inline}.mw-parser-output .hlist.inline,.mw-parser-output .hlist.inline dl,.mw-parser-output .hlist.inline ol,.mw-parser-output .hlist.inline ul,.mw-parser-output .hlist dl dl,.mw-parser-output .hlist dl ol,.mw-parser-output .hlist dl ul,.mw-parser-output .hlist ol dl,.mw-parser-output .hlist ol ol,.mw-parser-output .hlist ol ul,.mw-parser-output .hlist ul dl,.mw-parser-output .hlist ul ol,.mw-parser-output .hlist ul ul{display:inline}.mw-parser-output .hlist .mw-empty-li{display:none}.mw-parser-output .hlist dt::after{content:\": \"}.mw-parser-output .hlist dd::after,.mw-parser-output .hlist li::after{content:\" · \";font-weight:bold}.mw-parser-output .hlist dd:last-child::after,.mw-parser-output .hlist dt:last-child::after,.mw-parser-output .hlist li:last-child::after{content:none}.mw-parser-output .hlist dd dd:first-child::before,.mw-parser-output .hlist dd dt:first-child::before,.mw-parser-output .hlist dd li:first-child::before,.mw-parser-output .hlist dt dd:first-child::before,.mw-parser-output .hlist dt dt:first-child::before,.mw-parser-output .hlist dt li:first-child::before,.mw-parser-output .hlist li dd:first-child::before,.mw-parser-output .hlist li dt:first-child::before,.mw-parser-output .hlist li li:first-child::before{content:\" (\";font-weight:normal}.mw-parser-output .hlist dd dd:last-child::after,.mw-parser-output .hlist dd dt:last-child::after,.mw-parser-output .hlist dd li:last-child::after,.mw-parser-output .hlist dt dd:last-child::after,.mw-parser-output .hlist dt dt:last-child::after,.mw-parser-output .hlist dt li:last-child::after,.mw-parser-output .hlist li dd:last-child::after,.mw-parser-output .hlist li dt:last-child::after,.mw-parser-output .hlist li li:last-child::after{content:\")\";font-weight:normal}.mw-parser-output .hlist ol{counter-reset:listitem}.mw-parser-output .hlist ol>li{counter-increment:listitem}.mw-parser-output .hlist ol>li::before{content:\" \"counter(listitem)\"\\a0 \"}.mw-parser-output .hlist dd ol>li:first-child::before,.mw-parser-output .hlist dt ol>li:first-child::before,.mw-parser-output .hlist li ol>li:first-child::before{content:\" (\"counter(listitem)\"\\a0 \"}</style><div class=\"hlist inline\">\n",
       "<ul><li><a href=\"/wiki/George_Andrew_Davis_Jr.\" title=\"George Andrew Davis Jr.\">George Andrew Davis Jr.</a></li>\n",
       "<li><a href=\"/wiki/Forest_raven\" title=\"Forest raven\">Forest raven</a></li>\n",
       "<li><a href=\"/wiki/Northolt_siege\" title=\"Northolt siege\">Northolt siege</a></li></ul>\n",
       "</div></div>\n",
       "<link href=\"mw-data:TemplateStyles:r1129693374\" rel=\"mw-deduplicated-inline-style\"/><div class=\"hlist tfa-footer noprint\" style=\"text-align:right;\">\n",
       "<ul><li><b><a href=\"/wiki/Wikipedia:Today%27s_featured_article/February_2023\" title=\"Wikipedia:Today's featured article/February 2023\">Archive</a></b></li>\n",
       "<li><b><a class=\"extiw\" href=\"https://lists.wikimedia.org/postorius/lists/daily-article-l.lists.wikimedia.org/\" title=\"mail:daily-article-l\">By email</a></b></li>\n",
       "<li><b><a href=\"/wiki/Wikipedia:Featured_articles\" title=\"Wikipedia:Featured articles\">More featured articles</a></b></li>\n",
       "<li><b><a href=\"/wiki/Wikipedia:About_Today%27s_featured_article\" title=\"Wikipedia:About Today's featured article\">About</a></b></li></ul>\n",
       "</div></div>\n",
       "<h2 class=\"mp-h2\" id=\"mp-dyk-h2\"><span class=\"mw-headline\" id=\"Did_you_know_...\">Did you know ...</span></h2>\n",
       "<div class=\"mp-contains-float\" id=\"mp-dyk\">\n",
       "<div class=\"dyk-img\" style=\"float: right; margin-left: 0.5em;\">\n",
       "<div class=\"thumbinner mp-thumb\" style=\"background: transparent; border: none; padding: 0; max-width: 109px;\">\n",
       "<a class=\"image\" href=\"/wiki/File:Grotto_of_Our_Lady_of_Lourdes_in_1896_cropped.jpg\" title=\"Grotto of Our Lady of Lourdes, Notre Dame\"><img alt=\"Grotto of Our Lady of Lourdes, Notre Dame\" data-file-height=\"2476\" data-file-width=\"1508\" decoding=\"async\" height=\"179\" src=\"//upload.wikimedia.org/wikipedia/commons/thumb/e/e8/Grotto_of_Our_Lady_of_Lourdes_in_1896_cropped.jpg/109px-Grotto_of_Our_Lady_of_Lourdes_in_1896_cropped.jpg\" srcset=\"//upload.wikimedia.org/wikipedia/commons/thumb/e/e8/Grotto_of_Our_Lady_of_Lourdes_in_1896_cropped.jpg/164px-Grotto_of_Our_Lady_of_Lourdes_in_1896_cropped.jpg 1.5x, //upload.wikimedia.org/wikipedia/commons/thumb/e/e8/Grotto_of_Our_Lady_of_Lourdes_in_1896_cropped.jpg/218px-Grotto_of_Our_Lady_of_Lourdes_in_1896_cropped.jpg 2x\" width=\"109\"/></a><div class=\"thumbcaption\" style=\"padding: 0.25em 0; word-wrap: break-word;\">Grotto of Our Lady of Lourdes, Notre Dame</div></div>\n",
       "</div>\n",
       "<ul><li>... that the <b><a href=\"/wiki/Grotto_of_Our_Lady_of_Lourdes,_Notre_Dame\" title=\"Grotto of Our Lady of Lourdes, Notre Dame\">Grotto of Our Lady of Lourdes at the University of Notre Dame</a></b> <i>(pictured)</i> contains two stones originally from <a href=\"/wiki/Sanctuary_of_Our_Lady_of_Lourdes#Grotto_of_Massabielle\" title=\"Sanctuary of Our Lady of Lourdes\">the grotto</a> at which <a href=\"/wiki/Our_Lady_of_Lourdes\" title=\"Our Lady of Lourdes\">Our Lady of Lourdes</a> is said to have appeared to <a href=\"/wiki/Bernadette_Soubirous\" title=\"Bernadette Soubirous\">Saint Bernadette</a>?</li>\n",
       "<li>... that <a href=\"/wiki/Elwood_Edwards\" title=\"Elwood Edwards\">the \"You've Got Mail\" voice actor</a> was one of dozens of people fired from <b><a href=\"/wiki/WVPX-TV\" title=\"WVPX-TV\">an Ohio TV station</a></b> after its takeover by <a href=\"/wiki/Ion_Media\" title=\"Ion Media\">Paxson Communications</a>?</li>\n",
       "<li>... that <b><a href=\"/wiki/Paul_Freeman_(communist)\" title=\"Paul Freeman (communist)\">Paul Freeman</a></b> became one of the few Westerners interred at the <a href=\"/wiki/Kremlin_Wall_Necropolis\" title=\"Kremlin Wall Necropolis\">Kremlin Wall Necropolis</a>, following his death in <a href=\"/wiki/Aerowagon\" title=\"Aerowagon\">an experimental propeller-driven Soviet railcar</a>?</li>\n",
       "<li>... that <a href=\"/wiki/Lewis_Fry_Richardson\" title=\"Lewis Fry Richardson\">Lewis Fry Richardson</a>'s <i><b><a href=\"/wiki/Statistics_of_Deadly_Quarrels\" title=\"Statistics of Deadly Quarrels\">Statistics of Deadly Quarrels</a></b></i> suggested that the establishment of a <a href=\"/wiki/World_government\" title=\"World government\">world government</a> might end wars?</li>\n",
       "<li>... that a bloodied fingerprint on newspaper was the central piece of evidence in the <b><a href=\"/wiki/Murder_of_Vivianne_Ruiz_(Jane_Doe)\" title=\"Murder of Vivianne Ruiz (Jane Doe)\">murder of Vivianne Ruiz</a></b>?</li>\n",
       "<li>... that <a href=\"/wiki/Sylvia_Plath\" title=\"Sylvia Plath\">Sylvia Plath</a> criticized <b><a href=\"/wiki/Two_Lovers_and_a_Beachcomber_by_the_Real_Sea\" title=\"Two Lovers and a Beachcomber by the Real Sea\">her own award-winning poem</a></b> for its \"old crystal-brittle and sugar-faceted voice\"?</li>\n",
       "<li>... that <b><a href=\"/wiki/Edward_A._Hanna\" title=\"Edward A. Hanna\">Edward A. Hanna</a></b> wanted to eliminate the <a href=\"/wiki/New_York_State_Assembly\" title=\"New York State Assembly\">New York State Assembly</a> while he served in it, and later wanted to close down the government of the city of <a href=\"/wiki/Utica,_New_York\" title=\"Utica, New York\">Utica</a> while he was its mayor?</li>\n",
       "<li>... that <b><a href=\"/wiki/Pulaski%27s_Masterpiece\" title=\"Pulaski's Masterpiece\">Pulaski's Masterpiece</a></b>, billed as the \"world's most valuable dog\", disappeared without a trace in 1953?</li></ul>\n",
       "<link href=\"mw-data:TemplateStyles:r1129693374\" rel=\"mw-deduplicated-inline-style\"/><div class=\"hlist dyk-footer noprint\" style=\"margin-top: 0.5em; text-align: right;\">\n",
       "<ul><li><b><a href=\"/wiki/Wikipedia:Recent_additions\" title=\"Wikipedia:Recent additions\">Archive</a></b></li>\n",
       "<li><b><a href=\"/wiki/Help:Your_first_article\" title=\"Help:Your first article\">Start a new article</a></b></li>\n",
       "<li><b><a href=\"/wiki/Template_talk:Did_you_know\" title=\"Template talk:Did you know\">Nominate an article</a></b></li></ul>\n",
       "</div>\n",
       "</div>\n",
       "</div>\n",
       "<div class=\"MainPageBG mp-box\" id=\"mp-right\">\n",
       "<h2 class=\"mp-h2\" id=\"mp-itn-h2\"><span class=\"mw-headline\" id=\"In_the_news\">In the news</span></h2>\n",
       "<div class=\"mp-contains-float\" id=\"mp-itn\"><style data-mw-deduplicate=\"TemplateStyles:r1053378754\">.mw-parser-output .itn-img{float:right;margin-left:0.5em;margin-top:0.2em}</style><div class=\"itn-img\" role=\"figure\">\n",
       "<div class=\"thumbinner mp-thumb\" style=\"background: transparent; border: none; padding: 0; max-width: 187px;\">\n",
       "<a class=\"image\" href=\"/wiki/File:2023_Turkey_Earthquake_Damage.jpg\" title=\"Earthquake damage in Diyarbakır\"><img alt=\"Rescuers in winter jackets, two of them in firefighter uniforms, standing in front and on top of the rubble of a collapsed commercial centre.\" data-file-height=\"1134\" data-file-width=\"2016\" decoding=\"async\" height=\"105\" src=\"//upload.wikimedia.org/wikipedia/commons/thumb/e/ef/2023_Turkey_Earthquake_Damage.jpg/187px-2023_Turkey_Earthquake_Damage.jpg\" srcset=\"//upload.wikimedia.org/wikipedia/commons/thumb/e/ef/2023_Turkey_Earthquake_Damage.jpg/281px-2023_Turkey_Earthquake_Damage.jpg 1.5x, //upload.wikimedia.org/wikipedia/commons/thumb/e/ef/2023_Turkey_Earthquake_Damage.jpg/374px-2023_Turkey_Earthquake_Damage.jpg 2x\" width=\"187\"/></a><div class=\"thumbcaption\" style=\"padding: 0.25em 0; word-wrap: break-word; text-align: left;\">Earthquake damage in <a href=\"/wiki/Diyarbak%C4%B1r\" title=\"Diyarbakır\">Diyarbakır</a></div></div>\n",
       "</div>\n",
       "<ul><li><b><a href=\"/wiki/2023_Turkey%E2%80%93Syria_earthquake\" title=\"2023 Turkey–Syria earthquake\">An earthquake</a></b> <i>(damage pictured)</i> strikes Turkey and Syria, killing over 25,000 people and injuring more than 87,000 others.</li>\n",
       "<li>Former <a href=\"/wiki/President_of_Pakistan\" title=\"President of Pakistan\">Pakistani president</a> <b><a href=\"/wiki/Pervez_Musharraf\" title=\"Pervez Musharraf\">Pervez Musharraf</a></b> dies at the <span class=\"nowrap\">age of 79</span>.</li>\n",
       "<li><b><a href=\"/wiki/2023_Chinese_balloon_incident\" title=\"2023 Chinese balloon incident\">A Chinese balloon</a></b> suspected of <a href=\"/wiki/Observation_balloon\" title=\"Observation balloon\">surveillance and espionage</a> is shot down after overflying Canada and the United States.</li>\n",
       "<li>Comet <b><a href=\"/wiki/C/2022_E3_(ZTF)\" title=\"C/2022 E3 (ZTF)\">C/2022 E3 (ZTF)</a></b> makes its closest approach to the Earth.</li>\n",
       "<li><b><a href=\"/wiki/2023_Peshawar_mosque_bombing\" title=\"2023 Peshawar mosque bombing\">A suicide bombing</a></b> in a mosque in <a href=\"/wiki/Peshawar\" title=\"Peshawar\">Peshawar</a>, Pakistan, kills 100 people and injures more than 220 others.</li></ul>\n",
       "<div class=\"itn-footer\" style=\"margin-top: 0.5em;\">\n",
       "<div><b><a href=\"/wiki/Portal:Current_events\" title=\"Portal:Current events\">Ongoing</a></b>: <link href=\"mw-data:TemplateStyles:r1129693374\" rel=\"mw-deduplicated-inline-style\"/><div class=\"hlist inline\">\n",
       "<ul><li><a href=\"/wiki/2022%E2%80%932023_Peruvian_protests\" title=\"2022–2023 Peruvian protests\">Peruvian protests</a></li>\n",
       "<li><a href=\"/wiki/2022_Russian_invasion_of_Ukraine\" title=\"2022 Russian invasion of Ukraine\">Russian invasion of Ukraine</a></li></ul></div></div>\n",
       "<div><b><a href=\"/wiki/Deaths_in_2023\" title=\"Deaths in 2023\">Recent deaths</a></b>: <link href=\"mw-data:TemplateStyles:r1129693374\" rel=\"mw-deduplicated-inline-style\"/><div class=\"hlist inline\">\n",
       "<ul><li><a href=\"/wiki/Roberto_Ongpin\" title=\"Roberto Ongpin\">Roberto Ongpin</a></li>\n",
       "<li><span class=\"nowrap\"><a href=\"/wiki/Tunku_Abdul_Aziz\" title=\"Tunku Abdul Aziz\">Tunku Abdul Aziz</a></span></li>\n",
       "<li><a href=\"/wiki/Harry_Whittington\" title=\"Harry Whittington\">Harry Whittington</a></li>\n",
       "<li><a href=\"/wiki/Janet_Anderson\" title=\"Janet Anderson\">Janet Anderson</a></li>\n",
       "<li><a href=\"/wiki/Hsing_Yun\" title=\"Hsing Yun\">Hsing Yun</a></li>\n",
       "<li><a href=\"/wiki/May_Sayegh\" title=\"May Sayegh\">May Sayegh</a></li></ul></div></div></div>\n",
       "<link href=\"mw-data:TemplateStyles:r1129693374\" rel=\"mw-deduplicated-inline-style\"/><div class=\"hlist itn-footer noprint\" style=\"text-align:right;\">\n",
       "<ul><li><b><a href=\"/wiki/Wikipedia:In_the_news/Candidates\" title=\"Wikipedia:In the news/Candidates\">Nominate an article</a></b></li></ul>\n",
       "</div></div>\n",
       "<h2 class=\"mp-h2\" id=\"mp-otd-h2\"><span class=\"mw-headline\" id=\"On_this_day\">On this day</span></h2>\n",
       "<div class=\"mp-contains-float\" id=\"mp-otd\">\n",
       "<p><b><a href=\"/wiki/February_11\" title=\"February 11\">February 11</a></b>: <b><a href=\"/wiki/National_Foundation_Day\" title=\"National Foundation Day\">National Foundation Day</a></b> in Japan (<a href=\"/wiki/660_BC\" title=\"660 BC\">660 BC</a>)\n",
       "</p>\n",
       "<div id=\"mp-otd-img\" style=\"float:right;margin-left:0.5em;\">\n",
       "<div class=\"thumbinner mp-thumb\" style=\"background: transparent; border: none; padding: 0; max-width: px;\">\n",
       "<audio controls=\"\" data-durationhint=\"263\" data-mwprovider=\"wikimediacommons\" data-mwtitle=\"Donizetti_-_Le_beau_vingt-et-unième_(extrait_de_la_Fille_du_régiment)_-_Atelier_Vocal_des_Herbiers_(_petit_ensemble_Amarante)_-_juin_2000.ogg\" id=\"mwe_player_0\" preload=\"none\" style=\"width:220px;\" width=\"220\"><source data-bandwidth=\"174828\" data-height=\"0\" data-shorttitle=\"Ogg source\" data-title=\"Original Ogg file (175 kbps)\" data-width=\"0\" src=\"//upload.wikimedia.org/wikipedia/commons/0/06/Donizetti_-_Le_beau_vingt-et-uni%C3%A8me_%28extrait_de_la_Fille_du_r%C3%A9giment%29_-_Atelier_Vocal_des_Herbiers_%28_petit_ensemble_Amarante%29_-_juin_2000.ogg\" type='audio/ogg; codecs=\"vorbis\"'/><source data-bandwidth=\"186848\" data-height=\"0\" data-shorttitle=\"MP3\" data-title=\"MP3\" data-transcodekey=\"mp3\" data-width=\"0\" src=\"//upload.wikimedia.org/wikipedia/commons/transcoded/0/06/Donizetti_-_Le_beau_vingt-et-uni%C3%A8me_%28extrait_de_la_Fille_du_r%C3%A9giment%29_-_Atelier_Vocal_des_Herbiers_%28_petit_ensemble_Amarante%29_-_juin_2000.ogg/Donizetti_-_Le_beau_vingt-et-uni%C3%A8me_%28extrait_de_la_Fille_du_r%C3%A9giment%29_-_Atelier_Vocal_des_Herbiers_%28_petit_ensemble_Amarante%29_-_juin_2000.ogg.mp3\" type=\"audio/mpeg\"/></audio><div class=\"thumbcaption\" style=\"padding: 0.25em 0; word-wrap: break-word;\">\"Le beau vingt-et-unième\"<br/>from <i>La fille du régiment</i></div></div>\n",
       "</div>\n",
       "<ul><li><a href=\"/wiki/1584\" title=\"1584\">1584</a> – Spanish explorer <a href=\"/wiki/Pedro_Sarmiento_de_Gamboa\" title=\"Pedro Sarmiento de Gamboa\">Pedro Sarmiento de Gamboa</a> founded the town of <a href=\"/wiki/Nombre_de_Jes%C3%BAs_(Patagonia)\" title=\"Nombre de Jesús (Patagonia)\">Nombre de Jesús</a>, the first of <b><a href=\"/wiki/Spanish_colonization_attempt_of_the_Strait_of_Magellan\" title=\"Spanish colonization attempt of the Strait of Magellan\">two short-lived colonies</a></b> at the <a href=\"/wiki/Strait_of_Magellan\" title=\"Strait of Magellan\">Strait of Magellan</a>.</li>\n",
       "<li><a href=\"/wiki/1823\" title=\"1823\">1823</a> – Around 110 boys <b><a href=\"/wiki/Carnival_tragedy_of_1823\" title=\"Carnival tragedy of 1823\">were killed in a human crush</a></b> at the <a href=\"/wiki/Franciscan_Church_of_St_Mary_of_Jesus\" title=\"Franciscan Church of St Mary of Jesus\">Convent of the Minori Osservanti</a> in Valletta on the last day of the <a href=\"/wiki/Maltese_Carnival\" title=\"Maltese Carnival\">Maltese Carnival</a>.</li>\n",
       "<li><a href=\"/wiki/1840\" title=\"1840\">1840</a> – <i><b><a href=\"/wiki/La_fille_du_r%C3%A9giment\" title=\"La fille du régiment\">La fille du régiment</a></b></i> <i>(audio featured)</i>, an <i><a href=\"/wiki/Op%C3%A9ra_comique\" title=\"Opéra comique\">opéra comique</a></i> by <a href=\"/wiki/Gaetano_Donizetti\" title=\"Gaetano Donizetti\">Gaetano Donizetti</a>, premiered in Paris to highly negative reviews but later became a success.</li>\n",
       "<li><a href=\"/wiki/1919\" title=\"1919\">1919</a> – <b><a href=\"/wiki/Friedrich_Ebert\" title=\"Friedrich Ebert\">Friedrich Ebert</a></b> was elected the provisional <a href=\"/wiki/President_of_Germany_(1919%E2%80%931945)\" title=\"President of Germany (1919–1945)\">president of Germany</a> by the <a href=\"/wiki/Weimar_National_Assembly\" title=\"Weimar National Assembly\">Weimar National Assembly</a>.</li>\n",
       "<li><a href=\"/wiki/2008\" title=\"2008\">2008</a> – Rebel East Timorese soldiers <b><a href=\"/wiki/2008_East_Timorese_assassination_attempts\" title=\"2008 East Timorese assassination attempts\">invaded the homes</a></b> of President <a href=\"/wiki/Jos%C3%A9_Ramos-Horta\" title=\"José Ramos-Horta\">José Ramos-Horta</a> and Prime Minister <a href=\"/wiki/Xanana_Gusm%C3%A3o\" title=\"Xanana Gusmão\">Xanana Gusmão</a>, seriously wounding the former.</li></ul>\n",
       "<link href=\"mw-data:TemplateStyles:r1129693374\" rel=\"mw-deduplicated-inline-style\"/><div class=\"hlist\" style=\"margin-top: 0.5em;\"><ul><li><b><a href=\"/wiki/Ren%C3%A9_Descartes\" title=\"René Descartes\">René Descartes</a></b>  (<abbr title=\"died\">d.</abbr> 1650)</li><li><b><a href=\"/wiki/Elizabeth_Siddal\" title=\"Elizabeth Siddal\">Elizabeth Siddal</a></b>  (<abbr title=\"died\">d.</abbr> 1862)</li><li><b><a href=\"/wiki/Whitney_Houston\" title=\"Whitney Houston\">Whitney Houston</a></b>  (<abbr title=\"died\">d.</abbr> 2012)</li></ul></div>\n",
       "<div style=\"margin-top:0.5em;\">\n",
       "More anniversaries: <link href=\"mw-data:TemplateStyles:r1129693374\" rel=\"mw-deduplicated-inline-style\"/><div class=\"hlist inline nowraplinks\">\n",
       "<ul><li><a href=\"/wiki/February_10\" title=\"February 10\">February 10</a></li>\n",
       "<li><b><a href=\"/wiki/February_11\" title=\"February 11\">February 11</a></b></li>\n",
       "<li><a href=\"/wiki/February_12\" title=\"February 12\">February 12</a></li></ul>\n",
       "</div></div>\n",
       "<link href=\"mw-data:TemplateStyles:r1129693374\" rel=\"mw-deduplicated-inline-style\"/><div class=\"hlist otd-footer noprint\" style=\"text-align:right;\">\n",
       "<ul><li><b><a href=\"/wiki/Wikipedia:Selected_anniversaries/February\" title=\"Wikipedia:Selected anniversaries/February\">Archive</a></b></li>\n",
       "<li><b><a class=\"extiw\" href=\"https://lists.wikimedia.org/postorius/lists/daily-article-l.lists.wikimedia.org/\" title=\"mail:daily-article-l\">By email</a></b></li>\n",
       "<li><b><a href=\"/wiki/List_of_days_of_the_year\" title=\"List of days of the year\">List of days of the year</a></b></li></ul>\n",
       "</div></div>\n",
       "</div>\n",
       "</div>\n",
       "<div class=\"MainPageBG mp-box\" id=\"mp-lower\">\n",
       "<h2 class=\"mp-h2\" id=\"mp-tfp-h2\"><span id=\"Today.27s_featured_picture\"></span><span class=\"mw-headline\" id=\"Today's_featured_picture\">Today's featured picture</span></h2>\n",
       "<div id=\"mp-tfp\">\n",
       "<table role=\"presentation\" style=\"margin:0 3px 3px; width:100%; box-sizing:border-box; text-align:center; background-color:transparent; border-collapse:collapse; padding:0.9em\">\n",
       "<tbody><tr>\n",
       "<td><a class=\"image\" href=\"/wiki/File:%D0%90%D0%BD%D1%81%D0%B0%D0%BC%D0%B1%D0%BB%D1%8C_%D0%BA%D0%BE%D0%BB%D0%B5%D0%B3%D1%96%D1%83%D0%BC%D1%83_%D0%9A%D1%80%D0%B5%D0%BC%D0%B5%D0%BD%D0%B5%D1%86%D1%8C_DSC7894.jpg\" title=\"Kremenets\"><img alt=\"Kremenets\" data-file-height=\"4016\" data-file-width=\"6016\" decoding=\"async\" height=\"334\" src=\"//upload.wikimedia.org/wikipedia/commons/thumb/b/b1/%D0%90%D0%BD%D1%81%D0%B0%D0%BC%D0%B1%D0%BB%D1%8C_%D0%BA%D0%BE%D0%BB%D0%B5%D0%B3%D1%96%D1%83%D0%BC%D1%83_%D0%9A%D1%80%D0%B5%D0%BC%D0%B5%D0%BD%D0%B5%D1%86%D1%8C_DSC7894.jpg/500px-%D0%90%D0%BD%D1%81%D0%B0%D0%BC%D0%B1%D0%BB%D1%8C_%D0%BA%D0%BE%D0%BB%D0%B5%D0%B3%D1%96%D1%83%D0%BC%D1%83_%D0%9A%D1%80%D0%B5%D0%BC%D0%B5%D0%BD%D0%B5%D1%86%D1%8C_DSC7894.jpg\" srcset=\"//upload.wikimedia.org/wikipedia/commons/thumb/b/b1/%D0%90%D0%BD%D1%81%D0%B0%D0%BC%D0%B1%D0%BB%D1%8C_%D0%BA%D0%BE%D0%BB%D0%B5%D0%B3%D1%96%D1%83%D0%BC%D1%83_%D0%9A%D1%80%D0%B5%D0%BC%D0%B5%D0%BD%D0%B5%D1%86%D1%8C_DSC7894.jpg/750px-%D0%90%D0%BD%D1%81%D0%B0%D0%BC%D0%B1%D0%BB%D1%8C_%D0%BA%D0%BE%D0%BB%D0%B5%D0%B3%D1%96%D1%83%D0%BC%D1%83_%D0%9A%D1%80%D0%B5%D0%BC%D0%B5%D0%BD%D0%B5%D1%86%D1%8C_DSC7894.jpg 1.5x, //upload.wikimedia.org/wikipedia/commons/thumb/b/b1/%D0%90%D0%BD%D1%81%D0%B0%D0%BC%D0%B1%D0%BB%D1%8C_%D0%BA%D0%BE%D0%BB%D0%B5%D0%B3%D1%96%D1%83%D0%BC%D1%83_%D0%9A%D1%80%D0%B5%D0%BC%D0%B5%D0%BD%D0%B5%D1%86%D1%8C_DSC7894.jpg/1000px-%D0%90%D0%BD%D1%81%D0%B0%D0%BC%D0%B1%D0%BB%D1%8C_%D0%BA%D0%BE%D0%BB%D0%B5%D0%B3%D1%96%D1%83%D0%BC%D1%83_%D0%9A%D1%80%D0%B5%D0%BC%D0%B5%D0%BD%D0%B5%D1%86%D1%8C_DSC7894.jpg 2x\" width=\"500\"/></a>\n",
       "</td></tr>\n",
       "<tr>\n",
       "<td style=\"padding:0 0.9em; text-align:left;\">\n",
       "<p><b><a href=\"/wiki/Kremenets\" title=\"Kremenets\">Kremenets</a></b> is a city in the <a href=\"/wiki/Ternopil_Oblast\" title=\"Ternopil Oblast\">Ternopil Oblast</a> of <a href=\"/wiki/Western_Ukraine\" title=\"Western Ukraine\">western Ukraine</a>. It is the administrative center of the <a href=\"/wiki/Kremenets_Raion\" title=\"Kremenets Raion\">Kremenets Raion</a>, and lies to the north-east of <a href=\"/wiki/Pochaiv_Lavra\" title=\"Pochaiv Lavra\">Pochayiv Monastery</a>. The city is situated in the historic region of <a href=\"/wiki/Volhynia\" title=\"Volhynia\">Volhynia</a> and features the 12th-century <a href=\"/wiki/Kremenets_Castle\" title=\"Kremenets Castle\">Kremenets Castle</a>. During the <a href=\"/wiki/Mongol_invasion_of_Kievan_Rus%27\" title=\"Mongol invasion of Kievan Rus'\">Mongol invasion of Kievan Rus'</a> in 1240 and 1241, Kremenets was one of few cities that <a href=\"/wiki/Batu_Khan\" title=\"Batu Khan\">Batu Khan</a> failed to capture. This photograph depicts the former buildings of the <a href=\"/wiki/Krzemieniec_Lyceum\" title=\"Krzemieniec Lyceum\">Krzemieniec Lyceum</a>, as seen from Castle Hill.\n",
       "</p>\n",
       "<p style=\"text-align:center;\"><small>Photograph credit: <a class=\"extiw\" href=\"https://commons.wikimedia.org/wiki/User:Brizhnichenko\" title=\"c:User:Brizhnichenko\">Konstantin Brizhnichenko</a></small></p>\n",
       "<div class=\"potd-recent\" style=\"text-align:right;\">\n",
       "Recently featured: <link href=\"mw-data:TemplateStyles:r1129693374\" rel=\"mw-deduplicated-inline-style\"/><div class=\"hlist inline\">\n",
       "<ul><li><a href=\"/wiki/Template:POTD/2023-02-10\" title=\"Template:POTD/2023-02-10\">Sebae anemone</a></li>\n",
       "<li><a href=\"/wiki/Template:POTD/2023-02-09\" title=\"Template:POTD/2023-02-09\">Henties Bay</a></li>\n",
       "<li><a href=\"/wiki/Template:POTD/2023-02-08\" title=\"Template:POTD/2023-02-08\">Himalayan salt</a></li></ul>\n",
       "</div></div>\n",
       "<link href=\"mw-data:TemplateStyles:r1129693374\" rel=\"mw-deduplicated-inline-style\"/><div class=\"hlist potd-footer noprint\" style=\"text-align:right;\">\n",
       "<ul><li><b><a href=\"/wiki/Wikipedia:Picture_of_the_day/Archive\" title=\"Wikipedia:Picture of the day/Archive\">Archive</a></b></li>\n",
       "<li><b><a href=\"/wiki/Wikipedia:Featured_pictures\" title=\"Wikipedia:Featured pictures\">More featured pictures</a></b></li></ul>\n",
       "</div>\n",
       "</td></tr></tbody></table></div>\n",
       "</div>\n",
       "<div class=\"mp-box\" id=\"mp-bottom\">\n",
       "<h2 class=\"mp-h2\" id=\"mp-other\"><span class=\"mw-headline\" id=\"Other_areas_of_Wikipedia\">Other areas of Wikipedia</span></h2>\n",
       "<div id=\"mp-other-content\">\n",
       "<ul><li><b><a href=\"/wiki/Wikipedia:Community_portal\" title=\"Wikipedia:Community portal\">Community portal</a></b> – The central hub for editors, with resources, links, tasks, and announcements.</li>\n",
       "<li><b><a href=\"/wiki/Wikipedia:Village_pump\" title=\"Wikipedia:Village pump\">Village pump</a></b> – Forum for discussions about Wikipedia itself, including policies and technical issues.</li>\n",
       "<li><b><a href=\"/wiki/Wikipedia:News\" title=\"Wikipedia:News\">Site news</a></b> – Sources of news about Wikipedia and the broader Wikimedia movement.</li>\n",
       "<li><b><a href=\"/wiki/Wikipedia:Teahouse\" title=\"Wikipedia:Teahouse\">Teahouse</a></b> – Ask basic questions about using or editing Wikipedia.</li>\n",
       "<li><b><a href=\"/wiki/Wikipedia:Help_desk\" title=\"Wikipedia:Help desk\">Help desk</a></b> – Ask questions about using or editing Wikipedia.</li>\n",
       "<li><b><a href=\"/wiki/Wikipedia:Reference_desk\" title=\"Wikipedia:Reference desk\">Reference desk</a></b> – Ask research questions about encyclopedic topics.</li>\n",
       "<li><b><a href=\"/wiki/Wikipedia:Contents/Portals\" title=\"Wikipedia:Contents/Portals\">Content portals</a></b> – A unique way to navigate the encyclopedia.</li></ul>\n",
       "</div>\n",
       "<h2 class=\"mp-h2\" id=\"mp-sister\"><span id=\"Wikipedia.27s_sister_projects\"></span><span class=\"mw-headline\" id=\"Wikipedia's_sister_projects\">Wikipedia's sister projects</span></h2>\n",
       "<div id=\"mp-sister-content\"><style data-mw-deduplicate=\"TemplateStyles:r1007624485\">.mw-parser-output #sister-projects-list{display:flex;flex-wrap:wrap}.mw-parser-output #sister-projects-list li{display:inline-block}.mw-parser-output #sister-projects-list li span{font-weight:bold}.mw-parser-output #sister-projects-list li>div{display:inline-block;vertical-align:middle;padding:6px 4px}.mw-parser-output #sister-projects-list li>div:first-child{text-align:center}@media(min-width:360px){.mw-parser-output #sister-projects-list li{width:33%;min-width:20em;white-space:nowrap;flex:1 0 25%}.mw-parser-output #sister-projects-list li>div:first-child{min-width:50px}}</style>\n",
       "<p>Wikipedia is written by volunteer editors and hosted by the <a href=\"/wiki/Wikimedia_Foundation\" title=\"Wikimedia Foundation\">Wikimedia Foundation</a>, a non-profit organization that also hosts a range of other volunteer <a class=\"extiw\" href=\"https://wikimediafoundation.org/our-work/wikimedia-projects/\" title=\"foundationsite:our-work/wikimedia-projects/\">projects</a>:\n",
       "</p>\n",
       "<style data-mw-deduplicate=\"TemplateStyles:r1126788409\">.mw-parser-output .plainlist ol,.mw-parser-output .plainlist ul{line-height:inherit;list-style:none;margin:0;padding:0}.mw-parser-output .plainlist ol li,.mw-parser-output .plainlist ul li{margin-bottom:0}</style><div class=\"plainlist\">\n",
       "<ul id=\"sister-projects-list\">\n",
       "<li>\n",
       "<div><a href=\"https://commons.wikimedia.org/wiki/\" title=\"Commons\"><img alt=\"Commons logo\" data-file-height=\"1376\" data-file-width=\"1024\" decoding=\"async\" height=\"42\" src=\"//upload.wikimedia.org/wikipedia/en/thumb/4/4a/Commons-logo.svg/31px-Commons-logo.svg.png\" srcset=\"//upload.wikimedia.org/wikipedia/en/thumb/4/4a/Commons-logo.svg/47px-Commons-logo.svg.png 1.5x, //upload.wikimedia.org/wikipedia/en/thumb/4/4a/Commons-logo.svg/62px-Commons-logo.svg.png 2x\" width=\"31\"/></a></div>\n",
       "<div><span><a class=\"extiw\" href=\"https://commons.wikimedia.org/wiki/\" title=\"c:\">Commons</a></span><br/>Free media repository</div>\n",
       "</li>\n",
       "<li>\n",
       "<div><a href=\"https://www.mediawiki.org/wiki/\" title=\"MediaWiki\"><img alt=\"MediaWiki logo\" data-file-height=\"100\" data-file-width=\"100\" decoding=\"async\" height=\"35\" src=\"//upload.wikimedia.org/wikipedia/commons/thumb/a/a6/MediaWiki-2020-icon.svg/35px-MediaWiki-2020-icon.svg.png\" srcset=\"//upload.wikimedia.org/wikipedia/commons/thumb/a/a6/MediaWiki-2020-icon.svg/53px-MediaWiki-2020-icon.svg.png 1.5x, //upload.wikimedia.org/wikipedia/commons/thumb/a/a6/MediaWiki-2020-icon.svg/70px-MediaWiki-2020-icon.svg.png 2x\" width=\"35\"/></a></div>\n",
       "<div><span><a class=\"extiw\" href=\"https://www.mediawiki.org/wiki/\" title=\"mw:\">MediaWiki</a></span><br/>Wiki software development</div>\n",
       "</li>\n",
       "<li>\n",
       "<div><a href=\"https://meta.wikimedia.org/wiki/\" title=\"Meta-Wiki\"><img alt=\"Meta-Wiki logo\" data-file-height=\"900\" data-file-width=\"900\" decoding=\"async\" height=\"35\" src=\"//upload.wikimedia.org/wikipedia/commons/thumb/7/75/Wikimedia_Community_Logo.svg/35px-Wikimedia_Community_Logo.svg.png\" srcset=\"//upload.wikimedia.org/wikipedia/commons/thumb/7/75/Wikimedia_Community_Logo.svg/53px-Wikimedia_Community_Logo.svg.png 1.5x, //upload.wikimedia.org/wikipedia/commons/thumb/7/75/Wikimedia_Community_Logo.svg/70px-Wikimedia_Community_Logo.svg.png 2x\" width=\"35\"/></a></div>\n",
       "<div><span><a class=\"extiw\" href=\"https://meta.wikimedia.org/wiki/\" title=\"m:\">Meta-Wiki</a></span><br/>Wikimedia project coordination</div>\n",
       "</li>\n",
       "<li>\n",
       "<div><a href=\"https://en.wikibooks.org/wiki/\" title=\"Wikibooks\"><img alt=\"Wikibooks logo\" data-file-height=\"300\" data-file-width=\"300\" decoding=\"async\" height=\"35\" src=\"//upload.wikimedia.org/wikipedia/commons/thumb/f/fa/Wikibooks-logo.svg/35px-Wikibooks-logo.svg.png\" srcset=\"//upload.wikimedia.org/wikipedia/commons/thumb/f/fa/Wikibooks-logo.svg/53px-Wikibooks-logo.svg.png 1.5x, //upload.wikimedia.org/wikipedia/commons/thumb/f/fa/Wikibooks-logo.svg/70px-Wikibooks-logo.svg.png 2x\" width=\"35\"/></a></div>\n",
       "<div><span><a class=\"extiw\" href=\"https://en.wikibooks.org/wiki/\" title=\"b:\">Wikibooks</a></span><br/>Free textbooks and manuals</div>\n",
       "</li>\n",
       "<li>\n",
       "<div><a href=\"https://www.wikidata.org/wiki/\" title=\"Wikidata\"><img alt=\"Wikidata logo\" data-file-height=\"590\" data-file-width=\"1050\" decoding=\"async\" height=\"26\" src=\"//upload.wikimedia.org/wikipedia/commons/thumb/f/ff/Wikidata-logo.svg/47px-Wikidata-logo.svg.png\" srcset=\"//upload.wikimedia.org/wikipedia/commons/thumb/f/ff/Wikidata-logo.svg/71px-Wikidata-logo.svg.png 1.5x, //upload.wikimedia.org/wikipedia/commons/thumb/f/ff/Wikidata-logo.svg/94px-Wikidata-logo.svg.png 2x\" width=\"47\"/></a></div>\n",
       "<div><span><a class=\"extiw\" href=\"https://www.wikidata.org/wiki/\" title=\"d:\">Wikidata</a></span><br/>Free knowledge base</div>\n",
       "</li>\n",
       "<li>\n",
       "<div><a href=\"https://en.wikinews.org/wiki/\" title=\"Wikinews\"><img alt=\"Wikinews logo\" data-file-height=\"415\" data-file-width=\"759\" decoding=\"async\" height=\"28\" src=\"//upload.wikimedia.org/wikipedia/commons/thumb/2/24/Wikinews-logo.svg/51px-Wikinews-logo.svg.png\" srcset=\"//upload.wikimedia.org/wikipedia/commons/thumb/2/24/Wikinews-logo.svg/77px-Wikinews-logo.svg.png 1.5x, //upload.wikimedia.org/wikipedia/commons/thumb/2/24/Wikinews-logo.svg/102px-Wikinews-logo.svg.png 2x\" width=\"51\"/></a></div>\n",
       "<div><span><a class=\"extiw\" href=\"https://en.wikinews.org/wiki/\" title=\"n:\">Wikinews</a></span><br/>Free-content news</div>\n",
       "</li>\n",
       "<li>\n",
       "<div><a href=\"https://en.wikiquote.org/wiki/\" title=\"Wikiquote\"><img alt=\"Wikiquote logo\" data-file-height=\"355\" data-file-width=\"300\" decoding=\"async\" height=\"41\" src=\"//upload.wikimedia.org/wikipedia/commons/thumb/f/fa/Wikiquote-logo.svg/35px-Wikiquote-logo.svg.png\" srcset=\"//upload.wikimedia.org/wikipedia/commons/thumb/f/fa/Wikiquote-logo.svg/53px-Wikiquote-logo.svg.png 1.5x, //upload.wikimedia.org/wikipedia/commons/thumb/f/fa/Wikiquote-logo.svg/70px-Wikiquote-logo.svg.png 2x\" width=\"35\"/></a></div>\n",
       "<div><span><a class=\"extiw\" href=\"https://en.wikiquote.org/wiki/\" title=\"q:\">Wikiquote</a></span><br/>Collection of quotations</div>\n",
       "</li>\n",
       "<li>\n",
       "<div><a href=\"https://en.wikisource.org/wiki/\" title=\"Wikisource\"><img alt=\"Wikisource logo\" data-file-height=\"430\" data-file-width=\"410\" decoding=\"async\" height=\"37\" src=\"//upload.wikimedia.org/wikipedia/commons/thumb/4/4c/Wikisource-logo.svg/35px-Wikisource-logo.svg.png\" srcset=\"//upload.wikimedia.org/wikipedia/commons/thumb/4/4c/Wikisource-logo.svg/53px-Wikisource-logo.svg.png 1.5x, //upload.wikimedia.org/wikipedia/commons/thumb/4/4c/Wikisource-logo.svg/70px-Wikisource-logo.svg.png 2x\" width=\"35\"/></a></div>\n",
       "<div><span><a class=\"extiw\" href=\"https://en.wikisource.org/wiki/\" title=\"s:\">Wikisource</a></span><br/>Free-content library</div>\n",
       "</li>\n",
       "<li>\n",
       "<div><a href=\"https://species.wikimedia.org/wiki/\" title=\"Wikispecies\"><img alt=\"Wikispecies logo\" data-file-height=\"1103\" data-file-width=\"941\" decoding=\"async\" height=\"41\" src=\"//upload.wikimedia.org/wikipedia/commons/thumb/d/df/Wikispecies-logo.svg/35px-Wikispecies-logo.svg.png\" srcset=\"//upload.wikimedia.org/wikipedia/commons/thumb/d/df/Wikispecies-logo.svg/53px-Wikispecies-logo.svg.png 1.5x, //upload.wikimedia.org/wikipedia/commons/thumb/d/df/Wikispecies-logo.svg/70px-Wikispecies-logo.svg.png 2x\" width=\"35\"/></a></div>\n",
       "<div><span><a class=\"extiw\" href=\"https://species.wikimedia.org/wiki/\" title=\"species:\">Wikispecies</a></span><br/>Directory of species</div>\n",
       "</li>\n",
       "<li>\n",
       "<div><a href=\"https://en.wikiversity.org/wiki/\" title=\"Wikiversity\"><img alt=\"Wikiversity logo\" data-file-height=\"512\" data-file-width=\"626\" decoding=\"async\" height=\"34\" src=\"//upload.wikimedia.org/wikipedia/commons/thumb/0/0b/Wikiversity_logo_2017.svg/41px-Wikiversity_logo_2017.svg.png\" srcset=\"//upload.wikimedia.org/wikipedia/commons/thumb/0/0b/Wikiversity_logo_2017.svg/62px-Wikiversity_logo_2017.svg.png 1.5x, //upload.wikimedia.org/wikipedia/commons/thumb/0/0b/Wikiversity_logo_2017.svg/82px-Wikiversity_logo_2017.svg.png 2x\" width=\"41\"/></a></div>\n",
       "<div><span><a class=\"extiw\" href=\"https://en.wikiversity.org/wiki/\" title=\"v:\">Wikiversity</a></span><br/>Free learning tools</div>\n",
       "</li>\n",
       "<li>\n",
       "<div><a href=\"https://en.wikivoyage.org/wiki/\" title=\"Wikivoyage\"><img alt=\"Wikivoyage logo\" data-file-height=\"193\" data-file-width=\"193\" decoding=\"async\" height=\"35\" src=\"//upload.wikimedia.org/wikipedia/commons/thumb/d/dd/Wikivoyage-Logo-v3-icon.svg/35px-Wikivoyage-Logo-v3-icon.svg.png\" srcset=\"//upload.wikimedia.org/wikipedia/commons/thumb/d/dd/Wikivoyage-Logo-v3-icon.svg/53px-Wikivoyage-Logo-v3-icon.svg.png 1.5x, //upload.wikimedia.org/wikipedia/commons/thumb/d/dd/Wikivoyage-Logo-v3-icon.svg/70px-Wikivoyage-Logo-v3-icon.svg.png 2x\" width=\"35\"/></a></div>\n",
       "<div><span><a class=\"extiw\" href=\"https://en.wikivoyage.org/wiki/\" title=\"voy:\">Wikivoyage</a></span><br/>Free travel guide</div>\n",
       "</li>\n",
       "<li>\n",
       "<div><a href=\"https://en.wiktionary.org/wiki/\" title=\"Wiktionary\"><img alt=\"Wiktionary logo\" data-file-height=\"391\" data-file-width=\"391\" decoding=\"async\" height=\"35\" src=\"//upload.wikimedia.org/wikipedia/en/thumb/0/06/Wiktionary-logo-v2.svg/35px-Wiktionary-logo-v2.svg.png\" srcset=\"//upload.wikimedia.org/wikipedia/en/thumb/0/06/Wiktionary-logo-v2.svg/53px-Wiktionary-logo-v2.svg.png 1.5x, //upload.wikimedia.org/wikipedia/en/thumb/0/06/Wiktionary-logo-v2.svg/70px-Wiktionary-logo-v2.svg.png 2x\" width=\"35\"/></a></div>\n",
       "<div><span><a class=\"extiw\" href=\"https://en.wiktionary.org/wiki/\" title=\"wikt:\">Wiktionary</a></span><br/>Dictionary and thesaurus</div>\n",
       "</li>\n",
       "</ul>\n",
       "</div></div>\n",
       "<h2 class=\"mp-h2\" id=\"mp-lang\"><span class=\"mw-headline\" id=\"Wikipedia_languages\">Wikipedia languages</span></h2>\n",
       "<div><style data-mw-deduplicate=\"TemplateStyles:r997272951\">.mw-parser-output .wikipedia-languages-complete{font-weight:bold}.mw-parser-output .wikipedia-languages ul{margin-left:0}.mw-parser-output .wikipedia-languages ul a{white-space:nowrap}.mw-parser-output .wikipedia-languages>ul{list-style:none;text-align:center;clear:both}.mw-parser-output .wikipedia-languages-count-container{width:90%;display:flex;justify-content:center;padding-top:1em;margin:0 auto}.mw-parser-output .wikipedia-languages-prettybars{width:100%;height:1px;margin:0.5em 0;background-color:#c8ccd1;flex-shrink:1;align-self:center}.mw-parser-output .wikipedia-languages-count{padding:0 1em;white-space:nowrap}</style>\n",
       "<div class=\"wikipedia-languages nourlexpansion\">\n",
       "<p>This Wikipedia is written in <a href=\"/wiki/English_language\" title=\"English language\">English</a>. Many <a class=\"extiw\" href=\"https://meta.wikimedia.org/wiki/List_of_Wikipedias\" title=\"meta:List of Wikipedias\">other Wikipedias are available</a>; some of the largest are listed below.\n",
       "</p>\n",
       "<ul class=\"plainlinks\">\n",
       "<li>\n",
       "<div class=\"wikipedia-languages-count-container\">\n",
       "<div class=\"wikipedia-languages-prettybars\"></div>\n",
       "<div class=\"wikipedia-languages-count\" role=\"heading\">1,000,000+ articles</div>\n",
       "<div class=\"wikipedia-languages-prettybars\"></div>\n",
       "</div>\n",
       "<link href=\"mw-data:TemplateStyles:r1129693374\" rel=\"mw-deduplicated-inline-style\"/><div class=\"hlist wikipedia-languages-langs inline\">\n",
       "<ul><li><a class=\"external text\" href=\"https://ar.wikipedia.org/wiki/\"><span class=\"autonym\" lang=\"ar\" title=\"Arabic (ar:)\">العربية</span></a></li>\n",
       "<li><a class=\"external text\" href=\"https://de.wikipedia.org/wiki/\"><span class=\"autonym\" lang=\"de\" title=\"German (de:)\">Deutsch</span></a></li>\n",
       "<li><a class=\"external text\" href=\"https://es.wikipedia.org/wiki/\"><span class=\"autonym\" lang=\"es\" title=\"Spanish (es:)\">Español</span></a></li>\n",
       "<li><a class=\"external text\" href=\"https://fr.wikipedia.org/wiki/\"><span class=\"autonym\" lang=\"fr\" title=\"French (fr:)\">Français</span></a></li>\n",
       "<li><a class=\"external text\" href=\"https://it.wikipedia.org/wiki/\"><span class=\"autonym\" lang=\"it\" title=\"Italian (it:)\">Italiano</span></a></li>\n",
       "<li><a class=\"external text\" href=\"https://nl.wikipedia.org/wiki/\"><span class=\"autonym\" lang=\"nl\" title=\"Dutch (nl:)\">Nederlands</span></a></li>\n",
       "<li><a class=\"external text\" href=\"https://ja.wikipedia.org/wiki/\"><span class=\"autonym\" lang=\"ja\" title=\"Japanese (ja:)\">日本語</span></a></li>\n",
       "<li><a class=\"external text\" href=\"https://pl.wikipedia.org/wiki/\"><span class=\"autonym\" lang=\"pl\" title=\"Polish (pl:)\">Polski</span></a></li>\n",
       "<li><a class=\"external text\" href=\"https://pt.wikipedia.org/wiki/\"><span class=\"autonym\" lang=\"pt\" title=\"Portuguese (pt:)\">Português</span></a></li>\n",
       "<li><a class=\"external text\" href=\"https://ru.wikipedia.org/wiki/\"><span class=\"autonym\" lang=\"ru\" title=\"Russian (ru:)\">Русский</span></a></li>\n",
       "<li><a class=\"external text\" href=\"https://sv.wikipedia.org/wiki/\"><span class=\"autonym\" lang=\"sv\" title=\"Swedish (sv:)\">Svenska</span></a></li>\n",
       "<li><a class=\"external text\" href=\"https://uk.wikipedia.org/wiki/\"><span class=\"autonym\" lang=\"uk\" title=\"Ukrainian (uk:)\">Українська</span></a></li>\n",
       "<li><a class=\"external text\" href=\"https://vi.wikipedia.org/wiki/\"><span class=\"autonym\" lang=\"vi\" title=\"Vietnamese (vi:)\">Tiếng Việt</span></a></li>\n",
       "<li><a class=\"external text\" href=\"https://zh.wikipedia.org/wiki/\"><span class=\"autonym\" lang=\"zh\" title=\"Chinese (zh:)\">中文</span></a></li></ul>\n",
       "</div>\n",
       "</li>\n",
       "<li>\n",
       "<div class=\"wikipedia-languages-count-container\">\n",
       "<div class=\"wikipedia-languages-prettybars\"></div>\n",
       "<div class=\"wikipedia-languages-count\" role=\"heading\">250,000+ articles</div>\n",
       "<div class=\"wikipedia-languages-prettybars\"></div>\n",
       "</div>\n",
       "<link href=\"mw-data:TemplateStyles:r1129693374\" rel=\"mw-deduplicated-inline-style\"/><div class=\"hlist wikipedia-languages-langs inline\">\n",
       "<ul><li><a class=\"external text\" href=\"https://id.wikipedia.org/wiki/\"><span class=\"autonym\" lang=\"id\" title=\"Indonesian (id:)\">Bahasa Indonesia</span></a></li>\n",
       "<li><a class=\"external text\" href=\"https://ms.wikipedia.org/wiki/\"><span class=\"autonym\" lang=\"ms\" title=\"Malay (ms:)\">Bahasa Melayu</span></a></li>\n",
       "<li><a class=\"external text\" href=\"https://zh-min-nan.wikipedia.org/wiki/\"><span class=\"autonym\" lang=\"nan\" title=\"Min Nan Chinese (nan:)\">Bân-lâm-gú</span></a></li>\n",
       "<li><a class=\"external text\" href=\"https://bg.wikipedia.org/wiki/\"><span class=\"autonym\" lang=\"bg\" title=\"Bulgarian (bg:)\">Български</span></a></li>\n",
       "<li><a class=\"external text\" href=\"https://ca.wikipedia.org/wiki/\"><span class=\"autonym\" lang=\"ca\" title=\"Catalan (ca:)\">Català</span></a></li>\n",
       "<li><a class=\"external text\" href=\"https://cs.wikipedia.org/wiki/\"><span class=\"autonym\" lang=\"cs\" title=\"Czech (cs:)\">Čeština</span></a></li>\n",
       "<li><a class=\"external text\" href=\"https://da.wikipedia.org/wiki/\"><span class=\"autonym\" lang=\"da\" title=\"Danish (da:)\">Dansk</span></a></li>\n",
       "<li><a class=\"external text\" href=\"https://eo.wikipedia.org/wiki/\"><span class=\"autonym\" lang=\"eo\" title=\"Esperanto (eo:)\">Esperanto</span></a></li>\n",
       "<li><a class=\"external text\" href=\"https://eu.wikipedia.org/wiki/\"><span class=\"autonym\" lang=\"eu\" title=\"Basque (eu:)\">Euskara</span></a></li>\n",
       "<li><a class=\"external text\" href=\"https://fa.wikipedia.org/wiki/\"><span class=\"autonym\" lang=\"fa\" title=\"Persian (fa:)\">فارسی</span></a>‎</li>\n",
       "<li><a class=\"external text\" href=\"https://he.wikipedia.org/wiki/\"><span class=\"autonym\" lang=\"he\" title=\"Hebrew (he:)\">עברית</span></a></li>\n",
       "<li><a class=\"external text\" href=\"https://ko.wikipedia.org/wiki/\"><span class=\"autonym\" lang=\"ko\" title=\"Korean (ko:)\">한국어</span></a></li>\n",
       "<li><a class=\"external text\" href=\"https://hu.wikipedia.org/wiki/\"><span class=\"autonym\" lang=\"hu\" title=\"Hungarian (hu:)\">Magyar</span></a></li>\n",
       "<li><a class=\"external text\" href=\"https://no.wikipedia.org/wiki/\"><span class=\"autonym\" lang=\"no\" title=\"Norwegian (no:)\">Norsk Bokmål</span></a></li>\n",
       "<li><a class=\"external text\" href=\"https://ro.wikipedia.org/wiki/\"><span class=\"autonym\" lang=\"ro\" title=\"Romanian (ro:)\">Română</span></a></li>\n",
       "<li><a class=\"external text\" href=\"https://sr.wikipedia.org/wiki/\"><span class=\"autonym\" lang=\"sr\" title=\"Serbian (sr:)\">Srpski</span></a></li>\n",
       "<li><a class=\"external text\" href=\"https://sh.wikipedia.org/wiki/\"><span class=\"autonym\" lang=\"sh\" title=\"Serbo-Croatian (sh:)\">Srpskohrvatski</span></a></li>\n",
       "<li><a class=\"external text\" href=\"https://fi.wikipedia.org/wiki/\"><span class=\"autonym\" lang=\"fi\" title=\"Finnish (fi:)\">Suomi</span></a></li>\n",
       "<li><a class=\"external text\" href=\"https://tr.wikipedia.org/wiki/\"><span class=\"autonym\" lang=\"tr\" title=\"Turkish (tr:)\">Türkçe</span></a></li></ul>\n",
       "</div>\n",
       "</li>\n",
       "<li>\n",
       "<div class=\"wikipedia-languages-count-container\">\n",
       "<div class=\"wikipedia-languages-prettybars\"></div>\n",
       "<div class=\"wikipedia-languages-count\" role=\"heading\">50,000+ articles</div>\n",
       "<div class=\"wikipedia-languages-prettybars\"></div>\n",
       "</div>\n",
       "<link href=\"mw-data:TemplateStyles:r1129693374\" rel=\"mw-deduplicated-inline-style\"/><div class=\"hlist wikipedia-languages-langs inline\">\n",
       "<ul><li><a class=\"external text\" href=\"https://ast.wikipedia.org/wiki/\"><span class=\"autonym\" lang=\"ast\" title=\"Asturian (ast:)\">Asturianu</span></a></li>\n",
       "<li><a class=\"external text\" href=\"https://bn.wikipedia.org/wiki/\"><span class=\"autonym\" lang=\"bn\" title=\"Bangla (bn:)\">বাংলা</span></a></li>\n",
       "<li><a class=\"external text\" href=\"https://bs.wikipedia.org/wiki/\"><span class=\"autonym\" lang=\"bs\" title=\"Bosnian (bs:)\">Bosanski</span></a></li>\n",
       "<li><a class=\"external text\" href=\"https://et.wikipedia.org/wiki/\"><span class=\"autonym\" lang=\"et\" title=\"Estonian (et:)\">Eesti</span></a></li>\n",
       "<li><a class=\"external text\" href=\"https://el.wikipedia.org/wiki/\"><span class=\"autonym\" lang=\"el\" title=\"Greek (el:)\">Ελληνικά</span></a></li>\n",
       "<li><a class=\"external text\" href=\"https://simple.wikipedia.org/wiki/\"><span class=\"autonym\" lang=\"simple\" title=\"Simple English (simple:)\">Simple English</span></a></li>\n",
       "<li><a class=\"external text\" href=\"https://ga.wikipedia.org/wiki/\"><span class=\"autonym\" lang=\"ga\" title=\"Irish (ga:)\">Gaeilge</span></a></li>\n",
       "<li><a class=\"external text\" href=\"https://gl.wikipedia.org/wiki/\"><span class=\"autonym\" lang=\"gl\" title=\"Galician (gl:)\">Galego</span></a></li>\n",
       "<li><a class=\"external text\" href=\"https://hr.wikipedia.org/wiki/\"><span class=\"autonym\" lang=\"hr\" title=\"Croatian (hr:)\">Hrvatski</span></a></li>\n",
       "<li><a class=\"external text\" href=\"https://lv.wikipedia.org/wiki/\"><span class=\"autonym\" lang=\"lv\" title=\"Latvian (lv:)\">Latviešu</span></a></li>\n",
       "<li><a class=\"external text\" href=\"https://lt.wikipedia.org/wiki/\"><span class=\"autonym\" lang=\"lt\" title=\"Lithuanian (lt:)\">Lietuvių</span></a></li>\n",
       "<li><a class=\"external text\" href=\"https://ml.wikipedia.org/wiki/\"><span class=\"autonym\" lang=\"ml\" title=\"Malayalam (ml:)\">മലയാളം</span></a></li>\n",
       "<li><a class=\"external text\" href=\"https://mk.wikipedia.org/wiki/\"><span class=\"autonym\" lang=\"mk\" title=\"Macedonian (mk:)\">Македонски</span></a></li>\n",
       "<li><a class=\"external text\" href=\"https://nn.wikipedia.org/wiki/\"><span class=\"autonym\" lang=\"nn\" title=\"Norwegian Nynorsk (nn:)\">Norsk nynorsk</span></a></li>\n",
       "<li><a class=\"external text\" href=\"https://sq.wikipedia.org/wiki/\"><span class=\"autonym\" lang=\"sq\" title=\"Albanian (sq:)\">Shqip</span></a></li>\n",
       "<li><a class=\"external text\" href=\"https://sk.wikipedia.org/wiki/\"><span class=\"autonym\" lang=\"sk\" title=\"Slovak (sk:)\">Slovenčina</span></a></li>\n",
       "<li><a class=\"external text\" href=\"https://sl.wikipedia.org/wiki/\"><span class=\"autonym\" lang=\"sl\" title=\"Slovenian (sl:)\">Slovenščina</span></a></li>\n",
       "<li><a class=\"external text\" href=\"https://th.wikipedia.org/wiki/\"><span class=\"autonym\" lang=\"th\" title=\"Thai (th:)\">ไทย</span></a></li></ul>\n",
       "</div>\n",
       "</li>\n",
       "</ul>\n",
       "</div></div>\n",
       "</div>\n",
       "<!-- \n",
       "NewPP limit report\n",
       "Parsed by mw2335\n",
       "Cached time: 20230211073335\n",
       "Cache expiry: 3600\n",
       "Reduced expiry: true\n",
       "Complications: []\n",
       "CPU time usage: 0.251 seconds\n",
       "Real time usage: 0.369 seconds\n",
       "Preprocessor visited node count: 4188/1000000\n",
       "Post‐expand include size: 121123/2097152 bytes\n",
       "Template argument size: 11596/2097152 bytes\n",
       "Highest expansion depth: 18/100\n",
       "Expensive parser function count: 13/500\n",
       "Unstrip recursion depth: 0/20\n",
       "Unstrip post‐expand size: 38717/5000000 bytes\n",
       "Lua time usage: 0.048/10.000 seconds\n",
       "Lua memory usage: 1916236/52428800 bytes\n",
       "Number of Wikibase entities loaded: 0/400\n",
       "-->\n",
       "<!--\n",
       "Transclusion expansion time report (%,ms,calls,template)\n",
       "100.00%  270.439      1 -total\n",
       " 33.66%   91.026      1 Wikipedia:Main_Page/Tomorrow\n",
       " 25.89%   70.030      1 Wikipedia:Today's_featured_article/February_11,_2023\n",
       " 22.25%   60.161      8 Template:Main_page_image\n",
       " 16.17%   43.722      1 Template:Did_you_know/Queue/5\n",
       " 15.81%   42.755      8 Template:Str_number/trim\n",
       " 13.31%   35.998      2 Template:Main_page_image/TFA\n",
       " 12.97%   35.067      2 Template:In_the_news\n",
       " 11.77%   31.843     26 Template:Flatlist\n",
       " 11.57%   31.290      2 Template:Wikipedia_languages\n",
       "-->\n",
       "<!-- Saved in parser cache with key enwiki:pcache:idhash:15580374-0!canonical and timestamp 20230211073335 and revision id 1114291180. Rendering was triggered because: page-view\n",
       " -->\n",
       "</div><!--esi <esi:include src=\"/esitest-fa8a495983347898/content\" /> --><noscript><img alt=\"\" height=\"1\" src=\"//en.wikipedia.org/wiki/Special:CentralAutoLogin/start?type=1x1\" style=\"border: none; position: absolute;\" title=\"\" width=\"1\"/></noscript>\n",
       "<div class=\"printfooter\" data-nosnippet=\"\">Retrieved from \"<a dir=\"ltr\" href=\"https://en.wikipedia.org/w/index.php?title=Main_Page&amp;oldid=1114291180\">https://en.wikipedia.org/w/index.php?title=Main_Page&amp;oldid=1114291180</a>\"</div></div>\n",
       "<div class=\"catlinks catlinks-allhidden\" data-mw=\"interface\" id=\"catlinks\"></div>\n",
       "</div>\n",
       "<div class=\"vector-menu vector-dropdown vector-menu-dropdown mw-portlet mw-portlet-lang\" id=\"p-lang-btn\">\n",
       "<input aria-haspopup=\"true\" aria-label=\"Go to an article in another language. Available in 47 languages\" class=\"vector-menu-checkbox mw-interlanguage-selector\" data-event-name=\"ui.dropdown-p-lang-btn\" id=\"p-lang-btn-checkbox\" role=\"button\" type=\"checkbox\"/>\n",
       "<label class=\"vector-menu-heading mw-ui-button mw-ui-quiet mw-ui-progressive mw-portlet-lang-heading-47\" for=\"p-lang-btn-checkbox\" id=\"p-lang-btn-label\">\n",
       "<span class=\"mw-ui-icon mw-ui-icon-wikimedia-language-progressive\"></span><span class=\"vector-menu-heading-label\">47 languages</span>\n",
       "</label>\n",
       "<div class=\"vector-menu-content\">\n",
       "<div class=\"vector-menu-content\">\n",
       "<ul class=\"vector-menu-content-list\"><li class=\"interlanguage-link interwiki-ar mw-list-item\"><a class=\"interlanguage-link-target\" href=\"https://ar.wikipedia.org/wiki/\" hreflang=\"ar\" lang=\"ar\" title=\"Arabic\"><span>العربية</span></a></li><li class=\"interlanguage-link interwiki-bn mw-list-item\"><a class=\"interlanguage-link-target\" href=\"https://bn.wikipedia.org/wiki/\" hreflang=\"bn\" lang=\"bn\" title=\"Bangla\"><span>বাংলা</span></a></li><li class=\"interlanguage-link interwiki-bg mw-list-item\"><a class=\"interlanguage-link-target\" href=\"https://bg.wikipedia.org/wiki/\" hreflang=\"bg\" lang=\"bg\" title=\"Bulgarian\"><span>Български</span></a></li><li class=\"interlanguage-link interwiki-bs mw-list-item\"><a class=\"interlanguage-link-target\" href=\"https://bs.wikipedia.org/wiki/\" hreflang=\"bs\" lang=\"bs\" title=\"Bosnian\"><span>Bosanski</span></a></li><li class=\"interlanguage-link interwiki-ca mw-list-item\"><a class=\"interlanguage-link-target\" href=\"https://ca.wikipedia.org/wiki/\" hreflang=\"ca\" lang=\"ca\" title=\"Catalan\"><span>Català</span></a></li><li class=\"interlanguage-link interwiki-cs mw-list-item\"><a class=\"interlanguage-link-target\" href=\"https://cs.wikipedia.org/wiki/\" hreflang=\"cs\" lang=\"cs\" title=\"Czech\"><span>Čeština</span></a></li><li class=\"interlanguage-link interwiki-da mw-list-item\"><a class=\"interlanguage-link-target\" href=\"https://da.wikipedia.org/wiki/\" hreflang=\"da\" lang=\"da\" title=\"Danish\"><span>Dansk</span></a></li><li class=\"interlanguage-link interwiki-de mw-list-item\"><a class=\"interlanguage-link-target\" href=\"https://de.wikipedia.org/wiki/\" hreflang=\"de\" lang=\"de\" title=\"German\"><span>Deutsch</span></a></li><li class=\"interlanguage-link interwiki-et mw-list-item\"><a class=\"interlanguage-link-target\" href=\"https://et.wikipedia.org/wiki/\" hreflang=\"et\" lang=\"et\" title=\"Estonian\"><span>Eesti</span></a></li><li class=\"interlanguage-link interwiki-el mw-list-item\"><a class=\"interlanguage-link-target\" href=\"https://el.wikipedia.org/wiki/\" hreflang=\"el\" lang=\"el\" title=\"Greek\"><span>Ελληνικά</span></a></li><li class=\"interlanguage-link interwiki-es mw-list-item\"><a class=\"interlanguage-link-target\" href=\"https://es.wikipedia.org/wiki/\" hreflang=\"es\" lang=\"es\" title=\"Spanish\"><span>Español</span></a></li><li class=\"interlanguage-link interwiki-eo mw-list-item\"><a class=\"interlanguage-link-target\" href=\"https://eo.wikipedia.org/wiki/\" hreflang=\"eo\" lang=\"eo\" title=\"Esperanto\"><span>Esperanto</span></a></li><li class=\"interlanguage-link interwiki-eu mw-list-item\"><a class=\"interlanguage-link-target\" href=\"https://eu.wikipedia.org/wiki/\" hreflang=\"eu\" lang=\"eu\" title=\"Basque\"><span>Euskara</span></a></li><li class=\"interlanguage-link interwiki-fa mw-list-item\"><a class=\"interlanguage-link-target\" href=\"https://fa.wikipedia.org/wiki/\" hreflang=\"fa\" lang=\"fa\" title=\"Persian\"><span>فارسی</span></a></li><li class=\"interlanguage-link interwiki-fr mw-list-item\"><a class=\"interlanguage-link-target\" href=\"https://fr.wikipedia.org/wiki/\" hreflang=\"fr\" lang=\"fr\" title=\"French\"><span>Français</span></a></li><li class=\"interlanguage-link interwiki-gl mw-list-item\"><a class=\"interlanguage-link-target\" href=\"https://gl.wikipedia.org/wiki/\" hreflang=\"gl\" lang=\"gl\" title=\"Galician\"><span>Galego</span></a></li><li class=\"interlanguage-link interwiki-ko mw-list-item\"><a class=\"interlanguage-link-target\" href=\"https://ko.wikipedia.org/wiki/\" hreflang=\"ko\" lang=\"ko\" title=\"Korean\"><span>한국어</span></a></li><li class=\"interlanguage-link interwiki-hr mw-list-item\"><a class=\"interlanguage-link-target\" href=\"https://hr.wikipedia.org/wiki/\" hreflang=\"hr\" lang=\"hr\" title=\"Croatian\"><span>Hrvatski</span></a></li><li class=\"interlanguage-link interwiki-id mw-list-item\"><a class=\"interlanguage-link-target\" href=\"https://id.wikipedia.org/wiki/\" hreflang=\"id\" lang=\"id\" title=\"Indonesian\"><span>Bahasa Indonesia</span></a></li><li class=\"interlanguage-link interwiki-it mw-list-item\"><a class=\"interlanguage-link-target\" href=\"https://it.wikipedia.org/wiki/\" hreflang=\"it\" lang=\"it\" title=\"Italian\"><span>Italiano</span></a></li><li class=\"interlanguage-link interwiki-he mw-list-item\"><a class=\"interlanguage-link-target\" href=\"https://he.wikipedia.org/wiki/\" hreflang=\"he\" lang=\"he\" title=\"Hebrew\"><span>עברית</span></a></li><li class=\"interlanguage-link interwiki-ka mw-list-item\"><a class=\"interlanguage-link-target\" href=\"https://ka.wikipedia.org/wiki/\" hreflang=\"ka\" lang=\"ka\" title=\"Georgian\"><span>ქართული</span></a></li><li class=\"interlanguage-link interwiki-lv mw-list-item\"><a class=\"interlanguage-link-target\" href=\"https://lv.wikipedia.org/wiki/\" hreflang=\"lv\" lang=\"lv\" title=\"Latvian\"><span>Latviešu</span></a></li><li class=\"interlanguage-link interwiki-lt mw-list-item\"><a class=\"interlanguage-link-target\" href=\"https://lt.wikipedia.org/wiki/\" hreflang=\"lt\" lang=\"lt\" title=\"Lithuanian\"><span>Lietuvių</span></a></li><li class=\"interlanguage-link interwiki-hu mw-list-item\"><a class=\"interlanguage-link-target\" href=\"https://hu.wikipedia.org/wiki/\" hreflang=\"hu\" lang=\"hu\" title=\"Hungarian\"><span>Magyar</span></a></li><li class=\"interlanguage-link interwiki-mk mw-list-item\"><a class=\"interlanguage-link-target\" href=\"https://mk.wikipedia.org/wiki/\" hreflang=\"mk\" lang=\"mk\" title=\"Macedonian\"><span>Македонски</span></a></li><li class=\"interlanguage-link interwiki-ms mw-list-item\"><a class=\"interlanguage-link-target\" href=\"https://ms.wikipedia.org/wiki/\" hreflang=\"ms\" lang=\"ms\" title=\"Malay\"><span>Bahasa Melayu</span></a></li><li class=\"interlanguage-link interwiki-nl mw-list-item\"><a class=\"interlanguage-link-target\" href=\"https://nl.wikipedia.org/wiki/\" hreflang=\"nl\" lang=\"nl\" title=\"Dutch\"><span>Nederlands</span></a></li><li class=\"interlanguage-link interwiki-ja mw-list-item\"><a class=\"interlanguage-link-target\" href=\"https://ja.wikipedia.org/wiki/\" hreflang=\"ja\" lang=\"ja\" title=\"Japanese\"><span>日本語</span></a></li><li class=\"interlanguage-link interwiki-no mw-list-item\"><a class=\"interlanguage-link-target\" href=\"https://no.wikipedia.org/wiki/\" hreflang=\"nb\" lang=\"nb\" title=\"Norwegian Bokmål\"><span>Norsk bokmål</span></a></li><li class=\"interlanguage-link interwiki-nn mw-list-item\"><a class=\"interlanguage-link-target\" href=\"https://nn.wikipedia.org/wiki/\" hreflang=\"nn\" lang=\"nn\" title=\"Norwegian Nynorsk\"><span>Norsk nynorsk</span></a></li><li class=\"interlanguage-link interwiki-pl mw-list-item\"><a class=\"interlanguage-link-target\" href=\"https://pl.wikipedia.org/wiki/\" hreflang=\"pl\" lang=\"pl\" title=\"Polish\"><span>Polski</span></a></li><li class=\"interlanguage-link interwiki-pt mw-list-item\"><a class=\"interlanguage-link-target\" href=\"https://pt.wikipedia.org/wiki/\" hreflang=\"pt\" lang=\"pt\" title=\"Portuguese\"><span>Português</span></a></li><li class=\"interlanguage-link interwiki-ro mw-list-item\"><a class=\"interlanguage-link-target\" href=\"https://ro.wikipedia.org/wiki/\" hreflang=\"ro\" lang=\"ro\" title=\"Romanian\"><span>Română</span></a></li><li class=\"interlanguage-link interwiki-ru mw-list-item\"><a class=\"interlanguage-link-target\" href=\"https://ru.wikipedia.org/wiki/\" hreflang=\"ru\" lang=\"ru\" title=\"Russian\"><span>Русский</span></a></li><li class=\"interlanguage-link interwiki-simple mw-list-item\"><a class=\"interlanguage-link-target\" href=\"https://simple.wikipedia.org/wiki/\" hreflang=\"en-simple\" lang=\"en-simple\" title=\"Simple English\"><span>Simple English</span></a></li><li class=\"interlanguage-link interwiki-sk mw-list-item\"><a class=\"interlanguage-link-target\" href=\"https://sk.wikipedia.org/wiki/\" hreflang=\"sk\" lang=\"sk\" title=\"Slovak\"><span>Slovenčina</span></a></li><li class=\"interlanguage-link interwiki-sl mw-list-item\"><a class=\"interlanguage-link-target\" href=\"https://sl.wikipedia.org/wiki/\" hreflang=\"sl\" lang=\"sl\" title=\"Slovenian\"><span>Slovenščina</span></a></li><li class=\"interlanguage-link interwiki-sr mw-list-item\"><a class=\"interlanguage-link-target\" href=\"https://sr.wikipedia.org/wiki/\" hreflang=\"sr\" lang=\"sr\" title=\"Serbian\"><span>Српски / srpski</span></a></li><li class=\"interlanguage-link interwiki-sh mw-list-item\"><a class=\"interlanguage-link-target\" href=\"https://sh.wikipedia.org/wiki/\" hreflang=\"sh\" lang=\"sh\" title=\"Serbo-Croatian\"><span>Srpskohrvatski / српскохрватски</span></a></li><li class=\"interlanguage-link interwiki-fi mw-list-item\"><a class=\"interlanguage-link-target\" href=\"https://fi.wikipedia.org/wiki/\" hreflang=\"fi\" lang=\"fi\" title=\"Finnish\"><span>Suomi</span></a></li><li class=\"interlanguage-link interwiki-sv mw-list-item\"><a class=\"interlanguage-link-target\" href=\"https://sv.wikipedia.org/wiki/\" hreflang=\"sv\" lang=\"sv\" title=\"Swedish\"><span>Svenska</span></a></li><li class=\"interlanguage-link interwiki-th mw-list-item\"><a class=\"interlanguage-link-target\" href=\"https://th.wikipedia.org/wiki/\" hreflang=\"th\" lang=\"th\" title=\"Thai\"><span>ไทย</span></a></li><li class=\"interlanguage-link interwiki-tr mw-list-item\"><a class=\"interlanguage-link-target\" href=\"https://tr.wikipedia.org/wiki/\" hreflang=\"tr\" lang=\"tr\" title=\"Turkish\"><span>Türkçe</span></a></li><li class=\"interlanguage-link interwiki-uk mw-list-item\"><a class=\"interlanguage-link-target\" href=\"https://uk.wikipedia.org/wiki/\" hreflang=\"uk\" lang=\"uk\" title=\"Ukrainian\"><span>Українська</span></a></li><li class=\"interlanguage-link interwiki-vi mw-list-item\"><a class=\"interlanguage-link-target\" href=\"https://vi.wikipedia.org/wiki/\" hreflang=\"vi\" lang=\"vi\" title=\"Vietnamese\"><span>Tiếng Việt</span></a></li><li class=\"interlanguage-link interwiki-zh mw-list-item\"><a class=\"interlanguage-link-target\" href=\"https://zh.wikipedia.org/wiki/\" hreflang=\"zh\" lang=\"zh\" title=\"Chinese\"><span>中文</span></a></li></ul>\n",
       "</div>\n",
       "</div>\n",
       "</div>\n",
       "</main>\n",
       "</div>\n",
       "<div class=\"mw-footer-container\">\n",
       "<footer class=\"mw-footer\" id=\"footer\" role=\"contentinfo\">\n",
       "<ul id=\"footer-info\">\n",
       "<li id=\"footer-info-lastmod\"> This page was last edited on 5 October 2022, at 19:27<span class=\"anonymous-show\"> (UTC)</span>.</li>\n",
       "<li id=\"footer-info-copyright\">Text is available under the <a href=\"//en.wikipedia.org/wiki/Wikipedia:Text_of_the_Creative_Commons_Attribution-ShareAlike_3.0_Unported_License\" rel=\"license\">Creative Commons Attribution-ShareAlike License 3.0</a><a href=\"//creativecommons.org/licenses/by-sa/3.0/\" rel=\"license\" style=\"display:none;\"></a>;\n",
       "additional terms may apply.  By using this site, you agree to the <a href=\"//foundation.wikimedia.org/wiki/Terms_of_Use\">Terms of Use</a> and <a href=\"//foundation.wikimedia.org/wiki/Privacy_policy\">Privacy Policy</a>. Wikipedia® is a registered trademark of the <a href=\"//www.wikimediafoundation.org/\">Wikimedia Foundation, Inc.</a>, a non-profit organization.</li>\n",
       "</ul>\n",
       "<ul id=\"footer-places\">\n",
       "<li id=\"footer-places-privacy\"><a href=\"https://foundation.wikimedia.org/wiki/Privacy_policy\">Privacy policy</a></li>\n",
       "<li id=\"footer-places-about\"><a href=\"/wiki/Wikipedia:About\">About Wikipedia</a></li>\n",
       "<li id=\"footer-places-disclaimers\"><a href=\"/wiki/Wikipedia:General_disclaimer\">Disclaimers</a></li>\n",
       "<li id=\"footer-places-contact\"><a href=\"//en.wikipedia.org/wiki/Wikipedia:Contact_us\">Contact Wikipedia</a></li>\n",
       "<li id=\"footer-places-mobileview\"><a class=\"noprint stopMobileRedirectToggle\" href=\"//en.m.wikipedia.org/w/index.php?title=Main_Page&amp;mobileaction=toggle_view_mobile\">Mobile view</a></li>\n",
       "<li id=\"footer-places-developers\"><a href=\"https://developer.wikimedia.org\">Developers</a></li>\n",
       "<li id=\"footer-places-statslink\"><a href=\"https://stats.wikimedia.org/#/en.wikipedia.org\">Statistics</a></li>\n",
       "<li id=\"footer-places-cookiestatement\"><a href=\"https://foundation.wikimedia.org/wiki/Cookie_statement\">Cookie statement</a></li>\n",
       "</ul>\n",
       "<ul class=\"noprint\" id=\"footer-icons\">\n",
       "<li id=\"footer-copyrightico\"><a href=\"https://wikimediafoundation.org/\"><img alt=\"Wikimedia Foundation\" height=\"31\" loading=\"lazy\" src=\"/static/images/footer/wikimedia-button.png\" srcset=\"/static/images/footer/wikimedia-button-1.5x.png 1.5x, /static/images/footer/wikimedia-button-2x.png 2x\" width=\"88\"/></a></li>\n",
       "<li id=\"footer-poweredbyico\"><a href=\"https://www.mediawiki.org/\"><img alt=\"Powered by MediaWiki\" height=\"31\" loading=\"lazy\" src=\"/static/images/footer/poweredby_mediawiki_88x31.png\" srcset=\"/static/images/footer/poweredby_mediawiki_132x47.png 1.5x, /static/images/footer/poweredby_mediawiki_176x62.png 2x\" width=\"88\"/></a></li>\n",
       "</ul>\n",
       "</footer>\n",
       "</div>\n",
       "</div>\n",
       "</div>\n",
       "<script>(RLQ=window.RLQ||[]).push(function(){mw.config.set({\"wgPageParseReport\":{\"limitreport\":{\"cputime\":\"0.251\",\"walltime\":\"0.369\",\"ppvisitednodes\":{\"value\":4188,\"limit\":1000000},\"postexpandincludesize\":{\"value\":121123,\"limit\":2097152},\"templateargumentsize\":{\"value\":11596,\"limit\":2097152},\"expansiondepth\":{\"value\":18,\"limit\":100},\"expensivefunctioncount\":{\"value\":13,\"limit\":500},\"unstrip-depth\":{\"value\":0,\"limit\":20},\"unstrip-size\":{\"value\":38717,\"limit\":5000000},\"entityaccesscount\":{\"value\":0,\"limit\":400},\"timingprofile\":[\"100.00%  270.439      1 -total\",\" 33.66%   91.026      1 Wikipedia:Main_Page/Tomorrow\",\" 25.89%   70.030      1 Wikipedia:Today's_featured_article/February_11,_2023\",\" 22.25%   60.161      8 Template:Main_page_image\",\" 16.17%   43.722      1 Template:Did_you_know/Queue/5\",\" 15.81%   42.755      8 Template:Str_number/trim\",\" 13.31%   35.998      2 Template:Main_page_image/TFA\",\" 12.97%   35.067      2 Template:In_the_news\",\" 11.77%   31.843     26 Template:Flatlist\",\" 11.57%   31.290      2 Template:Wikipedia_languages\"]},\"scribunto\":{\"limitreport-timeusage\":{\"value\":\"0.048\",\"limit\":\"10.000\"},\"limitreport-memusage\":{\"value\":1916236,\"limit\":52428800}},\"cachereport\":{\"origin\":\"mw2335\",\"timestamp\":\"20230211073335\",\"ttl\":3600,\"transientcontent\":true}}});});</script>\n",
       "<script type=\"application/ld+json\">{\"@context\":\"https:\\/\\/schema.org\",\"@type\":\"Article\",\"name\":\"Main Page\",\"url\":\"https:\\/\\/en.wikipedia.org\\/wiki\\/Main_Page\",\"sameAs\":\"http:\\/\\/www.wikidata.org\\/entity\\/Q5296\",\"mainEntity\":\"http:\\/\\/www.wikidata.org\\/entity\\/Q5296\",\"author\":{\"@type\":\"Organization\",\"name\":\"Contributors to Wikimedia projects\"},\"publisher\":{\"@type\":\"Organization\",\"name\":\"Wikimedia Foundation, Inc.\",\"logo\":{\"@type\":\"ImageObject\",\"url\":\"https:\\/\\/www.wikimedia.org\\/static\\/images\\/wmf-hor-googpub.png\"}},\"datePublished\":\"2002-01-26T15:28:12Z\",\"dateModified\":\"2022-10-05T19:27:50Z\",\"image\":\"https:\\/\\/upload.wikimedia.org\\/wikipedia\\/commons\\/e\\/ef\\/2023_Turkey_Earthquake_Damage.jpg\",\"headline\":\"Wikimedia project page\"}</script><script type=\"application/ld+json\">{\"@context\":\"https:\\/\\/schema.org\",\"@type\":\"Article\",\"name\":\"Main Page\",\"url\":\"https:\\/\\/en.wikipedia.org\\/wiki\\/Main_Page\",\"sameAs\":\"http:\\/\\/www.wikidata.org\\/entity\\/Q5296\",\"mainEntity\":\"http:\\/\\/www.wikidata.org\\/entity\\/Q5296\",\"author\":{\"@type\":\"Organization\",\"name\":\"Contributors to Wikimedia projects\"},\"publisher\":{\"@type\":\"Organization\",\"name\":\"Wikimedia Foundation, Inc.\",\"logo\":{\"@type\":\"ImageObject\",\"url\":\"https:\\/\\/www.wikimedia.org\\/static\\/images\\/wmf-hor-googpub.png\"}},\"datePublished\":\"2002-01-26T15:28:12Z\",\"dateModified\":\"2022-10-05T19:27:50Z\",\"image\":\"https:\\/\\/upload.wikimedia.org\\/wikipedia\\/commons\\/e\\/ef\\/2023_Turkey_Earthquake_Damage.jpg\",\"headline\":\"Wikimedia project page\"}</script>\n",
       "<script>(RLQ=window.RLQ||[]).push(function(){mw.config.set({\"wgBackendResponseTime\":97,\"wgHostname\":\"mw2365\"});});</script>\n",
       "</body>\n",
       "</html>"
      ]
     },
     "execution_count": 5,
     "metadata": {},
     "output_type": "execute_result"
    }
   ],
   "source": [
    "soup = BeautifulSoup(page.content)\n",
    "soup"
   ]
  },
  {
   "cell_type": "code",
   "execution_count": 6,
   "id": "08c94db4",
   "metadata": {},
   "outputs": [
    {
     "data": {
      "text/plain": [
       "<div class=\"thumbcaption\" style=\"padding: 0.25em 0; word-wrap: break-word;\">Grotto of Our Lady of Lourdes, Notre Dame</div>"
      ]
     },
     "execution_count": 6,
     "metadata": {},
     "output_type": "execute_result"
    }
   ],
   "source": [
    "first_title = soup.find('div',class_=\"thumbcaption\")\n",
    "first_title\n"
   ]
  },
  {
   "cell_type": "code",
   "execution_count": 7,
   "id": "2580b2b1",
   "metadata": {},
   "outputs": [
    {
     "data": {
      "text/plain": [
       "'Grotto of Our Lady of Lourdes, Notre Dame'"
      ]
     },
     "execution_count": 7,
     "metadata": {},
     "output_type": "execute_result"
    }
   ],
   "source": [
    "first_title.text"
   ]
  },
  {
   "cell_type": "code",
   "execution_count": 11,
   "id": "d4ce17d8",
   "metadata": {},
   "outputs": [
    {
     "data": {
      "text/plain": [
       "['\\nIn the news\\n\\n\\nEarthquake damage in Diyarbakır\\n\\nAn earthquake (damage pictured) strikes Turkey and Syria, killing over 25,000 people and injuring more than 87,000 others.\\nFormer Pakistani president Pervez Musharraf dies at the age of 79.\\nA Chinese balloon suspected of surveillance and espionage is shot down after overflying Canada and the United States.\\nComet C/2022 E3 (ZTF) makes its closest approach to the Earth.\\nA suicide bombing in a mosque in Peshawar, Pakistan, kills 100 people and injures more than 220 others.\\n\\nOngoing: \\nPeruvian protests\\nRussian invasion of Ukraine\\nRecent deaths: \\nRoberto Ongpin\\nTunku Abdul Aziz\\nHarry Whittington\\nJanet Anderson\\nHsing Yun\\nMay Sayegh\\n\\nNominate an article\\n\\nOn this day\\n\\nFebruary 11: National Foundation Day in Japan (660\\xa0BC)\\n\\n\\n\\n\"Le beau vingt-et-unième\"from La fille du régiment\\n\\n1584 – Spanish explorer Pedro Sarmiento de Gamboa founded the town of Nombre de Jesús, the first of two short-lived colonies at the Strait of Magellan.\\n1823 – Around 110 boys were killed in a human crush at the Convent of the Minori Osservanti in Valletta on the last day of the Maltese Carnival.\\n1840 – La fille du régiment (audio featured), an opéra comique by Gaetano Donizetti, premiered in Paris to highly negative reviews but later became a success.\\n1919 – Friedrich Ebert was elected the provisional president of Germany by the Weimar National Assembly.\\n2008 – Rebel East Timorese soldiers invaded the homes of President José Ramos-Horta and Prime Minister Xanana Gusmão, seriously wounding the former.\\nRené Descartes  (d.\\xa01650)Elizabeth Siddal  (d.\\xa01862)Whitney Houston  (d.\\xa02012)\\n\\nMore anniversaries: \\nFebruary 10\\nFebruary 11\\nFebruary 12\\n\\n\\nArchive\\nBy email\\nList of days of the year\\n\\n']"
      ]
     },
     "execution_count": 11,
     "metadata": {},
     "output_type": "execute_result"
    }
   ],
   "source": [
    "Titles = []\n",
    "for i in soup.find_all('div',class_=\"MainPageBG\"):\n",
    "    Titles.append(i.text)\n",
    "    \n",
    "Titles[1:2]"
   ]
  },
  {
   "cell_type": "code",
   "execution_count": null,
   "id": "889f24c9",
   "metadata": {},
   "outputs": [],
   "source": [
    "2) Write a python program to display IMDB’s Top rated 50 movies’ data (i.e. name, rating, year of release) \n",
    "and make data frame.\n"
   ]
  },
  {
   "cell_type": "code",
   "execution_count": 12,
   "id": "5a2fee72",
   "metadata": {},
   "outputs": [],
   "source": [
    "url='https://www.imdb.com/list/ls055386972/'"
   ]
  },
  {
   "cell_type": "code",
   "execution_count": 13,
   "id": "97b393ba",
   "metadata": {},
   "outputs": [],
   "source": [
    "IMBD = requests.get(url)"
   ]
  },
  {
   "cell_type": "code",
   "execution_count": 39,
   "id": "d61c2618",
   "metadata": {},
   "outputs": [],
   "source": [
    "soup=BeautifulSoup(IMBD.content)"
   ]
  },
  {
   "cell_type": "code",
   "execution_count": 40,
   "id": "a989f472",
   "metadata": {},
   "outputs": [],
   "source": [
    "movie_name=[i.text.split('\\n')[2] for i in soup.find_all( class_=\"lister-item-header\")]"
   ]
  },
  {
   "cell_type": "code",
   "execution_count": 41,
   "id": "e095efd9",
   "metadata": {},
   "outputs": [
    {
     "data": {
      "text/plain": [
       "['Awaara',\n",
       " 'Shree 420',\n",
       " 'Pyaasa',\n",
       " 'Madhumati',\n",
       " 'Kanoon',\n",
       " 'Mughal-E-Azam',\n",
       " 'Kala Bazar',\n",
       " 'Woh Kaun Thi?',\n",
       " 'Guide',\n",
       " 'Amrapali',\n",
       " 'Anand',\n",
       " 'Rajnigandha',\n",
       " 'Arvind Desai Ki Ajeeb Dastaan',\n",
       " 'Satte Pe Satta',\n",
       " 'Disco Dancer',\n",
       " 'Jaane Bhi Do Yaaro',\n",
       " 'Ardh Satya',\n",
       " 'Katha',\n",
       " 'Parinda',\n",
       " 'Baazigar',\n",
       " 'Darr',\n",
       " 'Rangeela',\n",
       " 'Dilwale Dulhania Le Jayenge',\n",
       " 'Border',\n",
       " 'Satya',\n",
       " 'Kaun?',\n",
       " 'Hera Pheri',\n",
       " 'Lagaan: Once Upon a Time in India',\n",
       " 'Company',\n",
       " 'Darna Mana Hai',\n",
       " 'Munna Bhai M.B.B.S.',\n",
       " 'Khakee',\n",
       " 'Veer-Zaara',\n",
       " 'Swades: We, the People',\n",
       " 'Main, Meri Patni... Aur Woh!',\n",
       " 'Garam Masala',\n",
       " 'Don',\n",
       " 'Guru',\n",
       " 'Chak De! India',\n",
       " 'No Smoking',\n",
       " 'A Wednesday',\n",
       " '3 Idiots',\n",
       " 'My Name Is Khan',\n",
       " 'Guzaarish',\n",
       " 'Zindagi Na Milegi Dobara',\n",
       " 'Rockstar',\n",
       " 'Don 2',\n",
       " 'Piku',\n",
       " 'Airlift',\n",
       " 'Andhadhun']"
      ]
     },
     "execution_count": 41,
     "metadata": {},
     "output_type": "execute_result"
    }
   ],
   "source": [
    "movie_name"
   ]
  },
  {
   "cell_type": "code",
   "execution_count": 22,
   "id": "99f900e2",
   "metadata": {},
   "outputs": [],
   "source": [
    "rating=[i.text.strip() for i in soup.find_all(class_=\"ipl-rating-widget\")]"
   ]
  },
  {
   "cell_type": "code",
   "execution_count": 23,
   "id": "2740445f",
   "metadata": {},
   "outputs": [
    {
     "data": {
      "text/plain": [
       "['9.2\\n\\n\\n\\n\\n\\n\\n\\n\\n\\n\\n\\n\\n0\\n\\n\\n\\n\\n\\n\\n\\n\\nRate\\n\\n\\n\\n\\n\\n \\n\\n\\n\\n\\n\\n\\n\\n\\n\\n\\n\\n\\n\\n\\n\\n\\n1\\n\\n\\n\\n\\n\\n\\n\\n\\nRate\\n\\n\\n\\n\\n\\n\\n\\n\\n\\n\\n\\n2\\n\\n\\n\\n\\n\\n\\n\\n\\nRate\\n\\n\\n\\n\\n\\n\\n\\n\\n\\n\\n\\n3\\n\\n\\n\\n\\n\\n\\n\\n\\nRate\\n\\n\\n\\n\\n\\n\\n\\n\\n\\n\\n\\n4\\n\\n\\n\\n\\n\\n\\n\\n\\nRate\\n\\n\\n\\n\\n\\n\\n\\n\\n\\n\\n\\n5\\n\\n\\n\\n\\n\\n\\n\\n\\nRate\\n\\n\\n\\n\\n\\n\\n\\n\\n\\n\\n\\n6\\n\\n\\n\\n\\n\\n\\n\\n\\nRate\\n\\n\\n\\n\\n\\n\\n\\n\\n\\n\\n\\n7\\n\\n\\n\\n\\n\\n\\n\\n\\nRate\\n\\n\\n\\n\\n\\n\\n\\n\\n\\n\\n\\n8\\n\\n\\n\\n\\n\\n\\n\\n\\nRate\\n\\n\\n\\n\\n\\n\\n\\n\\n\\n\\n\\n9\\n\\n\\n\\n\\n\\n\\n\\n\\nRate\\n\\n\\n\\n\\n\\n\\n\\n\\n\\n\\n\\n10\\n\\n\\n\\n\\n\\n\\n\\n\\nRate\\n\\n\\n\\n\\n\\n\\n\\n\\n\\n\\n\\n\\n\\n\\n0\\n\\n\\nError: please try again.',\n",
       " '9\\n\\n\\n\\n\\n\\n\\n\\n\\n\\n\\n\\n\\n0\\n\\n\\n\\n\\n\\n\\n\\n\\nRate\\n\\n\\n\\n\\n\\n \\n\\n\\n\\n\\n\\n\\n\\n\\n\\n\\n\\n\\n\\n\\n\\n\\n1\\n\\n\\n\\n\\n\\n\\n\\n\\nRate\\n\\n\\n\\n\\n\\n\\n\\n\\n\\n\\n\\n2\\n\\n\\n\\n\\n\\n\\n\\n\\nRate\\n\\n\\n\\n\\n\\n\\n\\n\\n\\n\\n\\n3\\n\\n\\n\\n\\n\\n\\n\\n\\nRate\\n\\n\\n\\n\\n\\n\\n\\n\\n\\n\\n\\n4\\n\\n\\n\\n\\n\\n\\n\\n\\nRate\\n\\n\\n\\n\\n\\n\\n\\n\\n\\n\\n\\n5\\n\\n\\n\\n\\n\\n\\n\\n\\nRate\\n\\n\\n\\n\\n\\n\\n\\n\\n\\n\\n\\n6\\n\\n\\n\\n\\n\\n\\n\\n\\nRate\\n\\n\\n\\n\\n\\n\\n\\n\\n\\n\\n\\n7\\n\\n\\n\\n\\n\\n\\n\\n\\nRate\\n\\n\\n\\n\\n\\n\\n\\n\\n\\n\\n\\n8\\n\\n\\n\\n\\n\\n\\n\\n\\nRate\\n\\n\\n\\n\\n\\n\\n\\n\\n\\n\\n\\n9\\n\\n\\n\\n\\n\\n\\n\\n\\nRate\\n\\n\\n\\n\\n\\n\\n\\n\\n\\n\\n\\n10\\n\\n\\n\\n\\n\\n\\n\\n\\nRate\\n\\n\\n\\n\\n\\n\\n\\n\\n\\n\\n\\n\\n\\n\\n0\\n\\n\\nError: please try again.',\n",
       " '9\\n\\n\\n\\n\\n\\n\\n\\n\\n\\n\\n\\n\\n0\\n\\n\\n\\n\\n\\n\\n\\n\\nRate\\n\\n\\n\\n\\n\\n \\n\\n\\n\\n\\n\\n\\n\\n\\n\\n\\n\\n\\n\\n\\n\\n\\n1\\n\\n\\n\\n\\n\\n\\n\\n\\nRate\\n\\n\\n\\n\\n\\n\\n\\n\\n\\n\\n\\n2\\n\\n\\n\\n\\n\\n\\n\\n\\nRate\\n\\n\\n\\n\\n\\n\\n\\n\\n\\n\\n\\n3\\n\\n\\n\\n\\n\\n\\n\\n\\nRate\\n\\n\\n\\n\\n\\n\\n\\n\\n\\n\\n\\n4\\n\\n\\n\\n\\n\\n\\n\\n\\nRate\\n\\n\\n\\n\\n\\n\\n\\n\\n\\n\\n\\n5\\n\\n\\n\\n\\n\\n\\n\\n\\nRate\\n\\n\\n\\n\\n\\n\\n\\n\\n\\n\\n\\n6\\n\\n\\n\\n\\n\\n\\n\\n\\nRate\\n\\n\\n\\n\\n\\n\\n\\n\\n\\n\\n\\n7\\n\\n\\n\\n\\n\\n\\n\\n\\nRate\\n\\n\\n\\n\\n\\n\\n\\n\\n\\n\\n\\n8\\n\\n\\n\\n\\n\\n\\n\\n\\nRate\\n\\n\\n\\n\\n\\n\\n\\n\\n\\n\\n\\n9\\n\\n\\n\\n\\n\\n\\n\\n\\nRate\\n\\n\\n\\n\\n\\n\\n\\n\\n\\n\\n\\n10\\n\\n\\n\\n\\n\\n\\n\\n\\nRate\\n\\n\\n\\n\\n\\n\\n\\n\\n\\n\\n\\n\\n\\n\\n0\\n\\n\\nError: please try again.',\n",
       " '8.6\\n\\n\\n\\n\\n\\n\\n\\n\\n\\n\\n\\n\\n0\\n\\n\\n\\n\\n\\n\\n\\n\\nRate\\n\\n\\n\\n\\n\\n \\n\\n\\n\\n\\n\\n\\n\\n\\n\\n\\n\\n\\n\\n\\n\\n\\n1\\n\\n\\n\\n\\n\\n\\n\\n\\nRate\\n\\n\\n\\n\\n\\n\\n\\n\\n\\n\\n\\n2\\n\\n\\n\\n\\n\\n\\n\\n\\nRate\\n\\n\\n\\n\\n\\n\\n\\n\\n\\n\\n\\n3\\n\\n\\n\\n\\n\\n\\n\\n\\nRate\\n\\n\\n\\n\\n\\n\\n\\n\\n\\n\\n\\n4\\n\\n\\n\\n\\n\\n\\n\\n\\nRate\\n\\n\\n\\n\\n\\n\\n\\n\\n\\n\\n\\n5\\n\\n\\n\\n\\n\\n\\n\\n\\nRate\\n\\n\\n\\n\\n\\n\\n\\n\\n\\n\\n\\n6\\n\\n\\n\\n\\n\\n\\n\\n\\nRate\\n\\n\\n\\n\\n\\n\\n\\n\\n\\n\\n\\n7\\n\\n\\n\\n\\n\\n\\n\\n\\nRate\\n\\n\\n\\n\\n\\n\\n\\n\\n\\n\\n\\n8\\n\\n\\n\\n\\n\\n\\n\\n\\nRate\\n\\n\\n\\n\\n\\n\\n\\n\\n\\n\\n\\n9\\n\\n\\n\\n\\n\\n\\n\\n\\nRate\\n\\n\\n\\n\\n\\n\\n\\n\\n\\n\\n\\n10\\n\\n\\n\\n\\n\\n\\n\\n\\nRate\\n\\n\\n\\n\\n\\n\\n\\n\\n\\n\\n\\n\\n\\n\\n0\\n\\n\\nError: please try again.',\n",
       " '8.8\\n\\n\\n\\n\\n\\n\\n\\n\\n\\n\\n\\n\\n0\\n\\n\\n\\n\\n\\n\\n\\n\\nRate\\n\\n\\n\\n\\n\\n \\n\\n\\n\\n\\n\\n\\n\\n\\n\\n\\n\\n\\n\\n\\n\\n\\n1\\n\\n\\n\\n\\n\\n\\n\\n\\nRate\\n\\n\\n\\n\\n\\n\\n\\n\\n\\n\\n\\n2\\n\\n\\n\\n\\n\\n\\n\\n\\nRate\\n\\n\\n\\n\\n\\n\\n\\n\\n\\n\\n\\n3\\n\\n\\n\\n\\n\\n\\n\\n\\nRate\\n\\n\\n\\n\\n\\n\\n\\n\\n\\n\\n\\n4\\n\\n\\n\\n\\n\\n\\n\\n\\nRate\\n\\n\\n\\n\\n\\n\\n\\n\\n\\n\\n\\n5\\n\\n\\n\\n\\n\\n\\n\\n\\nRate\\n\\n\\n\\n\\n\\n\\n\\n\\n\\n\\n\\n6\\n\\n\\n\\n\\n\\n\\n\\n\\nRate\\n\\n\\n\\n\\n\\n\\n\\n\\n\\n\\n\\n7\\n\\n\\n\\n\\n\\n\\n\\n\\nRate\\n\\n\\n\\n\\n\\n\\n\\n\\n\\n\\n\\n8\\n\\n\\n\\n\\n\\n\\n\\n\\nRate\\n\\n\\n\\n\\n\\n\\n\\n\\n\\n\\n\\n9\\n\\n\\n\\n\\n\\n\\n\\n\\nRate\\n\\n\\n\\n\\n\\n\\n\\n\\n\\n\\n\\n10\\n\\n\\n\\n\\n\\n\\n\\n\\nRate\\n\\n\\n\\n\\n\\n\\n\\n\\n\\n\\n\\n\\n\\n\\n0\\n\\n\\nError: please try again.',\n",
       " '9.3\\n\\n\\n\\n\\n\\n\\n\\n\\n\\n\\n\\n\\n0\\n\\n\\n\\n\\n\\n\\n\\n\\nRate\\n\\n\\n\\n\\n\\n \\n\\n\\n\\n\\n\\n\\n\\n\\n\\n\\n\\n\\n\\n\\n\\n\\n1\\n\\n\\n\\n\\n\\n\\n\\n\\nRate\\n\\n\\n\\n\\n\\n\\n\\n\\n\\n\\n\\n2\\n\\n\\n\\n\\n\\n\\n\\n\\nRate\\n\\n\\n\\n\\n\\n\\n\\n\\n\\n\\n\\n3\\n\\n\\n\\n\\n\\n\\n\\n\\nRate\\n\\n\\n\\n\\n\\n\\n\\n\\n\\n\\n\\n4\\n\\n\\n\\n\\n\\n\\n\\n\\nRate\\n\\n\\n\\n\\n\\n\\n\\n\\n\\n\\n\\n5\\n\\n\\n\\n\\n\\n\\n\\n\\nRate\\n\\n\\n\\n\\n\\n\\n\\n\\n\\n\\n\\n6\\n\\n\\n\\n\\n\\n\\n\\n\\nRate\\n\\n\\n\\n\\n\\n\\n\\n\\n\\n\\n\\n7\\n\\n\\n\\n\\n\\n\\n\\n\\nRate\\n\\n\\n\\n\\n\\n\\n\\n\\n\\n\\n\\n8\\n\\n\\n\\n\\n\\n\\n\\n\\nRate\\n\\n\\n\\n\\n\\n\\n\\n\\n\\n\\n\\n9\\n\\n\\n\\n\\n\\n\\n\\n\\nRate\\n\\n\\n\\n\\n\\n\\n\\n\\n\\n\\n\\n10\\n\\n\\n\\n\\n\\n\\n\\n\\nRate\\n\\n\\n\\n\\n\\n\\n\\n\\n\\n\\n\\n\\n\\n\\n0\\n\\n\\nError: please try again.',\n",
       " '8\\n\\n\\n\\n\\n\\n\\n\\n\\n\\n\\n\\n\\n0\\n\\n\\n\\n\\n\\n\\n\\n\\nRate\\n\\n\\n\\n\\n\\n \\n\\n\\n\\n\\n\\n\\n\\n\\n\\n\\n\\n\\n\\n\\n\\n\\n1\\n\\n\\n\\n\\n\\n\\n\\n\\nRate\\n\\n\\n\\n\\n\\n\\n\\n\\n\\n\\n\\n2\\n\\n\\n\\n\\n\\n\\n\\n\\nRate\\n\\n\\n\\n\\n\\n\\n\\n\\n\\n\\n\\n3\\n\\n\\n\\n\\n\\n\\n\\n\\nRate\\n\\n\\n\\n\\n\\n\\n\\n\\n\\n\\n\\n4\\n\\n\\n\\n\\n\\n\\n\\n\\nRate\\n\\n\\n\\n\\n\\n\\n\\n\\n\\n\\n\\n5\\n\\n\\n\\n\\n\\n\\n\\n\\nRate\\n\\n\\n\\n\\n\\n\\n\\n\\n\\n\\n\\n6\\n\\n\\n\\n\\n\\n\\n\\n\\nRate\\n\\n\\n\\n\\n\\n\\n\\n\\n\\n\\n\\n7\\n\\n\\n\\n\\n\\n\\n\\n\\nRate\\n\\n\\n\\n\\n\\n\\n\\n\\n\\n\\n\\n8\\n\\n\\n\\n\\n\\n\\n\\n\\nRate\\n\\n\\n\\n\\n\\n\\n\\n\\n\\n\\n\\n9\\n\\n\\n\\n\\n\\n\\n\\n\\nRate\\n\\n\\n\\n\\n\\n\\n\\n\\n\\n\\n\\n10\\n\\n\\n\\n\\n\\n\\n\\n\\nRate\\n\\n\\n\\n\\n\\n\\n\\n\\n\\n\\n\\n\\n\\n\\n0\\n\\n\\nError: please try again.',\n",
       " '8.6\\n\\n\\n\\n\\n\\n\\n\\n\\n\\n\\n\\n\\n0\\n\\n\\n\\n\\n\\n\\n\\n\\nRate\\n\\n\\n\\n\\n\\n \\n\\n\\n\\n\\n\\n\\n\\n\\n\\n\\n\\n\\n\\n\\n\\n\\n1\\n\\n\\n\\n\\n\\n\\n\\n\\nRate\\n\\n\\n\\n\\n\\n\\n\\n\\n\\n\\n\\n2\\n\\n\\n\\n\\n\\n\\n\\n\\nRate\\n\\n\\n\\n\\n\\n\\n\\n\\n\\n\\n\\n3\\n\\n\\n\\n\\n\\n\\n\\n\\nRate\\n\\n\\n\\n\\n\\n\\n\\n\\n\\n\\n\\n4\\n\\n\\n\\n\\n\\n\\n\\n\\nRate\\n\\n\\n\\n\\n\\n\\n\\n\\n\\n\\n\\n5\\n\\n\\n\\n\\n\\n\\n\\n\\nRate\\n\\n\\n\\n\\n\\n\\n\\n\\n\\n\\n\\n6\\n\\n\\n\\n\\n\\n\\n\\n\\nRate\\n\\n\\n\\n\\n\\n\\n\\n\\n\\n\\n\\n7\\n\\n\\n\\n\\n\\n\\n\\n\\nRate\\n\\n\\n\\n\\n\\n\\n\\n\\n\\n\\n\\n8\\n\\n\\n\\n\\n\\n\\n\\n\\nRate\\n\\n\\n\\n\\n\\n\\n\\n\\n\\n\\n\\n9\\n\\n\\n\\n\\n\\n\\n\\n\\nRate\\n\\n\\n\\n\\n\\n\\n\\n\\n\\n\\n\\n10\\n\\n\\n\\n\\n\\n\\n\\n\\nRate\\n\\n\\n\\n\\n\\n\\n\\n\\n\\n\\n\\n\\n\\n\\n0\\n\\n\\nError: please try again.',\n",
       " '8.5\\n\\n\\n\\n\\n\\n\\n\\n\\n\\n\\n\\n\\n0\\n\\n\\n\\n\\n\\n\\n\\n\\nRate\\n\\n\\n\\n\\n\\n \\n\\n\\n\\n\\n\\n\\n\\n\\n\\n\\n\\n\\n\\n\\n\\n\\n1\\n\\n\\n\\n\\n\\n\\n\\n\\nRate\\n\\n\\n\\n\\n\\n\\n\\n\\n\\n\\n\\n2\\n\\n\\n\\n\\n\\n\\n\\n\\nRate\\n\\n\\n\\n\\n\\n\\n\\n\\n\\n\\n\\n3\\n\\n\\n\\n\\n\\n\\n\\n\\nRate\\n\\n\\n\\n\\n\\n\\n\\n\\n\\n\\n\\n4\\n\\n\\n\\n\\n\\n\\n\\n\\nRate\\n\\n\\n\\n\\n\\n\\n\\n\\n\\n\\n\\n5\\n\\n\\n\\n\\n\\n\\n\\n\\nRate\\n\\n\\n\\n\\n\\n\\n\\n\\n\\n\\n\\n6\\n\\n\\n\\n\\n\\n\\n\\n\\nRate\\n\\n\\n\\n\\n\\n\\n\\n\\n\\n\\n\\n7\\n\\n\\n\\n\\n\\n\\n\\n\\nRate\\n\\n\\n\\n\\n\\n\\n\\n\\n\\n\\n\\n8\\n\\n\\n\\n\\n\\n\\n\\n\\nRate\\n\\n\\n\\n\\n\\n\\n\\n\\n\\n\\n\\n9\\n\\n\\n\\n\\n\\n\\n\\n\\nRate\\n\\n\\n\\n\\n\\n\\n\\n\\n\\n\\n\\n10\\n\\n\\n\\n\\n\\n\\n\\n\\nRate\\n\\n\\n\\n\\n\\n\\n\\n\\n\\n\\n\\n\\n\\n\\n0\\n\\n\\nError: please try again.',\n",
       " '8\\n\\n\\n\\n\\n\\n\\n\\n\\n\\n\\n\\n\\n0\\n\\n\\n\\n\\n\\n\\n\\n\\nRate\\n\\n\\n\\n\\n\\n \\n\\n\\n\\n\\n\\n\\n\\n\\n\\n\\n\\n\\n\\n\\n\\n\\n1\\n\\n\\n\\n\\n\\n\\n\\n\\nRate\\n\\n\\n\\n\\n\\n\\n\\n\\n\\n\\n\\n2\\n\\n\\n\\n\\n\\n\\n\\n\\nRate\\n\\n\\n\\n\\n\\n\\n\\n\\n\\n\\n\\n3\\n\\n\\n\\n\\n\\n\\n\\n\\nRate\\n\\n\\n\\n\\n\\n\\n\\n\\n\\n\\n\\n4\\n\\n\\n\\n\\n\\n\\n\\n\\nRate\\n\\n\\n\\n\\n\\n\\n\\n\\n\\n\\n\\n5\\n\\n\\n\\n\\n\\n\\n\\n\\nRate\\n\\n\\n\\n\\n\\n\\n\\n\\n\\n\\n\\n6\\n\\n\\n\\n\\n\\n\\n\\n\\nRate\\n\\n\\n\\n\\n\\n\\n\\n\\n\\n\\n\\n7\\n\\n\\n\\n\\n\\n\\n\\n\\nRate\\n\\n\\n\\n\\n\\n\\n\\n\\n\\n\\n\\n8\\n\\n\\n\\n\\n\\n\\n\\n\\nRate\\n\\n\\n\\n\\n\\n\\n\\n\\n\\n\\n\\n9\\n\\n\\n\\n\\n\\n\\n\\n\\nRate\\n\\n\\n\\n\\n\\n\\n\\n\\n\\n\\n\\n10\\n\\n\\n\\n\\n\\n\\n\\n\\nRate\\n\\n\\n\\n\\n\\n\\n\\n\\n\\n\\n\\n\\n\\n\\n0\\n\\n\\nError: please try again.',\n",
       " '8.3\\n\\n\\n\\n\\n\\n\\n\\n\\n\\n\\n\\n\\n0\\n\\n\\n\\n\\n\\n\\n\\n\\nRate\\n\\n\\n\\n\\n\\n \\n\\n\\n\\n\\n\\n\\n\\n\\n\\n\\n\\n\\n\\n\\n\\n\\n1\\n\\n\\n\\n\\n\\n\\n\\n\\nRate\\n\\n\\n\\n\\n\\n\\n\\n\\n\\n\\n\\n2\\n\\n\\n\\n\\n\\n\\n\\n\\nRate\\n\\n\\n\\n\\n\\n\\n\\n\\n\\n\\n\\n3\\n\\n\\n\\n\\n\\n\\n\\n\\nRate\\n\\n\\n\\n\\n\\n\\n\\n\\n\\n\\n\\n4\\n\\n\\n\\n\\n\\n\\n\\n\\nRate\\n\\n\\n\\n\\n\\n\\n\\n\\n\\n\\n\\n5\\n\\n\\n\\n\\n\\n\\n\\n\\nRate\\n\\n\\n\\n\\n\\n\\n\\n\\n\\n\\n\\n6\\n\\n\\n\\n\\n\\n\\n\\n\\nRate\\n\\n\\n\\n\\n\\n\\n\\n\\n\\n\\n\\n7\\n\\n\\n\\n\\n\\n\\n\\n\\nRate\\n\\n\\n\\n\\n\\n\\n\\n\\n\\n\\n\\n8\\n\\n\\n\\n\\n\\n\\n\\n\\nRate\\n\\n\\n\\n\\n\\n\\n\\n\\n\\n\\n\\n9\\n\\n\\n\\n\\n\\n\\n\\n\\nRate\\n\\n\\n\\n\\n\\n\\n\\n\\n\\n\\n\\n10\\n\\n\\n\\n\\n\\n\\n\\n\\nRate\\n\\n\\n\\n\\n\\n\\n\\n\\n\\n\\n\\n\\n\\n\\n0\\n\\n\\nError: please try again.',\n",
       " '8.2\\n\\n\\n\\n\\n\\n\\n\\n\\n\\n\\n\\n\\n0\\n\\n\\n\\n\\n\\n\\n\\n\\nRate\\n\\n\\n\\n\\n\\n \\n\\n\\n\\n\\n\\n\\n\\n\\n\\n\\n\\n\\n\\n\\n\\n\\n1\\n\\n\\n\\n\\n\\n\\n\\n\\nRate\\n\\n\\n\\n\\n\\n\\n\\n\\n\\n\\n\\n2\\n\\n\\n\\n\\n\\n\\n\\n\\nRate\\n\\n\\n\\n\\n\\n\\n\\n\\n\\n\\n\\n3\\n\\n\\n\\n\\n\\n\\n\\n\\nRate\\n\\n\\n\\n\\n\\n\\n\\n\\n\\n\\n\\n4\\n\\n\\n\\n\\n\\n\\n\\n\\nRate\\n\\n\\n\\n\\n\\n\\n\\n\\n\\n\\n\\n5\\n\\n\\n\\n\\n\\n\\n\\n\\nRate\\n\\n\\n\\n\\n\\n\\n\\n\\n\\n\\n\\n6\\n\\n\\n\\n\\n\\n\\n\\n\\nRate\\n\\n\\n\\n\\n\\n\\n\\n\\n\\n\\n\\n7\\n\\n\\n\\n\\n\\n\\n\\n\\nRate\\n\\n\\n\\n\\n\\n\\n\\n\\n\\n\\n\\n8\\n\\n\\n\\n\\n\\n\\n\\n\\nRate\\n\\n\\n\\n\\n\\n\\n\\n\\n\\n\\n\\n9\\n\\n\\n\\n\\n\\n\\n\\n\\nRate\\n\\n\\n\\n\\n\\n\\n\\n\\n\\n\\n\\n10\\n\\n\\n\\n\\n\\n\\n\\n\\nRate\\n\\n\\n\\n\\n\\n\\n\\n\\n\\n\\n\\n\\n\\n\\n0\\n\\n\\nError: please try again.',\n",
       " '8.1\\n\\n\\n\\n\\n\\n\\n\\n\\n\\n\\n\\n\\n0\\n\\n\\n\\n\\n\\n\\n\\n\\nRate\\n\\n\\n\\n\\n\\n \\n\\n\\n\\n\\n\\n\\n\\n\\n\\n\\n\\n\\n\\n\\n\\n\\n1\\n\\n\\n\\n\\n\\n\\n\\n\\nRate\\n\\n\\n\\n\\n\\n\\n\\n\\n\\n\\n\\n2\\n\\n\\n\\n\\n\\n\\n\\n\\nRate\\n\\n\\n\\n\\n\\n\\n\\n\\n\\n\\n\\n3\\n\\n\\n\\n\\n\\n\\n\\n\\nRate\\n\\n\\n\\n\\n\\n\\n\\n\\n\\n\\n\\n4\\n\\n\\n\\n\\n\\n\\n\\n\\nRate\\n\\n\\n\\n\\n\\n\\n\\n\\n\\n\\n\\n5\\n\\n\\n\\n\\n\\n\\n\\n\\nRate\\n\\n\\n\\n\\n\\n\\n\\n\\n\\n\\n\\n6\\n\\n\\n\\n\\n\\n\\n\\n\\nRate\\n\\n\\n\\n\\n\\n\\n\\n\\n\\n\\n\\n7\\n\\n\\n\\n\\n\\n\\n\\n\\nRate\\n\\n\\n\\n\\n\\n\\n\\n\\n\\n\\n\\n8\\n\\n\\n\\n\\n\\n\\n\\n\\nRate\\n\\n\\n\\n\\n\\n\\n\\n\\n\\n\\n\\n9\\n\\n\\n\\n\\n\\n\\n\\n\\nRate\\n\\n\\n\\n\\n\\n\\n\\n\\n\\n\\n\\n10\\n\\n\\n\\n\\n\\n\\n\\n\\nRate\\n\\n\\n\\n\\n\\n\\n\\n\\n\\n\\n\\n\\n\\n\\n0\\n\\n\\nError: please try again.',\n",
       " '7.8\\n\\n\\n\\n\\n\\n\\n\\n\\n\\n\\n\\n\\n0\\n\\n\\n\\n\\n\\n\\n\\n\\nRate\\n\\n\\n\\n\\n\\n \\n\\n\\n\\n\\n\\n\\n\\n\\n\\n\\n\\n\\n\\n\\n\\n\\n1\\n\\n\\n\\n\\n\\n\\n\\n\\nRate\\n\\n\\n\\n\\n\\n\\n\\n\\n\\n\\n\\n2\\n\\n\\n\\n\\n\\n\\n\\n\\nRate\\n\\n\\n\\n\\n\\n\\n\\n\\n\\n\\n\\n3\\n\\n\\n\\n\\n\\n\\n\\n\\nRate\\n\\n\\n\\n\\n\\n\\n\\n\\n\\n\\n\\n4\\n\\n\\n\\n\\n\\n\\n\\n\\nRate\\n\\n\\n\\n\\n\\n\\n\\n\\n\\n\\n\\n5\\n\\n\\n\\n\\n\\n\\n\\n\\nRate\\n\\n\\n\\n\\n\\n\\n\\n\\n\\n\\n\\n6\\n\\n\\n\\n\\n\\n\\n\\n\\nRate\\n\\n\\n\\n\\n\\n\\n\\n\\n\\n\\n\\n7\\n\\n\\n\\n\\n\\n\\n\\n\\nRate\\n\\n\\n\\n\\n\\n\\n\\n\\n\\n\\n\\n8\\n\\n\\n\\n\\n\\n\\n\\n\\nRate\\n\\n\\n\\n\\n\\n\\n\\n\\n\\n\\n\\n9\\n\\n\\n\\n\\n\\n\\n\\n\\nRate\\n\\n\\n\\n\\n\\n\\n\\n\\n\\n\\n\\n10\\n\\n\\n\\n\\n\\n\\n\\n\\nRate\\n\\n\\n\\n\\n\\n\\n\\n\\n\\n\\n\\n\\n\\n\\n0\\n\\n\\nError: please try again.',\n",
       " '8\\n\\n\\n\\n\\n\\n\\n\\n\\n\\n\\n\\n\\n0\\n\\n\\n\\n\\n\\n\\n\\n\\nRate\\n\\n\\n\\n\\n\\n \\n\\n\\n\\n\\n\\n\\n\\n\\n\\n\\n\\n\\n\\n\\n\\n\\n1\\n\\n\\n\\n\\n\\n\\n\\n\\nRate\\n\\n\\n\\n\\n\\n\\n\\n\\n\\n\\n\\n2\\n\\n\\n\\n\\n\\n\\n\\n\\nRate\\n\\n\\n\\n\\n\\n\\n\\n\\n\\n\\n\\n3\\n\\n\\n\\n\\n\\n\\n\\n\\nRate\\n\\n\\n\\n\\n\\n\\n\\n\\n\\n\\n\\n4\\n\\n\\n\\n\\n\\n\\n\\n\\nRate\\n\\n\\n\\n\\n\\n\\n\\n\\n\\n\\n\\n5\\n\\n\\n\\n\\n\\n\\n\\n\\nRate\\n\\n\\n\\n\\n\\n\\n\\n\\n\\n\\n\\n6\\n\\n\\n\\n\\n\\n\\n\\n\\nRate\\n\\n\\n\\n\\n\\n\\n\\n\\n\\n\\n\\n7\\n\\n\\n\\n\\n\\n\\n\\n\\nRate\\n\\n\\n\\n\\n\\n\\n\\n\\n\\n\\n\\n8\\n\\n\\n\\n\\n\\n\\n\\n\\nRate\\n\\n\\n\\n\\n\\n\\n\\n\\n\\n\\n\\n9\\n\\n\\n\\n\\n\\n\\n\\n\\nRate\\n\\n\\n\\n\\n\\n\\n\\n\\n\\n\\n\\n10\\n\\n\\n\\n\\n\\n\\n\\n\\nRate\\n\\n\\n\\n\\n\\n\\n\\n\\n\\n\\n\\n\\n\\n\\n0\\n\\n\\nError: please try again.',\n",
       " '8.1\\n\\n\\n\\n\\n\\n\\n\\n\\n\\n\\n\\n\\n0\\n\\n\\n\\n\\n\\n\\n\\n\\nRate\\n\\n\\n\\n\\n\\n \\n\\n\\n\\n\\n\\n\\n\\n\\n\\n\\n\\n\\n\\n\\n\\n\\n1\\n\\n\\n\\n\\n\\n\\n\\n\\nRate\\n\\n\\n\\n\\n\\n\\n\\n\\n\\n\\n\\n2\\n\\n\\n\\n\\n\\n\\n\\n\\nRate\\n\\n\\n\\n\\n\\n\\n\\n\\n\\n\\n\\n3\\n\\n\\n\\n\\n\\n\\n\\n\\nRate\\n\\n\\n\\n\\n\\n\\n\\n\\n\\n\\n\\n4\\n\\n\\n\\n\\n\\n\\n\\n\\nRate\\n\\n\\n\\n\\n\\n\\n\\n\\n\\n\\n\\n5\\n\\n\\n\\n\\n\\n\\n\\n\\nRate\\n\\n\\n\\n\\n\\n\\n\\n\\n\\n\\n\\n6\\n\\n\\n\\n\\n\\n\\n\\n\\nRate\\n\\n\\n\\n\\n\\n\\n\\n\\n\\n\\n\\n7\\n\\n\\n\\n\\n\\n\\n\\n\\nRate\\n\\n\\n\\n\\n\\n\\n\\n\\n\\n\\n\\n8\\n\\n\\n\\n\\n\\n\\n\\n\\nRate\\n\\n\\n\\n\\n\\n\\n\\n\\n\\n\\n\\n9\\n\\n\\n\\n\\n\\n\\n\\n\\nRate\\n\\n\\n\\n\\n\\n\\n\\n\\n\\n\\n\\n10\\n\\n\\n\\n\\n\\n\\n\\n\\nRate\\n\\n\\n\\n\\n\\n\\n\\n\\n\\n\\n\\n\\n\\n\\n0\\n\\n\\nError: please try again.',\n",
       " '8.4\\n\\n\\n\\n\\n\\n\\n\\n\\n\\n\\n\\n\\n0\\n\\n\\n\\n\\n\\n\\n\\n\\nRate\\n\\n\\n\\n\\n\\n \\n\\n\\n\\n\\n\\n\\n\\n\\n\\n\\n\\n\\n\\n\\n\\n\\n1\\n\\n\\n\\n\\n\\n\\n\\n\\nRate\\n\\n\\n\\n\\n\\n\\n\\n\\n\\n\\n\\n2\\n\\n\\n\\n\\n\\n\\n\\n\\nRate\\n\\n\\n\\n\\n\\n\\n\\n\\n\\n\\n\\n3\\n\\n\\n\\n\\n\\n\\n\\n\\nRate\\n\\n\\n\\n\\n\\n\\n\\n\\n\\n\\n\\n4\\n\\n\\n\\n\\n\\n\\n\\n\\nRate\\n\\n\\n\\n\\n\\n\\n\\n\\n\\n\\n\\n5\\n\\n\\n\\n\\n\\n\\n\\n\\nRate\\n\\n\\n\\n\\n\\n\\n\\n\\n\\n\\n\\n6\\n\\n\\n\\n\\n\\n\\n\\n\\nRate\\n\\n\\n\\n\\n\\n\\n\\n\\n\\n\\n\\n7\\n\\n\\n\\n\\n\\n\\n\\n\\nRate\\n\\n\\n\\n\\n\\n\\n\\n\\n\\n\\n\\n8\\n\\n\\n\\n\\n\\n\\n\\n\\nRate\\n\\n\\n\\n\\n\\n\\n\\n\\n\\n\\n\\n9\\n\\n\\n\\n\\n\\n\\n\\n\\nRate\\n\\n\\n\\n\\n\\n\\n\\n\\n\\n\\n\\n10\\n\\n\\n\\n\\n\\n\\n\\n\\nRate\\n\\n\\n\\n\\n\\n\\n\\n\\n\\n\\n\\n\\n\\n\\n0\\n\\n\\nError: please try again.',\n",
       " '7.8\\n\\n\\n\\n\\n\\n\\n\\n\\n\\n\\n\\n\\n0\\n\\n\\n\\n\\n\\n\\n\\n\\nRate\\n\\n\\n\\n\\n\\n \\n\\n\\n\\n\\n\\n\\n\\n\\n\\n\\n\\n\\n\\n\\n\\n\\n1\\n\\n\\n\\n\\n\\n\\n\\n\\nRate\\n\\n\\n\\n\\n\\n\\n\\n\\n\\n\\n\\n2\\n\\n\\n\\n\\n\\n\\n\\n\\nRate\\n\\n\\n\\n\\n\\n\\n\\n\\n\\n\\n\\n3\\n\\n\\n\\n\\n\\n\\n\\n\\nRate\\n\\n\\n\\n\\n\\n\\n\\n\\n\\n\\n\\n4\\n\\n\\n\\n\\n\\n\\n\\n\\nRate\\n\\n\\n\\n\\n\\n\\n\\n\\n\\n\\n\\n5\\n\\n\\n\\n\\n\\n\\n\\n\\nRate\\n\\n\\n\\n\\n\\n\\n\\n\\n\\n\\n\\n6\\n\\n\\n\\n\\n\\n\\n\\n\\nRate\\n\\n\\n\\n\\n\\n\\n\\n\\n\\n\\n\\n7\\n\\n\\n\\n\\n\\n\\n\\n\\nRate\\n\\n\\n\\n\\n\\n\\n\\n\\n\\n\\n\\n8\\n\\n\\n\\n\\n\\n\\n\\n\\nRate\\n\\n\\n\\n\\n\\n\\n\\n\\n\\n\\n\\n9\\n\\n\\n\\n\\n\\n\\n\\n\\nRate\\n\\n\\n\\n\\n\\n\\n\\n\\n\\n\\n\\n10\\n\\n\\n\\n\\n\\n\\n\\n\\nRate\\n\\n\\n\\n\\n\\n\\n\\n\\n\\n\\n\\n\\n\\n\\n0\\n\\n\\nError: please try again.',\n",
       " '8.5\\n\\n\\n\\n\\n\\n\\n\\n\\n\\n\\n\\n\\n0\\n\\n\\n\\n\\n\\n\\n\\n\\nRate\\n\\n\\n\\n\\n\\n \\n\\n\\n\\n\\n\\n\\n\\n\\n\\n\\n\\n\\n\\n\\n\\n\\n1\\n\\n\\n\\n\\n\\n\\n\\n\\nRate\\n\\n\\n\\n\\n\\n\\n\\n\\n\\n\\n\\n2\\n\\n\\n\\n\\n\\n\\n\\n\\nRate\\n\\n\\n\\n\\n\\n\\n\\n\\n\\n\\n\\n3\\n\\n\\n\\n\\n\\n\\n\\n\\nRate\\n\\n\\n\\n\\n\\n\\n\\n\\n\\n\\n\\n4\\n\\n\\n\\n\\n\\n\\n\\n\\nRate\\n\\n\\n\\n\\n\\n\\n\\n\\n\\n\\n\\n5\\n\\n\\n\\n\\n\\n\\n\\n\\nRate\\n\\n\\n\\n\\n\\n\\n\\n\\n\\n\\n\\n6\\n\\n\\n\\n\\n\\n\\n\\n\\nRate\\n\\n\\n\\n\\n\\n\\n\\n\\n\\n\\n\\n7\\n\\n\\n\\n\\n\\n\\n\\n\\nRate\\n\\n\\n\\n\\n\\n\\n\\n\\n\\n\\n\\n8\\n\\n\\n\\n\\n\\n\\n\\n\\nRate\\n\\n\\n\\n\\n\\n\\n\\n\\n\\n\\n\\n9\\n\\n\\n\\n\\n\\n\\n\\n\\nRate\\n\\n\\n\\n\\n\\n\\n\\n\\n\\n\\n\\n10\\n\\n\\n\\n\\n\\n\\n\\n\\nRate\\n\\n\\n\\n\\n\\n\\n\\n\\n\\n\\n\\n\\n\\n\\n0\\n\\n\\nError: please try again.',\n",
       " '7.8\\n\\n\\n\\n\\n\\n\\n\\n\\n\\n\\n\\n\\n0\\n\\n\\n\\n\\n\\n\\n\\n\\nRate\\n\\n\\n\\n\\n\\n \\n\\n\\n\\n\\n\\n\\n\\n\\n\\n\\n\\n\\n\\n\\n\\n\\n1\\n\\n\\n\\n\\n\\n\\n\\n\\nRate\\n\\n\\n\\n\\n\\n\\n\\n\\n\\n\\n\\n2\\n\\n\\n\\n\\n\\n\\n\\n\\nRate\\n\\n\\n\\n\\n\\n\\n\\n\\n\\n\\n\\n3\\n\\n\\n\\n\\n\\n\\n\\n\\nRate\\n\\n\\n\\n\\n\\n\\n\\n\\n\\n\\n\\n4\\n\\n\\n\\n\\n\\n\\n\\n\\nRate\\n\\n\\n\\n\\n\\n\\n\\n\\n\\n\\n\\n5\\n\\n\\n\\n\\n\\n\\n\\n\\nRate\\n\\n\\n\\n\\n\\n\\n\\n\\n\\n\\n\\n6\\n\\n\\n\\n\\n\\n\\n\\n\\nRate\\n\\n\\n\\n\\n\\n\\n\\n\\n\\n\\n\\n7\\n\\n\\n\\n\\n\\n\\n\\n\\nRate\\n\\n\\n\\n\\n\\n\\n\\n\\n\\n\\n\\n8\\n\\n\\n\\n\\n\\n\\n\\n\\nRate\\n\\n\\n\\n\\n\\n\\n\\n\\n\\n\\n\\n9\\n\\n\\n\\n\\n\\n\\n\\n\\nRate\\n\\n\\n\\n\\n\\n\\n\\n\\n\\n\\n\\n10\\n\\n\\n\\n\\n\\n\\n\\n\\nRate\\n\\n\\n\\n\\n\\n\\n\\n\\n\\n\\n\\n\\n\\n\\n0\\n\\n\\nError: please try again.',\n",
       " '9\\n\\n\\n\\n\\n\\n\\n\\n\\n\\n\\n\\n\\n0\\n\\n\\n\\n\\n\\n\\n\\n\\nRate\\n\\n\\n\\n\\n\\n \\n\\n\\n\\n\\n\\n\\n\\n\\n\\n\\n\\n\\n\\n\\n\\n\\n1\\n\\n\\n\\n\\n\\n\\n\\n\\nRate\\n\\n\\n\\n\\n\\n\\n\\n\\n\\n\\n\\n2\\n\\n\\n\\n\\n\\n\\n\\n\\nRate\\n\\n\\n\\n\\n\\n\\n\\n\\n\\n\\n\\n3\\n\\n\\n\\n\\n\\n\\n\\n\\nRate\\n\\n\\n\\n\\n\\n\\n\\n\\n\\n\\n\\n4\\n\\n\\n\\n\\n\\n\\n\\n\\nRate\\n\\n\\n\\n\\n\\n\\n\\n\\n\\n\\n\\n5\\n\\n\\n\\n\\n\\n\\n\\n\\nRate\\n\\n\\n\\n\\n\\n\\n\\n\\n\\n\\n\\n6\\n\\n\\n\\n\\n\\n\\n\\n\\nRate\\n\\n\\n\\n\\n\\n\\n\\n\\n\\n\\n\\n7\\n\\n\\n\\n\\n\\n\\n\\n\\nRate\\n\\n\\n\\n\\n\\n\\n\\n\\n\\n\\n\\n8\\n\\n\\n\\n\\n\\n\\n\\n\\nRate\\n\\n\\n\\n\\n\\n\\n\\n\\n\\n\\n\\n9\\n\\n\\n\\n\\n\\n\\n\\n\\nRate\\n\\n\\n\\n\\n\\n\\n\\n\\n\\n\\n\\n10\\n\\n\\n\\n\\n\\n\\n\\n\\nRate\\n\\n\\n\\n\\n\\n\\n\\n\\n\\n\\n\\n\\n\\n\\n0\\n\\n\\nError: please try again.',\n",
       " '8.5\\n\\n\\n\\n\\n\\n\\n\\n\\n\\n\\n\\n\\n0\\n\\n\\n\\n\\n\\n\\n\\n\\nRate\\n\\n\\n\\n\\n\\n \\n\\n\\n\\n\\n\\n\\n\\n\\n\\n\\n\\n\\n\\n\\n\\n\\n1\\n\\n\\n\\n\\n\\n\\n\\n\\nRate\\n\\n\\n\\n\\n\\n\\n\\n\\n\\n\\n\\n2\\n\\n\\n\\n\\n\\n\\n\\n\\nRate\\n\\n\\n\\n\\n\\n\\n\\n\\n\\n\\n\\n3\\n\\n\\n\\n\\n\\n\\n\\n\\nRate\\n\\n\\n\\n\\n\\n\\n\\n\\n\\n\\n\\n4\\n\\n\\n\\n\\n\\n\\n\\n\\nRate\\n\\n\\n\\n\\n\\n\\n\\n\\n\\n\\n\\n5\\n\\n\\n\\n\\n\\n\\n\\n\\nRate\\n\\n\\n\\n\\n\\n\\n\\n\\n\\n\\n\\n6\\n\\n\\n\\n\\n\\n\\n\\n\\nRate\\n\\n\\n\\n\\n\\n\\n\\n\\n\\n\\n\\n7\\n\\n\\n\\n\\n\\n\\n\\n\\nRate\\n\\n\\n\\n\\n\\n\\n\\n\\n\\n\\n\\n8\\n\\n\\n\\n\\n\\n\\n\\n\\nRate\\n\\n\\n\\n\\n\\n\\n\\n\\n\\n\\n\\n9\\n\\n\\n\\n\\n\\n\\n\\n\\nRate\\n\\n\\n\\n\\n\\n\\n\\n\\n\\n\\n\\n10\\n\\n\\n\\n\\n\\n\\n\\n\\nRate\\n\\n\\n\\n\\n\\n\\n\\n\\n\\n\\n\\n\\n\\n\\n0\\n\\n\\nError: please try again.',\n",
       " '7.9\\n\\n\\n\\n\\n\\n\\n\\n\\n\\n\\n\\n\\n0\\n\\n\\n\\n\\n\\n\\n\\n\\nRate\\n\\n\\n\\n\\n\\n \\n\\n\\n\\n\\n\\n\\n\\n\\n\\n\\n\\n\\n\\n\\n\\n\\n1\\n\\n\\n\\n\\n\\n\\n\\n\\nRate\\n\\n\\n\\n\\n\\n\\n\\n\\n\\n\\n\\n2\\n\\n\\n\\n\\n\\n\\n\\n\\nRate\\n\\n\\n\\n\\n\\n\\n\\n\\n\\n\\n\\n3\\n\\n\\n\\n\\n\\n\\n\\n\\nRate\\n\\n\\n\\n\\n\\n\\n\\n\\n\\n\\n\\n4\\n\\n\\n\\n\\n\\n\\n\\n\\nRate\\n\\n\\n\\n\\n\\n\\n\\n\\n\\n\\n\\n5\\n\\n\\n\\n\\n\\n\\n\\n\\nRate\\n\\n\\n\\n\\n\\n\\n\\n\\n\\n\\n\\n6\\n\\n\\n\\n\\n\\n\\n\\n\\nRate\\n\\n\\n\\n\\n\\n\\n\\n\\n\\n\\n\\n7\\n\\n\\n\\n\\n\\n\\n\\n\\nRate\\n\\n\\n\\n\\n\\n\\n\\n\\n\\n\\n\\n8\\n\\n\\n\\n\\n\\n\\n\\n\\nRate\\n\\n\\n\\n\\n\\n\\n\\n\\n\\n\\n\\n9\\n\\n\\n\\n\\n\\n\\n\\n\\nRate\\n\\n\\n\\n\\n\\n\\n\\n\\n\\n\\n\\n10\\n\\n\\n\\n\\n\\n\\n\\n\\nRate\\n\\n\\n\\n\\n\\n\\n\\n\\n\\n\\n\\n\\n\\n\\n0\\n\\n\\nError: please try again.',\n",
       " '7.9\\n\\n\\n\\n\\n\\n\\n\\n\\n\\n\\n\\n\\n0\\n\\n\\n\\n\\n\\n\\n\\n\\nRate\\n\\n\\n\\n\\n\\n \\n\\n\\n\\n\\n\\n\\n\\n\\n\\n\\n\\n\\n\\n\\n\\n\\n1\\n\\n\\n\\n\\n\\n\\n\\n\\nRate\\n\\n\\n\\n\\n\\n\\n\\n\\n\\n\\n\\n2\\n\\n\\n\\n\\n\\n\\n\\n\\nRate\\n\\n\\n\\n\\n\\n\\n\\n\\n\\n\\n\\n3\\n\\n\\n\\n\\n\\n\\n\\n\\nRate\\n\\n\\n\\n\\n\\n\\n\\n\\n\\n\\n\\n4\\n\\n\\n\\n\\n\\n\\n\\n\\nRate\\n\\n\\n\\n\\n\\n\\n\\n\\n\\n\\n\\n5\\n\\n\\n\\n\\n\\n\\n\\n\\nRate\\n\\n\\n\\n\\n\\n\\n\\n\\n\\n\\n\\n6\\n\\n\\n\\n\\n\\n\\n\\n\\nRate\\n\\n\\n\\n\\n\\n\\n\\n\\n\\n\\n\\n7\\n\\n\\n\\n\\n\\n\\n\\n\\nRate\\n\\n\\n\\n\\n\\n\\n\\n\\n\\n\\n\\n8\\n\\n\\n\\n\\n\\n\\n\\n\\nRate\\n\\n\\n\\n\\n\\n\\n\\n\\n\\n\\n\\n9\\n\\n\\n\\n\\n\\n\\n\\n\\nRate\\n\\n\\n\\n\\n\\n\\n\\n\\n\\n\\n\\n10\\n\\n\\n\\n\\n\\n\\n\\n\\nRate\\n\\n\\n\\n\\n\\n\\n\\n\\n\\n\\n\\n\\n\\n\\n0\\n\\n\\nError: please try again.',\n",
       " '8.4\\n\\n\\n\\n\\n\\n\\n\\n\\n\\n\\n\\n\\n0\\n\\n\\n\\n\\n\\n\\n\\n\\nRate\\n\\n\\n\\n\\n\\n \\n\\n\\n\\n\\n\\n\\n\\n\\n\\n\\n\\n\\n\\n\\n\\n\\n1\\n\\n\\n\\n\\n\\n\\n\\n\\nRate\\n\\n\\n\\n\\n\\n\\n\\n\\n\\n\\n\\n2\\n\\n\\n\\n\\n\\n\\n\\n\\nRate\\n\\n\\n\\n\\n\\n\\n\\n\\n\\n\\n\\n3\\n\\n\\n\\n\\n\\n\\n\\n\\nRate\\n\\n\\n\\n\\n\\n\\n\\n\\n\\n\\n\\n4\\n\\n\\n\\n\\n\\n\\n\\n\\nRate\\n\\n\\n\\n\\n\\n\\n\\n\\n\\n\\n\\n5\\n\\n\\n\\n\\n\\n\\n\\n\\nRate\\n\\n\\n\\n\\n\\n\\n\\n\\n\\n\\n\\n6\\n\\n\\n\\n\\n\\n\\n\\n\\nRate\\n\\n\\n\\n\\n\\n\\n\\n\\n\\n\\n\\n7\\n\\n\\n\\n\\n\\n\\n\\n\\nRate\\n\\n\\n\\n\\n\\n\\n\\n\\n\\n\\n\\n8\\n\\n\\n\\n\\n\\n\\n\\n\\nRate\\n\\n\\n\\n\\n\\n\\n\\n\\n\\n\\n\\n9\\n\\n\\n\\n\\n\\n\\n\\n\\nRate\\n\\n\\n\\n\\n\\n\\n\\n\\n\\n\\n\\n10\\n\\n\\n\\n\\n\\n\\n\\n\\nRate\\n\\n\\n\\n\\n\\n\\n\\n\\n\\n\\n\\n\\n\\n\\n0\\n\\n\\nError: please try again.',\n",
       " '8.6\\n\\n\\n\\n\\n\\n\\n\\n\\n\\n\\n\\n\\n0\\n\\n\\n\\n\\n\\n\\n\\n\\nRate\\n\\n\\n\\n\\n\\n \\n\\n\\n\\n\\n\\n\\n\\n\\n\\n\\n\\n\\n\\n\\n\\n\\n1\\n\\n\\n\\n\\n\\n\\n\\n\\nRate\\n\\n\\n\\n\\n\\n\\n\\n\\n\\n\\n\\n2\\n\\n\\n\\n\\n\\n\\n\\n\\nRate\\n\\n\\n\\n\\n\\n\\n\\n\\n\\n\\n\\n3\\n\\n\\n\\n\\n\\n\\n\\n\\nRate\\n\\n\\n\\n\\n\\n\\n\\n\\n\\n\\n\\n4\\n\\n\\n\\n\\n\\n\\n\\n\\nRate\\n\\n\\n\\n\\n\\n\\n\\n\\n\\n\\n\\n5\\n\\n\\n\\n\\n\\n\\n\\n\\nRate\\n\\n\\n\\n\\n\\n\\n\\n\\n\\n\\n\\n6\\n\\n\\n\\n\\n\\n\\n\\n\\nRate\\n\\n\\n\\n\\n\\n\\n\\n\\n\\n\\n\\n7\\n\\n\\n\\n\\n\\n\\n\\n\\nRate\\n\\n\\n\\n\\n\\n\\n\\n\\n\\n\\n\\n8\\n\\n\\n\\n\\n\\n\\n\\n\\nRate\\n\\n\\n\\n\\n\\n\\n\\n\\n\\n\\n\\n9\\n\\n\\n\\n\\n\\n\\n\\n\\nRate\\n\\n\\n\\n\\n\\n\\n\\n\\n\\n\\n\\n10\\n\\n\\n\\n\\n\\n\\n\\n\\nRate\\n\\n\\n\\n\\n\\n\\n\\n\\n\\n\\n\\n\\n\\n\\n0\\n\\n\\nError: please try again.',\n",
       " '8\\n\\n\\n\\n\\n\\n\\n\\n\\n\\n\\n\\n\\n0\\n\\n\\n\\n\\n\\n\\n\\n\\nRate\\n\\n\\n\\n\\n\\n \\n\\n\\n\\n\\n\\n\\n\\n\\n\\n\\n\\n\\n\\n\\n\\n\\n1\\n\\n\\n\\n\\n\\n\\n\\n\\nRate\\n\\n\\n\\n\\n\\n\\n\\n\\n\\n\\n\\n2\\n\\n\\n\\n\\n\\n\\n\\n\\nRate\\n\\n\\n\\n\\n\\n\\n\\n\\n\\n\\n\\n3\\n\\n\\n\\n\\n\\n\\n\\n\\nRate\\n\\n\\n\\n\\n\\n\\n\\n\\n\\n\\n\\n4\\n\\n\\n\\n\\n\\n\\n\\n\\nRate\\n\\n\\n\\n\\n\\n\\n\\n\\n\\n\\n\\n5\\n\\n\\n\\n\\n\\n\\n\\n\\nRate\\n\\n\\n\\n\\n\\n\\n\\n\\n\\n\\n\\n6\\n\\n\\n\\n\\n\\n\\n\\n\\nRate\\n\\n\\n\\n\\n\\n\\n\\n\\n\\n\\n\\n7\\n\\n\\n\\n\\n\\n\\n\\n\\nRate\\n\\n\\n\\n\\n\\n\\n\\n\\n\\n\\n\\n8\\n\\n\\n\\n\\n\\n\\n\\n\\nRate\\n\\n\\n\\n\\n\\n\\n\\n\\n\\n\\n\\n9\\n\\n\\n\\n\\n\\n\\n\\n\\nRate\\n\\n\\n\\n\\n\\n\\n\\n\\n\\n\\n\\n10\\n\\n\\n\\n\\n\\n\\n\\n\\nRate\\n\\n\\n\\n\\n\\n\\n\\n\\n\\n\\n\\n\\n\\n\\n0\\n\\n\\nError: please try again.',\n",
       " '8.5\\n\\n\\n\\n\\n\\n\\n\\n\\n\\n\\n\\n\\n0\\n\\n\\n\\n\\n\\n\\n\\n\\nRate\\n\\n\\n\\n\\n\\n \\n\\n\\n\\n\\n\\n\\n\\n\\n\\n\\n\\n\\n\\n\\n\\n\\n1\\n\\n\\n\\n\\n\\n\\n\\n\\nRate\\n\\n\\n\\n\\n\\n\\n\\n\\n\\n\\n\\n2\\n\\n\\n\\n\\n\\n\\n\\n\\nRate\\n\\n\\n\\n\\n\\n\\n\\n\\n\\n\\n\\n3\\n\\n\\n\\n\\n\\n\\n\\n\\nRate\\n\\n\\n\\n\\n\\n\\n\\n\\n\\n\\n\\n4\\n\\n\\n\\n\\n\\n\\n\\n\\nRate\\n\\n\\n\\n\\n\\n\\n\\n\\n\\n\\n\\n5\\n\\n\\n\\n\\n\\n\\n\\n\\nRate\\n\\n\\n\\n\\n\\n\\n\\n\\n\\n\\n\\n6\\n\\n\\n\\n\\n\\n\\n\\n\\nRate\\n\\n\\n\\n\\n\\n\\n\\n\\n\\n\\n\\n7\\n\\n\\n\\n\\n\\n\\n\\n\\nRate\\n\\n\\n\\n\\n\\n\\n\\n\\n\\n\\n\\n8\\n\\n\\n\\n\\n\\n\\n\\n\\nRate\\n\\n\\n\\n\\n\\n\\n\\n\\n\\n\\n\\n9\\n\\n\\n\\n\\n\\n\\n\\n\\nRate\\n\\n\\n\\n\\n\\n\\n\\n\\n\\n\\n\\n10\\n\\n\\n\\n\\n\\n\\n\\n\\nRate\\n\\n\\n\\n\\n\\n\\n\\n\\n\\n\\n\\n\\n\\n\\n0\\n\\n\\nError: please try again.',\n",
       " '8.1\\n\\n\\n\\n\\n\\n\\n\\n\\n\\n\\n\\n\\n0\\n\\n\\n\\n\\n\\n\\n\\n\\nRate\\n\\n\\n\\n\\n\\n \\n\\n\\n\\n\\n\\n\\n\\n\\n\\n\\n\\n\\n\\n\\n\\n\\n1\\n\\n\\n\\n\\n\\n\\n\\n\\nRate\\n\\n\\n\\n\\n\\n\\n\\n\\n\\n\\n\\n2\\n\\n\\n\\n\\n\\n\\n\\n\\nRate\\n\\n\\n\\n\\n\\n\\n\\n\\n\\n\\n\\n3\\n\\n\\n\\n\\n\\n\\n\\n\\nRate\\n\\n\\n\\n\\n\\n\\n\\n\\n\\n\\n\\n4\\n\\n\\n\\n\\n\\n\\n\\n\\nRate\\n\\n\\n\\n\\n\\n\\n\\n\\n\\n\\n\\n5\\n\\n\\n\\n\\n\\n\\n\\n\\nRate\\n\\n\\n\\n\\n\\n\\n\\n\\n\\n\\n\\n6\\n\\n\\n\\n\\n\\n\\n\\n\\nRate\\n\\n\\n\\n\\n\\n\\n\\n\\n\\n\\n\\n7\\n\\n\\n\\n\\n\\n\\n\\n\\nRate\\n\\n\\n\\n\\n\\n\\n\\n\\n\\n\\n\\n8\\n\\n\\n\\n\\n\\n\\n\\n\\nRate\\n\\n\\n\\n\\n\\n\\n\\n\\n\\n\\n\\n9\\n\\n\\n\\n\\n\\n\\n\\n\\nRate\\n\\n\\n\\n\\n\\n\\n\\n\\n\\n\\n\\n10\\n\\n\\n\\n\\n\\n\\n\\n\\nRate\\n\\n\\n\\n\\n\\n\\n\\n\\n\\n\\n\\n\\n\\n\\n0\\n\\n\\nError: please try again.',\n",
       " '7.9\\n\\n\\n\\n\\n\\n\\n\\n\\n\\n\\n\\n\\n0\\n\\n\\n\\n\\n\\n\\n\\n\\nRate\\n\\n\\n\\n\\n\\n \\n\\n\\n\\n\\n\\n\\n\\n\\n\\n\\n\\n\\n\\n\\n\\n\\n1\\n\\n\\n\\n\\n\\n\\n\\n\\nRate\\n\\n\\n\\n\\n\\n\\n\\n\\n\\n\\n\\n2\\n\\n\\n\\n\\n\\n\\n\\n\\nRate\\n\\n\\n\\n\\n\\n\\n\\n\\n\\n\\n\\n3\\n\\n\\n\\n\\n\\n\\n\\n\\nRate\\n\\n\\n\\n\\n\\n\\n\\n\\n\\n\\n\\n4\\n\\n\\n\\n\\n\\n\\n\\n\\nRate\\n\\n\\n\\n\\n\\n\\n\\n\\n\\n\\n\\n5\\n\\n\\n\\n\\n\\n\\n\\n\\nRate\\n\\n\\n\\n\\n\\n\\n\\n\\n\\n\\n\\n6\\n\\n\\n\\n\\n\\n\\n\\n\\nRate\\n\\n\\n\\n\\n\\n\\n\\n\\n\\n\\n\\n7\\n\\n\\n\\n\\n\\n\\n\\n\\nRate\\n\\n\\n\\n\\n\\n\\n\\n\\n\\n\\n\\n8\\n\\n\\n\\n\\n\\n\\n\\n\\nRate\\n\\n\\n\\n\\n\\n\\n\\n\\n\\n\\n\\n9\\n\\n\\n\\n\\n\\n\\n\\n\\nRate\\n\\n\\n\\n\\n\\n\\n\\n\\n\\n\\n\\n10\\n\\n\\n\\n\\n\\n\\n\\n\\nRate\\n\\n\\n\\n\\n\\n\\n\\n\\n\\n\\n\\n\\n\\n\\n0\\n\\n\\nError: please try again.',\n",
       " '7.8\\n\\n\\n\\n\\n\\n\\n\\n\\n\\n\\n\\n\\n0\\n\\n\\n\\n\\n\\n\\n\\n\\nRate\\n\\n\\n\\n\\n\\n \\n\\n\\n\\n\\n\\n\\n\\n\\n\\n\\n\\n\\n\\n\\n\\n\\n1\\n\\n\\n\\n\\n\\n\\n\\n\\nRate\\n\\n\\n\\n\\n\\n\\n\\n\\n\\n\\n\\n2\\n\\n\\n\\n\\n\\n\\n\\n\\nRate\\n\\n\\n\\n\\n\\n\\n\\n\\n\\n\\n\\n3\\n\\n\\n\\n\\n\\n\\n\\n\\nRate\\n\\n\\n\\n\\n\\n\\n\\n\\n\\n\\n\\n4\\n\\n\\n\\n\\n\\n\\n\\n\\nRate\\n\\n\\n\\n\\n\\n\\n\\n\\n\\n\\n\\n5\\n\\n\\n\\n\\n\\n\\n\\n\\nRate\\n\\n\\n\\n\\n\\n\\n\\n\\n\\n\\n\\n6\\n\\n\\n\\n\\n\\n\\n\\n\\nRate\\n\\n\\n\\n\\n\\n\\n\\n\\n\\n\\n\\n7\\n\\n\\n\\n\\n\\n\\n\\n\\nRate\\n\\n\\n\\n\\n\\n\\n\\n\\n\\n\\n\\n8\\n\\n\\n\\n\\n\\n\\n\\n\\nRate\\n\\n\\n\\n\\n\\n\\n\\n\\n\\n\\n\\n9\\n\\n\\n\\n\\n\\n\\n\\n\\nRate\\n\\n\\n\\n\\n\\n\\n\\n\\n\\n\\n\\n10\\n\\n\\n\\n\\n\\n\\n\\n\\nRate\\n\\n\\n\\n\\n\\n\\n\\n\\n\\n\\n\\n\\n\\n\\n0\\n\\n\\nError: please try again.',\n",
       " '8.2\\n\\n\\n\\n\\n\\n\\n\\n\\n\\n\\n\\n\\n0\\n\\n\\n\\n\\n\\n\\n\\n\\nRate\\n\\n\\n\\n\\n\\n \\n\\n\\n\\n\\n\\n\\n\\n\\n\\n\\n\\n\\n\\n\\n\\n\\n1\\n\\n\\n\\n\\n\\n\\n\\n\\nRate\\n\\n\\n\\n\\n\\n\\n\\n\\n\\n\\n\\n2\\n\\n\\n\\n\\n\\n\\n\\n\\nRate\\n\\n\\n\\n\\n\\n\\n\\n\\n\\n\\n\\n3\\n\\n\\n\\n\\n\\n\\n\\n\\nRate\\n\\n\\n\\n\\n\\n\\n\\n\\n\\n\\n\\n4\\n\\n\\n\\n\\n\\n\\n\\n\\nRate\\n\\n\\n\\n\\n\\n\\n\\n\\n\\n\\n\\n5\\n\\n\\n\\n\\n\\n\\n\\n\\nRate\\n\\n\\n\\n\\n\\n\\n\\n\\n\\n\\n\\n6\\n\\n\\n\\n\\n\\n\\n\\n\\nRate\\n\\n\\n\\n\\n\\n\\n\\n\\n\\n\\n\\n7\\n\\n\\n\\n\\n\\n\\n\\n\\nRate\\n\\n\\n\\n\\n\\n\\n\\n\\n\\n\\n\\n8\\n\\n\\n\\n\\n\\n\\n\\n\\nRate\\n\\n\\n\\n\\n\\n\\n\\n\\n\\n\\n\\n9\\n\\n\\n\\n\\n\\n\\n\\n\\nRate\\n\\n\\n\\n\\n\\n\\n\\n\\n\\n\\n\\n10\\n\\n\\n\\n\\n\\n\\n\\n\\nRate\\n\\n\\n\\n\\n\\n\\n\\n\\n\\n\\n\\n\\n\\n\\n0\\n\\n\\nError: please try again.',\n",
       " '8.3\\n\\n\\n\\n\\n\\n\\n\\n\\n\\n\\n\\n\\n0\\n\\n\\n\\n\\n\\n\\n\\n\\nRate\\n\\n\\n\\n\\n\\n \\n\\n\\n\\n\\n\\n\\n\\n\\n\\n\\n\\n\\n\\n\\n\\n\\n1\\n\\n\\n\\n\\n\\n\\n\\n\\nRate\\n\\n\\n\\n\\n\\n\\n\\n\\n\\n\\n\\n2\\n\\n\\n\\n\\n\\n\\n\\n\\nRate\\n\\n\\n\\n\\n\\n\\n\\n\\n\\n\\n\\n3\\n\\n\\n\\n\\n\\n\\n\\n\\nRate\\n\\n\\n\\n\\n\\n\\n\\n\\n\\n\\n\\n4\\n\\n\\n\\n\\n\\n\\n\\n\\nRate\\n\\n\\n\\n\\n\\n\\n\\n\\n\\n\\n\\n5\\n\\n\\n\\n\\n\\n\\n\\n\\nRate\\n\\n\\n\\n\\n\\n\\n\\n\\n\\n\\n\\n6\\n\\n\\n\\n\\n\\n\\n\\n\\nRate\\n\\n\\n\\n\\n\\n\\n\\n\\n\\n\\n\\n7\\n\\n\\n\\n\\n\\n\\n\\n\\nRate\\n\\n\\n\\n\\n\\n\\n\\n\\n\\n\\n\\n8\\n\\n\\n\\n\\n\\n\\n\\n\\nRate\\n\\n\\n\\n\\n\\n\\n\\n\\n\\n\\n\\n9\\n\\n\\n\\n\\n\\n\\n\\n\\nRate\\n\\n\\n\\n\\n\\n\\n\\n\\n\\n\\n\\n10\\n\\n\\n\\n\\n\\n\\n\\n\\nRate\\n\\n\\n\\n\\n\\n\\n\\n\\n\\n\\n\\n\\n\\n\\n0\\n\\n\\nError: please try again.',\n",
       " '8.2\\n\\n\\n\\n\\n\\n\\n\\n\\n\\n\\n\\n\\n0\\n\\n\\n\\n\\n\\n\\n\\n\\nRate\\n\\n\\n\\n\\n\\n \\n\\n\\n\\n\\n\\n\\n\\n\\n\\n\\n\\n\\n\\n\\n\\n\\n1\\n\\n\\n\\n\\n\\n\\n\\n\\nRate\\n\\n\\n\\n\\n\\n\\n\\n\\n\\n\\n\\n2\\n\\n\\n\\n\\n\\n\\n\\n\\nRate\\n\\n\\n\\n\\n\\n\\n\\n\\n\\n\\n\\n3\\n\\n\\n\\n\\n\\n\\n\\n\\nRate\\n\\n\\n\\n\\n\\n\\n\\n\\n\\n\\n\\n4\\n\\n\\n\\n\\n\\n\\n\\n\\nRate\\n\\n\\n\\n\\n\\n\\n\\n\\n\\n\\n\\n5\\n\\n\\n\\n\\n\\n\\n\\n\\nRate\\n\\n\\n\\n\\n\\n\\n\\n\\n\\n\\n\\n6\\n\\n\\n\\n\\n\\n\\n\\n\\nRate\\n\\n\\n\\n\\n\\n\\n\\n\\n\\n\\n\\n7\\n\\n\\n\\n\\n\\n\\n\\n\\nRate\\n\\n\\n\\n\\n\\n\\n\\n\\n\\n\\n\\n8\\n\\n\\n\\n\\n\\n\\n\\n\\nRate\\n\\n\\n\\n\\n\\n\\n\\n\\n\\n\\n\\n9\\n\\n\\n\\n\\n\\n\\n\\n\\nRate\\n\\n\\n\\n\\n\\n\\n\\n\\n\\n\\n\\n10\\n\\n\\n\\n\\n\\n\\n\\n\\nRate\\n\\n\\n\\n\\n\\n\\n\\n\\n\\n\\n\\n\\n\\n\\n0\\n\\n\\nError: please try again.',\n",
       " '8.1\\n\\n\\n\\n\\n\\n\\n\\n\\n\\n\\n\\n\\n0\\n\\n\\n\\n\\n\\n\\n\\n\\nRate\\n\\n\\n\\n\\n\\n \\n\\n\\n\\n\\n\\n\\n\\n\\n\\n\\n\\n\\n\\n\\n\\n\\n1\\n\\n\\n\\n\\n\\n\\n\\n\\nRate\\n\\n\\n\\n\\n\\n\\n\\n\\n\\n\\n\\n2\\n\\n\\n\\n\\n\\n\\n\\n\\nRate\\n\\n\\n\\n\\n\\n\\n\\n\\n\\n\\n\\n3\\n\\n\\n\\n\\n\\n\\n\\n\\nRate\\n\\n\\n\\n\\n\\n\\n\\n\\n\\n\\n\\n4\\n\\n\\n\\n\\n\\n\\n\\n\\nRate\\n\\n\\n\\n\\n\\n\\n\\n\\n\\n\\n\\n5\\n\\n\\n\\n\\n\\n\\n\\n\\nRate\\n\\n\\n\\n\\n\\n\\n\\n\\n\\n\\n\\n6\\n\\n\\n\\n\\n\\n\\n\\n\\nRate\\n\\n\\n\\n\\n\\n\\n\\n\\n\\n\\n\\n7\\n\\n\\n\\n\\n\\n\\n\\n\\nRate\\n\\n\\n\\n\\n\\n\\n\\n\\n\\n\\n\\n8\\n\\n\\n\\n\\n\\n\\n\\n\\nRate\\n\\n\\n\\n\\n\\n\\n\\n\\n\\n\\n\\n9\\n\\n\\n\\n\\n\\n\\n\\n\\nRate\\n\\n\\n\\n\\n\\n\\n\\n\\n\\n\\n\\n10\\n\\n\\n\\n\\n\\n\\n\\n\\nRate\\n\\n\\n\\n\\n\\n\\n\\n\\n\\n\\n\\n\\n\\n\\n0\\n\\n\\nError: please try again.',\n",
       " '8\\n\\n\\n\\n\\n\\n\\n\\n\\n\\n\\n\\n\\n0\\n\\n\\n\\n\\n\\n\\n\\n\\nRate\\n\\n\\n\\n\\n\\n \\n\\n\\n\\n\\n\\n\\n\\n\\n\\n\\n\\n\\n\\n\\n\\n\\n1\\n\\n\\n\\n\\n\\n\\n\\n\\nRate\\n\\n\\n\\n\\n\\n\\n\\n\\n\\n\\n\\n2\\n\\n\\n\\n\\n\\n\\n\\n\\nRate\\n\\n\\n\\n\\n\\n\\n\\n\\n\\n\\n\\n3\\n\\n\\n\\n\\n\\n\\n\\n\\nRate\\n\\n\\n\\n\\n\\n\\n\\n\\n\\n\\n\\n4\\n\\n\\n\\n\\n\\n\\n\\n\\nRate\\n\\n\\n\\n\\n\\n\\n\\n\\n\\n\\n\\n5\\n\\n\\n\\n\\n\\n\\n\\n\\nRate\\n\\n\\n\\n\\n\\n\\n\\n\\n\\n\\n\\n6\\n\\n\\n\\n\\n\\n\\n\\n\\nRate\\n\\n\\n\\n\\n\\n\\n\\n\\n\\n\\n\\n7\\n\\n\\n\\n\\n\\n\\n\\n\\nRate\\n\\n\\n\\n\\n\\n\\n\\n\\n\\n\\n\\n8\\n\\n\\n\\n\\n\\n\\n\\n\\nRate\\n\\n\\n\\n\\n\\n\\n\\n\\n\\n\\n\\n9\\n\\n\\n\\n\\n\\n\\n\\n\\nRate\\n\\n\\n\\n\\n\\n\\n\\n\\n\\n\\n\\n10\\n\\n\\n\\n\\n\\n\\n\\n\\nRate\\n\\n\\n\\n\\n\\n\\n\\n\\n\\n\\n\\n\\n\\n\\n0\\n\\n\\nError: please try again.',\n",
       " '7.8\\n\\n\\n\\n\\n\\n\\n\\n\\n\\n\\n\\n\\n0\\n\\n\\n\\n\\n\\n\\n\\n\\nRate\\n\\n\\n\\n\\n\\n \\n\\n\\n\\n\\n\\n\\n\\n\\n\\n\\n\\n\\n\\n\\n\\n\\n1\\n\\n\\n\\n\\n\\n\\n\\n\\nRate\\n\\n\\n\\n\\n\\n\\n\\n\\n\\n\\n\\n2\\n\\n\\n\\n\\n\\n\\n\\n\\nRate\\n\\n\\n\\n\\n\\n\\n\\n\\n\\n\\n\\n3\\n\\n\\n\\n\\n\\n\\n\\n\\nRate\\n\\n\\n\\n\\n\\n\\n\\n\\n\\n\\n\\n4\\n\\n\\n\\n\\n\\n\\n\\n\\nRate\\n\\n\\n\\n\\n\\n\\n\\n\\n\\n\\n\\n5\\n\\n\\n\\n\\n\\n\\n\\n\\nRate\\n\\n\\n\\n\\n\\n\\n\\n\\n\\n\\n\\n6\\n\\n\\n\\n\\n\\n\\n\\n\\nRate\\n\\n\\n\\n\\n\\n\\n\\n\\n\\n\\n\\n7\\n\\n\\n\\n\\n\\n\\n\\n\\nRate\\n\\n\\n\\n\\n\\n\\n\\n\\n\\n\\n\\n8\\n\\n\\n\\n\\n\\n\\n\\n\\nRate\\n\\n\\n\\n\\n\\n\\n\\n\\n\\n\\n\\n9\\n\\n\\n\\n\\n\\n\\n\\n\\nRate\\n\\n\\n\\n\\n\\n\\n\\n\\n\\n\\n\\n10\\n\\n\\n\\n\\n\\n\\n\\n\\nRate\\n\\n\\n\\n\\n\\n\\n\\n\\n\\n\\n\\n\\n\\n\\n0\\n\\n\\nError: please try again.',\n",
       " '8.6\\n\\n\\n\\n\\n\\n\\n\\n\\n\\n\\n\\n\\n0\\n\\n\\n\\n\\n\\n\\n\\n\\nRate\\n\\n\\n\\n\\n\\n \\n\\n\\n\\n\\n\\n\\n\\n\\n\\n\\n\\n\\n\\n\\n\\n\\n1\\n\\n\\n\\n\\n\\n\\n\\n\\nRate\\n\\n\\n\\n\\n\\n\\n\\n\\n\\n\\n\\n2\\n\\n\\n\\n\\n\\n\\n\\n\\nRate\\n\\n\\n\\n\\n\\n\\n\\n\\n\\n\\n\\n3\\n\\n\\n\\n\\n\\n\\n\\n\\nRate\\n\\n\\n\\n\\n\\n\\n\\n\\n\\n\\n\\n4\\n\\n\\n\\n\\n\\n\\n\\n\\nRate\\n\\n\\n\\n\\n\\n\\n\\n\\n\\n\\n\\n5\\n\\n\\n\\n\\n\\n\\n\\n\\nRate\\n\\n\\n\\n\\n\\n\\n\\n\\n\\n\\n\\n6\\n\\n\\n\\n\\n\\n\\n\\n\\nRate\\n\\n\\n\\n\\n\\n\\n\\n\\n\\n\\n\\n7\\n\\n\\n\\n\\n\\n\\n\\n\\nRate\\n\\n\\n\\n\\n\\n\\n\\n\\n\\n\\n\\n8\\n\\n\\n\\n\\n\\n\\n\\n\\nRate\\n\\n\\n\\n\\n\\n\\n\\n\\n\\n\\n\\n9\\n\\n\\n\\n\\n\\n\\n\\n\\nRate\\n\\n\\n\\n\\n\\n\\n\\n\\n\\n\\n\\n10\\n\\n\\n\\n\\n\\n\\n\\n\\nRate\\n\\n\\n\\n\\n\\n\\n\\n\\n\\n\\n\\n\\n\\n\\n0\\n\\n\\nError: please try again.',\n",
       " '8.2\\n\\n\\n\\n\\n\\n\\n\\n\\n\\n\\n\\n\\n0\\n\\n\\n\\n\\n\\n\\n\\n\\nRate\\n\\n\\n\\n\\n\\n \\n\\n\\n\\n\\n\\n\\n\\n\\n\\n\\n\\n\\n\\n\\n\\n\\n1\\n\\n\\n\\n\\n\\n\\n\\n\\nRate\\n\\n\\n\\n\\n\\n\\n\\n\\n\\n\\n\\n2\\n\\n\\n\\n\\n\\n\\n\\n\\nRate\\n\\n\\n\\n\\n\\n\\n\\n\\n\\n\\n\\n3\\n\\n\\n\\n\\n\\n\\n\\n\\nRate\\n\\n\\n\\n\\n\\n\\n\\n\\n\\n\\n\\n4\\n\\n\\n\\n\\n\\n\\n\\n\\nRate\\n\\n\\n\\n\\n\\n\\n\\n\\n\\n\\n\\n5\\n\\n\\n\\n\\n\\n\\n\\n\\nRate\\n\\n\\n\\n\\n\\n\\n\\n\\n\\n\\n\\n6\\n\\n\\n\\n\\n\\n\\n\\n\\nRate\\n\\n\\n\\n\\n\\n\\n\\n\\n\\n\\n\\n7\\n\\n\\n\\n\\n\\n\\n\\n\\nRate\\n\\n\\n\\n\\n\\n\\n\\n\\n\\n\\n\\n8\\n\\n\\n\\n\\n\\n\\n\\n\\nRate\\n\\n\\n\\n\\n\\n\\n\\n\\n\\n\\n\\n9\\n\\n\\n\\n\\n\\n\\n\\n\\nRate\\n\\n\\n\\n\\n\\n\\n\\n\\n\\n\\n\\n10\\n\\n\\n\\n\\n\\n\\n\\n\\nRate\\n\\n\\n\\n\\n\\n\\n\\n\\n\\n\\n\\n\\n\\n\\n0\\n\\n\\nError: please try again.',\n",
       " '8.1\\n\\n\\n\\n\\n\\n\\n\\n\\n\\n\\n\\n\\n0\\n\\n\\n\\n\\n\\n\\n\\n\\nRate\\n\\n\\n\\n\\n\\n \\n\\n\\n\\n\\n\\n\\n\\n\\n\\n\\n\\n\\n\\n\\n\\n\\n1\\n\\n\\n\\n\\n\\n\\n\\n\\nRate\\n\\n\\n\\n\\n\\n\\n\\n\\n\\n\\n\\n2\\n\\n\\n\\n\\n\\n\\n\\n\\nRate\\n\\n\\n\\n\\n\\n\\n\\n\\n\\n\\n\\n3\\n\\n\\n\\n\\n\\n\\n\\n\\nRate\\n\\n\\n\\n\\n\\n\\n\\n\\n\\n\\n\\n4\\n\\n\\n\\n\\n\\n\\n\\n\\nRate\\n\\n\\n\\n\\n\\n\\n\\n\\n\\n\\n\\n5\\n\\n\\n\\n\\n\\n\\n\\n\\nRate\\n\\n\\n\\n\\n\\n\\n\\n\\n\\n\\n\\n6\\n\\n\\n\\n\\n\\n\\n\\n\\nRate\\n\\n\\n\\n\\n\\n\\n\\n\\n\\n\\n\\n7\\n\\n\\n\\n\\n\\n\\n\\n\\nRate\\n\\n\\n\\n\\n\\n\\n\\n\\n\\n\\n\\n8\\n\\n\\n\\n\\n\\n\\n\\n\\nRate\\n\\n\\n\\n\\n\\n\\n\\n\\n\\n\\n\\n9\\n\\n\\n\\n\\n\\n\\n\\n\\nRate\\n\\n\\n\\n\\n\\n\\n\\n\\n\\n\\n\\n10\\n\\n\\n\\n\\n\\n\\n\\n\\nRate\\n\\n\\n\\n\\n\\n\\n\\n\\n\\n\\n\\n\\n\\n\\n0\\n\\n\\nError: please try again.',\n",
       " '8.1\\n\\n\\n\\n\\n\\n\\n\\n\\n\\n\\n\\n\\n0\\n\\n\\n\\n\\n\\n\\n\\n\\nRate\\n\\n\\n\\n\\n\\n \\n\\n\\n\\n\\n\\n\\n\\n\\n\\n\\n\\n\\n\\n\\n\\n\\n1\\n\\n\\n\\n\\n\\n\\n\\n\\nRate\\n\\n\\n\\n\\n\\n\\n\\n\\n\\n\\n\\n2\\n\\n\\n\\n\\n\\n\\n\\n\\nRate\\n\\n\\n\\n\\n\\n\\n\\n\\n\\n\\n\\n3\\n\\n\\n\\n\\n\\n\\n\\n\\nRate\\n\\n\\n\\n\\n\\n\\n\\n\\n\\n\\n\\n4\\n\\n\\n\\n\\n\\n\\n\\n\\nRate\\n\\n\\n\\n\\n\\n\\n\\n\\n\\n\\n\\n5\\n\\n\\n\\n\\n\\n\\n\\n\\nRate\\n\\n\\n\\n\\n\\n\\n\\n\\n\\n\\n\\n6\\n\\n\\n\\n\\n\\n\\n\\n\\nRate\\n\\n\\n\\n\\n\\n\\n\\n\\n\\n\\n\\n7\\n\\n\\n\\n\\n\\n\\n\\n\\nRate\\n\\n\\n\\n\\n\\n\\n\\n\\n\\n\\n\\n8\\n\\n\\n\\n\\n\\n\\n\\n\\nRate\\n\\n\\n\\n\\n\\n\\n\\n\\n\\n\\n\\n9\\n\\n\\n\\n\\n\\n\\n\\n\\nRate\\n\\n\\n\\n\\n\\n\\n\\n\\n\\n\\n\\n10\\n\\n\\n\\n\\n\\n\\n\\n\\nRate\\n\\n\\n\\n\\n\\n\\n\\n\\n\\n\\n\\n\\n\\n\\n0\\n\\n\\nError: please try again.',\n",
       " '8.2\\n\\n\\n\\n\\n\\n\\n\\n\\n\\n\\n\\n\\n0\\n\\n\\n\\n\\n\\n\\n\\n\\nRate\\n\\n\\n\\n\\n\\n \\n\\n\\n\\n\\n\\n\\n\\n\\n\\n\\n\\n\\n\\n\\n\\n\\n1\\n\\n\\n\\n\\n\\n\\n\\n\\nRate\\n\\n\\n\\n\\n\\n\\n\\n\\n\\n\\n\\n2\\n\\n\\n\\n\\n\\n\\n\\n\\nRate\\n\\n\\n\\n\\n\\n\\n\\n\\n\\n\\n\\n3\\n\\n\\n\\n\\n\\n\\n\\n\\nRate\\n\\n\\n\\n\\n\\n\\n\\n\\n\\n\\n\\n4\\n\\n\\n\\n\\n\\n\\n\\n\\nRate\\n\\n\\n\\n\\n\\n\\n\\n\\n\\n\\n\\n5\\n\\n\\n\\n\\n\\n\\n\\n\\nRate\\n\\n\\n\\n\\n\\n\\n\\n\\n\\n\\n\\n6\\n\\n\\n\\n\\n\\n\\n\\n\\nRate\\n\\n\\n\\n\\n\\n\\n\\n\\n\\n\\n\\n7\\n\\n\\n\\n\\n\\n\\n\\n\\nRate\\n\\n\\n\\n\\n\\n\\n\\n\\n\\n\\n\\n8\\n\\n\\n\\n\\n\\n\\n\\n\\nRate\\n\\n\\n\\n\\n\\n\\n\\n\\n\\n\\n\\n9\\n\\n\\n\\n\\n\\n\\n\\n\\nRate\\n\\n\\n\\n\\n\\n\\n\\n\\n\\n\\n\\n10\\n\\n\\n\\n\\n\\n\\n\\n\\nRate\\n\\n\\n\\n\\n\\n\\n\\n\\n\\n\\n\\n\\n\\n\\n0\\n\\n\\nError: please try again.',\n",
       " '8.5\\n\\n\\n\\n\\n\\n\\n\\n\\n\\n\\n\\n\\n0\\n\\n\\n\\n\\n\\n\\n\\n\\nRate\\n\\n\\n\\n\\n\\n \\n\\n\\n\\n\\n\\n\\n\\n\\n\\n\\n\\n\\n\\n\\n\\n\\n1\\n\\n\\n\\n\\n\\n\\n\\n\\nRate\\n\\n\\n\\n\\n\\n\\n\\n\\n\\n\\n\\n2\\n\\n\\n\\n\\n\\n\\n\\n\\nRate\\n\\n\\n\\n\\n\\n\\n\\n\\n\\n\\n\\n3\\n\\n\\n\\n\\n\\n\\n\\n\\nRate\\n\\n\\n\\n\\n\\n\\n\\n\\n\\n\\n\\n4\\n\\n\\n\\n\\n\\n\\n\\n\\nRate\\n\\n\\n\\n\\n\\n\\n\\n\\n\\n\\n\\n5\\n\\n\\n\\n\\n\\n\\n\\n\\nRate\\n\\n\\n\\n\\n\\n\\n\\n\\n\\n\\n\\n6\\n\\n\\n\\n\\n\\n\\n\\n\\nRate\\n\\n\\n\\n\\n\\n\\n\\n\\n\\n\\n\\n7\\n\\n\\n\\n\\n\\n\\n\\n\\nRate\\n\\n\\n\\n\\n\\n\\n\\n\\n\\n\\n\\n8\\n\\n\\n\\n\\n\\n\\n\\n\\nRate\\n\\n\\n\\n\\n\\n\\n\\n\\n\\n\\n\\n9\\n\\n\\n\\n\\n\\n\\n\\n\\nRate\\n\\n\\n\\n\\n\\n\\n\\n\\n\\n\\n\\n10\\n\\n\\n\\n\\n\\n\\n\\n\\nRate\\n\\n\\n\\n\\n\\n\\n\\n\\n\\n\\n\\n\\n\\n\\n0\\n\\n\\nError: please try again.',\n",
       " '8.6\\n\\n\\n\\n\\n\\n\\n\\n\\n\\n\\n\\n\\n0\\n\\n\\n\\n\\n\\n\\n\\n\\nRate\\n\\n\\n\\n\\n\\n \\n\\n\\n\\n\\n\\n\\n\\n\\n\\n\\n\\n\\n\\n\\n\\n\\n1\\n\\n\\n\\n\\n\\n\\n\\n\\nRate\\n\\n\\n\\n\\n\\n\\n\\n\\n\\n\\n\\n2\\n\\n\\n\\n\\n\\n\\n\\n\\nRate\\n\\n\\n\\n\\n\\n\\n\\n\\n\\n\\n\\n3\\n\\n\\n\\n\\n\\n\\n\\n\\nRate\\n\\n\\n\\n\\n\\n\\n\\n\\n\\n\\n\\n4\\n\\n\\n\\n\\n\\n\\n\\n\\nRate\\n\\n\\n\\n\\n\\n\\n\\n\\n\\n\\n\\n5\\n\\n\\n\\n\\n\\n\\n\\n\\nRate\\n\\n\\n\\n\\n\\n\\n\\n\\n\\n\\n\\n6\\n\\n\\n\\n\\n\\n\\n\\n\\nRate\\n\\n\\n\\n\\n\\n\\n\\n\\n\\n\\n\\n7\\n\\n\\n\\n\\n\\n\\n\\n\\nRate\\n\\n\\n\\n\\n\\n\\n\\n\\n\\n\\n\\n8\\n\\n\\n\\n\\n\\n\\n\\n\\nRate\\n\\n\\n\\n\\n\\n\\n\\n\\n\\n\\n\\n9\\n\\n\\n\\n\\n\\n\\n\\n\\nRate\\n\\n\\n\\n\\n\\n\\n\\n\\n\\n\\n\\n10\\n\\n\\n\\n\\n\\n\\n\\n\\nRate\\n\\n\\n\\n\\n\\n\\n\\n\\n\\n\\n\\n\\n\\n\\n0\\n\\n\\nError: please try again.',\n",
       " '8.1\\n\\n\\n\\n\\n\\n\\n\\n\\n\\n\\n\\n\\n0\\n\\n\\n\\n\\n\\n\\n\\n\\nRate\\n\\n\\n\\n\\n\\n \\n\\n\\n\\n\\n\\n\\n\\n\\n\\n\\n\\n\\n\\n\\n\\n\\n1\\n\\n\\n\\n\\n\\n\\n\\n\\nRate\\n\\n\\n\\n\\n\\n\\n\\n\\n\\n\\n\\n2\\n\\n\\n\\n\\n\\n\\n\\n\\nRate\\n\\n\\n\\n\\n\\n\\n\\n\\n\\n\\n\\n3\\n\\n\\n\\n\\n\\n\\n\\n\\nRate\\n\\n\\n\\n\\n\\n\\n\\n\\n\\n\\n\\n4\\n\\n\\n\\n\\n\\n\\n\\n\\nRate\\n\\n\\n\\n\\n\\n\\n\\n\\n\\n\\n\\n5\\n\\n\\n\\n\\n\\n\\n\\n\\nRate\\n\\n\\n\\n\\n\\n\\n\\n\\n\\n\\n\\n6\\n\\n\\n\\n\\n\\n\\n\\n\\nRate\\n\\n\\n\\n\\n\\n\\n\\n\\n\\n\\n\\n7\\n\\n\\n\\n\\n\\n\\n\\n\\nRate\\n\\n\\n\\n\\n\\n\\n\\n\\n\\n\\n\\n8\\n\\n\\n\\n\\n\\n\\n\\n\\nRate\\n\\n\\n\\n\\n\\n\\n\\n\\n\\n\\n\\n9\\n\\n\\n\\n\\n\\n\\n\\n\\nRate\\n\\n\\n\\n\\n\\n\\n\\n\\n\\n\\n\\n10\\n\\n\\n\\n\\n\\n\\n\\n\\nRate\\n\\n\\n\\n\\n\\n\\n\\n\\n\\n\\n\\n\\n\\n\\n0\\n\\n\\nError: please try again.',\n",
       " '8.2\\n\\n\\n\\n\\n\\n\\n\\n\\n\\n\\n\\n\\n0\\n\\n\\n\\n\\n\\n\\n\\n\\nRate\\n\\n\\n\\n\\n\\n \\n\\n\\n\\n\\n\\n\\n\\n\\n\\n\\n\\n\\n\\n\\n\\n\\n1\\n\\n\\n\\n\\n\\n\\n\\n\\nRate\\n\\n\\n\\n\\n\\n\\n\\n\\n\\n\\n\\n2\\n\\n\\n\\n\\n\\n\\n\\n\\nRate\\n\\n\\n\\n\\n\\n\\n\\n\\n\\n\\n\\n3\\n\\n\\n\\n\\n\\n\\n\\n\\nRate\\n\\n\\n\\n\\n\\n\\n\\n\\n\\n\\n\\n4\\n\\n\\n\\n\\n\\n\\n\\n\\nRate\\n\\n\\n\\n\\n\\n\\n\\n\\n\\n\\n\\n5\\n\\n\\n\\n\\n\\n\\n\\n\\nRate\\n\\n\\n\\n\\n\\n\\n\\n\\n\\n\\n\\n6\\n\\n\\n\\n\\n\\n\\n\\n\\nRate\\n\\n\\n\\n\\n\\n\\n\\n\\n\\n\\n\\n7\\n\\n\\n\\n\\n\\n\\n\\n\\nRate\\n\\n\\n\\n\\n\\n\\n\\n\\n\\n\\n\\n8\\n\\n\\n\\n\\n\\n\\n\\n\\nRate\\n\\n\\n\\n\\n\\n\\n\\n\\n\\n\\n\\n9\\n\\n\\n\\n\\n\\n\\n\\n\\nRate\\n\\n\\n\\n\\n\\n\\n\\n\\n\\n\\n\\n10\\n\\n\\n\\n\\n\\n\\n\\n\\nRate\\n\\n\\n\\n\\n\\n\\n\\n\\n\\n\\n\\n\\n\\n\\n0\\n\\n\\nError: please try again.',\n",
       " '8.2\\n\\n\\n\\n\\n\\n\\n\\n\\n\\n\\n\\n\\n0\\n\\n\\n\\n\\n\\n\\n\\n\\nRate\\n\\n\\n\\n\\n\\n \\n\\n\\n\\n\\n\\n\\n\\n\\n\\n\\n\\n\\n\\n\\n\\n\\n1\\n\\n\\n\\n\\n\\n\\n\\n\\nRate\\n\\n\\n\\n\\n\\n\\n\\n\\n\\n\\n\\n2\\n\\n\\n\\n\\n\\n\\n\\n\\nRate\\n\\n\\n\\n\\n\\n\\n\\n\\n\\n\\n\\n3\\n\\n\\n\\n\\n\\n\\n\\n\\nRate\\n\\n\\n\\n\\n\\n\\n\\n\\n\\n\\n\\n4\\n\\n\\n\\n\\n\\n\\n\\n\\nRate\\n\\n\\n\\n\\n\\n\\n\\n\\n\\n\\n\\n5\\n\\n\\n\\n\\n\\n\\n\\n\\nRate\\n\\n\\n\\n\\n\\n\\n\\n\\n\\n\\n\\n6\\n\\n\\n\\n\\n\\n\\n\\n\\nRate\\n\\n\\n\\n\\n\\n\\n\\n\\n\\n\\n\\n7\\n\\n\\n\\n\\n\\n\\n\\n\\nRate\\n\\n\\n\\n\\n\\n\\n\\n\\n\\n\\n\\n8\\n\\n\\n\\n\\n\\n\\n\\n\\nRate\\n\\n\\n\\n\\n\\n\\n\\n\\n\\n\\n\\n9\\n\\n\\n\\n\\n\\n\\n\\n\\nRate\\n\\n\\n\\n\\n\\n\\n\\n\\n\\n\\n\\n10\\n\\n\\n\\n\\n\\n\\n\\n\\nRate\\n\\n\\n\\n\\n\\n\\n\\n\\n\\n\\n\\n\\n\\n\\n0\\n\\n\\nError: please try again.',\n",
       " '8.6\\n\\n\\n\\n\\n\\n\\n\\n\\n\\n\\n\\n\\n0\\n\\n\\n\\n\\n\\n\\n\\n\\nRate\\n\\n\\n\\n\\n\\n \\n\\n\\n\\n\\n\\n\\n\\n\\n\\n\\n\\n\\n\\n\\n\\n\\n1\\n\\n\\n\\n\\n\\n\\n\\n\\nRate\\n\\n\\n\\n\\n\\n\\n\\n\\n\\n\\n\\n2\\n\\n\\n\\n\\n\\n\\n\\n\\nRate\\n\\n\\n\\n\\n\\n\\n\\n\\n\\n\\n\\n3\\n\\n\\n\\n\\n\\n\\n\\n\\nRate\\n\\n\\n\\n\\n\\n\\n\\n\\n\\n\\n\\n4\\n\\n\\n\\n\\n\\n\\n\\n\\nRate\\n\\n\\n\\n\\n\\n\\n\\n\\n\\n\\n\\n5\\n\\n\\n\\n\\n\\n\\n\\n\\nRate\\n\\n\\n\\n\\n\\n\\n\\n\\n\\n\\n\\n6\\n\\n\\n\\n\\n\\n\\n\\n\\nRate\\n\\n\\n\\n\\n\\n\\n\\n\\n\\n\\n\\n7\\n\\n\\n\\n\\n\\n\\n\\n\\nRate\\n\\n\\n\\n\\n\\n\\n\\n\\n\\n\\n\\n8\\n\\n\\n\\n\\n\\n\\n\\n\\nRate\\n\\n\\n\\n\\n\\n\\n\\n\\n\\n\\n\\n9\\n\\n\\n\\n\\n\\n\\n\\n\\nRate\\n\\n\\n\\n\\n\\n\\n\\n\\n\\n\\n\\n10\\n\\n\\n\\n\\n\\n\\n\\n\\nRate\\n\\n\\n\\n\\n\\n\\n\\n\\n\\n\\n\\n\\n\\n\\n0\\n\\n\\nError: please try again.',\n",
       " '8.5\\n\\n\\n\\n\\n\\n\\n\\n\\n\\n\\n\\n\\n0\\n\\n\\n\\n\\n\\n\\n\\n\\nRate\\n\\n\\n\\n\\n\\n \\n\\n\\n\\n\\n\\n\\n\\n\\n\\n\\n\\n\\n\\n\\n\\n\\n1\\n\\n\\n\\n\\n\\n\\n\\n\\nRate\\n\\n\\n\\n\\n\\n\\n\\n\\n\\n\\n\\n2\\n\\n\\n\\n\\n\\n\\n\\n\\nRate\\n\\n\\n\\n\\n\\n\\n\\n\\n\\n\\n\\n3\\n\\n\\n\\n\\n\\n\\n\\n\\nRate\\n\\n\\n\\n\\n\\n\\n\\n\\n\\n\\n\\n4\\n\\n\\n\\n\\n\\n\\n\\n\\nRate\\n\\n\\n\\n\\n\\n\\n\\n\\n\\n\\n\\n5\\n\\n\\n\\n\\n\\n\\n\\n\\nRate\\n\\n\\n\\n\\n\\n\\n\\n\\n\\n\\n\\n6\\n\\n\\n\\n\\n\\n\\n\\n\\nRate\\n\\n\\n\\n\\n\\n\\n\\n\\n\\n\\n\\n7\\n\\n\\n\\n\\n\\n\\n\\n\\nRate\\n\\n\\n\\n\\n\\n\\n\\n\\n\\n\\n\\n8\\n\\n\\n\\n\\n\\n\\n\\n\\nRate\\n\\n\\n\\n\\n\\n\\n\\n\\n\\n\\n\\n9\\n\\n\\n\\n\\n\\n\\n\\n\\nRate\\n\\n\\n\\n\\n\\n\\n\\n\\n\\n\\n\\n10\\n\\n\\n\\n\\n\\n\\n\\n\\nRate\\n\\n\\n\\n\\n\\n\\n\\n\\n\\n\\n\\n\\n\\n\\n0\\n\\n\\nError: please try again.',\n",
       " '8.2\\n\\n\\n\\n\\n\\n\\n\\n\\n\\n\\n\\n\\n0\\n\\n\\n\\n\\n\\n\\n\\n\\nRate\\n\\n\\n\\n\\n\\n \\n\\n\\n\\n\\n\\n\\n\\n\\n\\n\\n\\n\\n\\n\\n\\n\\n1\\n\\n\\n\\n\\n\\n\\n\\n\\nRate\\n\\n\\n\\n\\n\\n\\n\\n\\n\\n\\n\\n2\\n\\n\\n\\n\\n\\n\\n\\n\\nRate\\n\\n\\n\\n\\n\\n\\n\\n\\n\\n\\n\\n3\\n\\n\\n\\n\\n\\n\\n\\n\\nRate\\n\\n\\n\\n\\n\\n\\n\\n\\n\\n\\n\\n4\\n\\n\\n\\n\\n\\n\\n\\n\\nRate\\n\\n\\n\\n\\n\\n\\n\\n\\n\\n\\n\\n5\\n\\n\\n\\n\\n\\n\\n\\n\\nRate\\n\\n\\n\\n\\n\\n\\n\\n\\n\\n\\n\\n6\\n\\n\\n\\n\\n\\n\\n\\n\\nRate\\n\\n\\n\\n\\n\\n\\n\\n\\n\\n\\n\\n7\\n\\n\\n\\n\\n\\n\\n\\n\\nRate\\n\\n\\n\\n\\n\\n\\n\\n\\n\\n\\n\\n8\\n\\n\\n\\n\\n\\n\\n\\n\\nRate\\n\\n\\n\\n\\n\\n\\n\\n\\n\\n\\n\\n9\\n\\n\\n\\n\\n\\n\\n\\n\\nRate\\n\\n\\n\\n\\n\\n\\n\\n\\n\\n\\n\\n10\\n\\n\\n\\n\\n\\n\\n\\n\\nRate\\n\\n\\n\\n\\n\\n\\n\\n\\n\\n\\n\\n\\n\\n\\n0\\n\\n\\nError: please try again.']"
      ]
     },
     "execution_count": 23,
     "metadata": {},
     "output_type": "execute_result"
    }
   ],
   "source": [
    "rating"
   ]
  },
  {
   "cell_type": "code",
   "execution_count": 30,
   "id": "2293f260",
   "metadata": {},
   "outputs": [],
   "source": [
    "import pandas as pd"
   ]
  },
  {
   "cell_type": "code",
   "execution_count": 51,
   "id": "ab25f98b",
   "metadata": {},
   "outputs": [],
   "source": [
    "df=pd.DataFrame({'Name':movie_name,'Rating':rating})"
   ]
  },
  {
   "cell_type": "code",
   "execution_count": 52,
   "id": "ca666e37",
   "metadata": {},
   "outputs": [
    {
     "data": {
      "text/html": [
       "<div>\n",
       "<style scoped>\n",
       "    .dataframe tbody tr th:only-of-type {\n",
       "        vertical-align: middle;\n",
       "    }\n",
       "\n",
       "    .dataframe tbody tr th {\n",
       "        vertical-align: top;\n",
       "    }\n",
       "\n",
       "    .dataframe thead th {\n",
       "        text-align: right;\n",
       "    }\n",
       "</style>\n",
       "<table border=\"1\" class=\"dataframe\">\n",
       "  <thead>\n",
       "    <tr style=\"text-align: right;\">\n",
       "      <th></th>\n",
       "      <th>Name</th>\n",
       "      <th>Rating</th>\n",
       "    </tr>\n",
       "  </thead>\n",
       "  <tbody>\n",
       "    <tr>\n",
       "      <th>0</th>\n",
       "      <td>Awaara</td>\n",
       "      <td>7.8</td>\n",
       "    </tr>\n",
       "    <tr>\n",
       "      <th>1</th>\n",
       "      <td>Shree 420</td>\n",
       "      <td>7.9</td>\n",
       "    </tr>\n",
       "    <tr>\n",
       "      <th>2</th>\n",
       "      <td>Pyaasa</td>\n",
       "      <td>8.3</td>\n",
       "    </tr>\n",
       "    <tr>\n",
       "      <th>3</th>\n",
       "      <td>Madhumati</td>\n",
       "      <td>7.8</td>\n",
       "    </tr>\n",
       "    <tr>\n",
       "      <th>4</th>\n",
       "      <td>Kanoon</td>\n",
       "      <td>7.9</td>\n",
       "    </tr>\n",
       "  </tbody>\n",
       "</table>\n",
       "</div>"
      ],
      "text/plain": [
       "        Name Rating\n",
       "0     Awaara    7.8\n",
       "1  Shree 420    7.9\n",
       "2     Pyaasa    8.3\n",
       "3  Madhumati    7.8\n",
       "4     Kanoon    7.9"
      ]
     },
     "execution_count": 52,
     "metadata": {},
     "output_type": "execute_result"
    }
   ],
   "source": [
    "df.head()"
   ]
  },
  {
   "cell_type": "code",
   "execution_count": null,
   "id": "0d844eea",
   "metadata": {},
   "outputs": [],
   "source": []
  },
  {
   "cell_type": "markdown",
   "id": "cb74cd54",
   "metadata": {},
   "source": [
    "3) Write a python program to display IMDB’s Top rated 50 Indian movies’ data (i.e. name, rating, year of release) and make data frame.\n",
    "\n"
   ]
  },
  {
   "cell_type": "code",
   "execution_count": 36,
   "id": "edc1aa8b",
   "metadata": {},
   "outputs": [],
   "source": [
    "url='https://www.imdb.com/list/ls025646548/'"
   ]
  },
  {
   "cell_type": "code",
   "execution_count": 43,
   "id": "327374ae",
   "metadata": {},
   "outputs": [],
   "source": [
    "IMDB = requests.get(url)"
   ]
  },
  {
   "cell_type": "code",
   "execution_count": 44,
   "id": "9ea5d90a",
   "metadata": {},
   "outputs": [],
   "source": [
    "soup=BeautifulSoup(IMDB.content)"
   ]
  },
  {
   "cell_type": "code",
   "execution_count": 46,
   "id": "8bd7a075",
   "metadata": {},
   "outputs": [],
   "source": [
    "hindi_movies_name=[i.text.split('\\n')[2] for i in soup.find_all( class_=\"lister-item-header\")]"
   ]
  },
  {
   "cell_type": "code",
   "execution_count": 47,
   "id": "44987c43",
   "metadata": {},
   "outputs": [
    {
     "data": {
      "text/plain": [
       "['Awaara',\n",
       " 'Shree 420',\n",
       " 'Pyaasa',\n",
       " 'Madhumati',\n",
       " 'Kanoon',\n",
       " 'Mughal-E-Azam',\n",
       " 'Kala Bazar',\n",
       " 'Woh Kaun Thi?',\n",
       " 'Guide',\n",
       " 'Amrapali',\n",
       " 'Anand',\n",
       " 'Rajnigandha',\n",
       " 'Arvind Desai Ki Ajeeb Dastaan',\n",
       " 'Satte Pe Satta',\n",
       " 'Disco Dancer',\n",
       " 'Jaane Bhi Do Yaaro',\n",
       " 'Ardh Satya',\n",
       " 'Katha',\n",
       " 'Parinda',\n",
       " 'Baazigar',\n",
       " 'Darr',\n",
       " 'Rangeela',\n",
       " 'Dilwale Dulhania Le Jayenge',\n",
       " 'Border',\n",
       " 'Satya',\n",
       " 'Kaun?',\n",
       " 'Hera Pheri',\n",
       " 'Lagaan: Once Upon a Time in India',\n",
       " 'Company',\n",
       " 'Darna Mana Hai',\n",
       " 'Munna Bhai M.B.B.S.',\n",
       " 'Khakee',\n",
       " 'Veer-Zaara',\n",
       " 'Swades: We, the People',\n",
       " 'Main, Meri Patni... Aur Woh!',\n",
       " 'Garam Masala',\n",
       " 'Don',\n",
       " 'Guru',\n",
       " 'Chak De! India',\n",
       " 'No Smoking',\n",
       " 'A Wednesday',\n",
       " '3 Idiots',\n",
       " 'My Name Is Khan',\n",
       " 'Guzaarish',\n",
       " 'Zindagi Na Milegi Dobara',\n",
       " 'Rockstar',\n",
       " 'Don 2',\n",
       " 'Piku',\n",
       " 'Airlift',\n",
       " 'Andhadhun']"
      ]
     },
     "execution_count": 47,
     "metadata": {},
     "output_type": "execute_result"
    }
   ],
   "source": [
    "hindi_movies_name"
   ]
  },
  {
   "cell_type": "code",
   "execution_count": 48,
   "id": "314bbd52",
   "metadata": {},
   "outputs": [],
   "source": [
    "rating=[i.text.strip() for i in soup.find_all(class_=\"ipl-rating-star small\")]"
   ]
  },
  {
   "cell_type": "code",
   "execution_count": 49,
   "id": "c61c14c6",
   "metadata": {},
   "outputs": [
    {
     "data": {
      "text/plain": [
       "['7.8',\n",
       " '7.9',\n",
       " '8.3',\n",
       " '7.8',\n",
       " '7.9',\n",
       " '8.1',\n",
       " '7.1',\n",
       " '7.5',\n",
       " '8.4',\n",
       " '6.7',\n",
       " '8.1',\n",
       " '7.3',\n",
       " '7.2',\n",
       " '7.2',\n",
       " '6.4',\n",
       " '8.3',\n",
       " '8.1',\n",
       " '7.7',\n",
       " '7.8',\n",
       " '7.6',\n",
       " '7.6',\n",
       " '7.4',\n",
       " '8',\n",
       " '7.9',\n",
       " '8.3',\n",
       " '7.8',\n",
       " '8.1',\n",
       " '8.1',\n",
       " '8',\n",
       " '6.3',\n",
       " '8.1',\n",
       " '7.4',\n",
       " '7.8',\n",
       " '8.2',\n",
       " '7.2',\n",
       " '6.7',\n",
       " '7.1',\n",
       " '7.7',\n",
       " '8.1',\n",
       " '7.3',\n",
       " '8.1',\n",
       " '8.4',\n",
       " '7.9',\n",
       " '7.4',\n",
       " '8.2',\n",
       " '7.7',\n",
       " '7',\n",
       " '7.6',\n",
       " '7.9',\n",
       " '8.2']"
      ]
     },
     "execution_count": 49,
     "metadata": {},
     "output_type": "execute_result"
    }
   ],
   "source": [
    "rating"
   ]
  },
  {
   "cell_type": "code",
   "execution_count": 56,
   "id": "e8d5a31c",
   "metadata": {},
   "outputs": [],
   "source": [
    "df=pd.DataFrame({'Movies':hindi_movies_name,'Rating':rating})"
   ]
  },
  {
   "cell_type": "code",
   "execution_count": 57,
   "id": "cdbc6639",
   "metadata": {},
   "outputs": [
    {
     "data": {
      "text/html": [
       "<div>\n",
       "<style scoped>\n",
       "    .dataframe tbody tr th:only-of-type {\n",
       "        vertical-align: middle;\n",
       "    }\n",
       "\n",
       "    .dataframe tbody tr th {\n",
       "        vertical-align: top;\n",
       "    }\n",
       "\n",
       "    .dataframe thead th {\n",
       "        text-align: right;\n",
       "    }\n",
       "</style>\n",
       "<table border=\"1\" class=\"dataframe\">\n",
       "  <thead>\n",
       "    <tr style=\"text-align: right;\">\n",
       "      <th></th>\n",
       "      <th>Movies</th>\n",
       "      <th>Rating</th>\n",
       "    </tr>\n",
       "  </thead>\n",
       "  <tbody>\n",
       "    <tr>\n",
       "      <th>0</th>\n",
       "      <td>Awaara</td>\n",
       "      <td>7.8</td>\n",
       "    </tr>\n",
       "    <tr>\n",
       "      <th>1</th>\n",
       "      <td>Shree 420</td>\n",
       "      <td>7.9</td>\n",
       "    </tr>\n",
       "    <tr>\n",
       "      <th>2</th>\n",
       "      <td>Pyaasa</td>\n",
       "      <td>8.3</td>\n",
       "    </tr>\n",
       "    <tr>\n",
       "      <th>3</th>\n",
       "      <td>Madhumati</td>\n",
       "      <td>7.8</td>\n",
       "    </tr>\n",
       "    <tr>\n",
       "      <th>4</th>\n",
       "      <td>Kanoon</td>\n",
       "      <td>7.9</td>\n",
       "    </tr>\n",
       "  </tbody>\n",
       "</table>\n",
       "</div>"
      ],
      "text/plain": [
       "      Movies Rating\n",
       "0     Awaara    7.8\n",
       "1  Shree 420    7.9\n",
       "2     Pyaasa    8.3\n",
       "3  Madhumati    7.8\n",
       "4     Kanoon    7.9"
      ]
     },
     "execution_count": 57,
     "metadata": {},
     "output_type": "execute_result"
    }
   ],
   "source": [
    "df.head()ur"
   ]
  },
  {
   "cell_type": "markdown",
   "id": "8a08f9a1",
   "metadata": {},
   "source": [
    "4) Write s python program to display list of respected former presidents of India(i.e. Name, Term ofoffice) from https://presidentofindia.nic.in/former-presidents.htm and make data frame.\n",
    "\n"
   ]
  },
  {
   "cell_type": "code",
   "execution_count": 3,
   "id": "ce252014",
   "metadata": {},
   "outputs": [],
   "source": [
    "url='https://presidentofindia.nic.in/former-presidents.htm'"
   ]
  },
  {
   "cell_type": "code",
   "execution_count": null,
   "id": "d6d0d694",
   "metadata": {},
   "outputs": [],
   "source": []
  },
  {
   "cell_type": "code",
   "execution_count": null,
   "id": "734e95a5",
   "metadata": {},
   "outputs": [],
   "source": []
  },
  {
   "cell_type": "code",
   "execution_count": null,
   "id": "cbb31b77",
   "metadata": {},
   "outputs": [],
   "source": []
  },
  {
   "cell_type": "markdown",
   "id": "63508108",
   "metadata": {},
   "source": [
    "9) Write a python program to scrape mentioned details from dineout.co.in and make data frame\u0002\n",
    "i) Restaurant name\n",
    "ii) Cuisine\n",
    "iii) Location\n",
    "iv) Ratings\n",
    "v) Image URL\n"
   ]
  },
  {
   "cell_type": "code",
   "execution_count": 11,
   "id": "78c9a52c",
   "metadata": {},
   "outputs": [],
   "source": [
    "Titles = []"
   ]
  },
  {
   "cell_type": "code",
   "execution_count": null,
   "id": "4cf6cb32",
   "metadata": {},
   "outputs": [],
   "source": []
  },
  {
   "cell_type": "code",
   "execution_count": null,
   "id": "6bb44cb9",
   "metadata": {},
   "outputs": [],
   "source": []
  },
  {
   "cell_type": "code",
   "execution_count": null,
   "id": "ef8cc747",
   "metadata": {},
   "outputs": [],
   "source": []
  },
  {
   "cell_type": "code",
   "execution_count": null,
   "id": "9cde6c18",
   "metadata": {},
   "outputs": [],
   "source": []
  },
  {
   "cell_type": "code",
   "execution_count": null,
   "id": "45b135ce",
   "metadata": {},
   "outputs": [],
   "source": []
  },
  {
   "cell_type": "code",
   "execution_count": null,
   "id": "474ed6fe",
   "metadata": {},
   "outputs": [],
   "source": []
  },
  {
   "cell_type": "code",
   "execution_count": null,
   "id": "69f7eb2e",
   "metadata": {},
   "outputs": [],
   "source": []
  },
  {
   "cell_type": "code",
   "execution_count": null,
   "id": "57b149d4",
   "metadata": {},
   "outputs": [],
   "source": []
  },
  {
   "cell_type": "code",
   "execution_count": 63,
   "id": "37c3c25b",
   "metadata": {},
   "outputs": [
    {
     "data": {
      "text/plain": [
       "[]"
      ]
     },
     "execution_count": 63,
     "metadata": {},
     "output_type": "execute_result"
    }
   ],
   "source": []
  },
  {
   "cell_type": "code",
   "execution_count": null,
   "id": "92209aa0",
   "metadata": {},
   "outputs": [],
   "source": []
  },
  {
   "cell_type": "code",
   "execution_count": 61,
   "id": "e9cc5aad",
   "metadata": {},
   "outputs": [
    {
     "data": {
      "text/plain": [
       "[]"
      ]
     },
     "execution_count": 61,
     "metadata": {},
     "output_type": "execute_result"
    }
   ],
   "source": []
  },
  {
   "cell_type": "code",
   "execution_count": null,
   "id": "67c19ec8",
   "metadata": {},
   "outputs": [],
   "source": []
  },
  {
   "cell_type": "code",
   "execution_count": null,
   "id": "d284fb4a",
   "metadata": {},
   "outputs": [],
   "source": []
  },
  {
   "cell_type": "code",
   "execution_count": null,
   "id": "185d33f3",
   "metadata": {},
   "outputs": [],
   "source": []
  },
  {
   "cell_type": "code",
   "execution_count": null,
   "id": "44304930",
   "metadata": {},
   "outputs": [],
   "source": []
  },
  {
   "cell_type": "code",
   "execution_count": null,
   "id": "97401f74",
   "metadata": {},
   "outputs": [],
   "source": []
  },
  {
   "cell_type": "code",
   "execution_count": null,
   "id": "71af6219",
   "metadata": {},
   "outputs": [],
   "source": []
  },
  {
   "cell_type": "code",
   "execution_count": null,
   "id": "33c7c22a",
   "metadata": {},
   "outputs": [],
   "source": []
  },
  {
   "cell_type": "code",
   "execution_count": null,
   "id": "cb1be86f",
   "metadata": {},
   "outputs": [],
   "source": []
  },
  {
   "cell_type": "code",
   "execution_count": null,
   "id": "98452bf2",
   "metadata": {},
   "outputs": [],
   "source": []
  },
  {
   "cell_type": "raw",
   "id": "09d3ad88",
   "metadata": {},
   "source": []
  },
  {
   "cell_type": "code",
   "execution_count": null,
   "id": "bab34fe0",
   "metadata": {},
   "outputs": [],
   "source": []
  },
  {
   "cell_type": "code",
   "execution_count": null,
   "id": "58dfa249",
   "metadata": {},
   "outputs": [],
   "source": []
  },
  {
   "cell_type": "code",
   "execution_count": null,
   "id": "0d37343a",
   "metadata": {},
   "outputs": [],
   "source": []
  },
  {
   "cell_type": "code",
   "execution_count": null,
   "id": "2b3beb72",
   "metadata": {},
   "outputs": [],
   "source": []
  },
  {
   "cell_type": "code",
   "execution_count": null,
   "id": "1f23b796",
   "metadata": {},
   "outputs": [],
   "source": []
  },
  {
   "cell_type": "code",
   "execution_count": null,
   "id": "79a91c07",
   "metadata": {},
   "outputs": [],
   "source": []
  },
  {
   "cell_type": "code",
   "execution_count": null,
   "id": "735e4307",
   "metadata": {},
   "outputs": [],
   "source": []
  },
  {
   "cell_type": "code",
   "execution_count": null,
   "id": "fc08c087",
   "metadata": {},
   "outputs": [],
   "source": []
  },
  {
   "cell_type": "code",
   "execution_count": null,
   "id": "fcb59b78",
   "metadata": {},
   "outputs": [],
   "source": []
  },
  {
   "cell_type": "code",
   "execution_count": null,
   "id": "5a9932a6",
   "metadata": {},
   "outputs": [],
   "source": []
  },
  {
   "cell_type": "code",
   "execution_count": null,
   "id": "44a97658",
   "metadata": {},
   "outputs": [],
   "source": []
  },
  {
   "cell_type": "code",
   "execution_count": null,
   "id": "4c290cdc",
   "metadata": {},
   "outputs": [],
   "source": []
  },
  {
   "cell_type": "code",
   "execution_count": null,
   "id": "70bcc6a3",
   "metadata": {},
   "outputs": [],
   "source": []
  },
  {
   "cell_type": "code",
   "execution_count": null,
   "id": "508cc6ef",
   "metadata": {},
   "outputs": [],
   "source": []
  },
  {
   "cell_type": "code",
   "execution_count": null,
   "id": "9629999a",
   "metadata": {},
   "outputs": [],
   "source": []
  },
  {
   "cell_type": "code",
   "execution_count": null,
   "id": "869bac5c",
   "metadata": {},
   "outputs": [],
   "source": []
  },
  {
   "cell_type": "code",
   "execution_count": null,
   "id": "64bef37d",
   "metadata": {},
   "outputs": [],
   "source": []
  },
  {
   "cell_type": "code",
   "execution_count": null,
   "id": "30e1d944",
   "metadata": {},
   "outputs": [],
   "source": []
  },
  {
   "cell_type": "code",
   "execution_count": null,
   "id": "29c51195",
   "metadata": {},
   "outputs": [],
   "source": []
  },
  {
   "cell_type": "code",
   "execution_count": null,
   "id": "1dc02cf6",
   "metadata": {},
   "outputs": [],
   "source": []
  },
  {
   "cell_type": "code",
   "execution_count": null,
   "id": "24a63dd8",
   "metadata": {},
   "outputs": [],
   "source": []
  },
  {
   "cell_type": "code",
   "execution_count": null,
   "id": "299b42cc",
   "metadata": {},
   "outputs": [],
   "source": []
  },
  {
   "cell_type": "code",
   "execution_count": null,
   "id": "e868e2f4",
   "metadata": {},
   "outputs": [],
   "source": []
  },
  {
   "cell_type": "code",
   "execution_count": null,
   "id": "14c7a36d",
   "metadata": {},
   "outputs": [],
   "source": []
  }
 ],
 "metadata": {
  "kernelspec": {
   "display_name": "Python 3 (ipykernel)",
   "language": "python",
   "name": "python3"
  },
  "language_info": {
   "codemirror_mode": {
    "name": "ipython",
    "version": 3
   },
   "file_extension": ".py",
   "mimetype": "text/x-python",
   "name": "python",
   "nbconvert_exporter": "python",
   "pygments_lexer": "ipython3",
   "version": "3.9.13"
  }
 },
 "nbformat": 4,
 "nbformat_minor": 5
}
