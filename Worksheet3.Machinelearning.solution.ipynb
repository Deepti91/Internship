{
 "cells": [
  {
   "cell_type": "markdown",
   "id": "48f17ddf",
   "metadata": {},
   "source": [
    "# Worksheet3 Machine Learning"
   ]
  },
  {
   "cell_type": "markdown",
   "id": "e86e738a",
   "metadata": {},
   "source": [
    "Assigmnment Solution"
   ]
  },
  {
   "cell_type": "markdown",
   "id": "9d6b6b76",
   "metadata": {},
   "source": [
    "Q1 to Q12 have only one correct answer. Choose the correct option to answer your question."
   ]
  },
  {
   "cell_type": "markdown",
   "id": "f814e0ef",
   "metadata": {},
   "source": [
    "1.Which of the following is an application of clustering?"
   ]
  },
  {
   "cell_type": "markdown",
   "id": "8467d8fe",
   "metadata": {},
   "source": [
    "Ans. a. Biological network analysis"
   ]
  },
  {
   "cell_type": "markdown",
   "id": "16de7f19",
   "metadata": {},
   "source": [
    "2.On which data type, we cannot perform cluster analysis?"
   ]
  },
  {
   "cell_type": "markdown",
   "id": "14427107",
   "metadata": {},
   "source": [
    "Ans. d. None"
   ]
  },
  {
   "cell_type": "markdown",
   "id": "54200f65",
   "metadata": {},
   "source": [
    "3.Netflix’s movie recommendation system uses?"
   ]
  },
  {
   "cell_type": "markdown",
   "id": "5e607fe4",
   "metadata": {},
   "source": [
    "Ans. c. Reinforcement learning and Unsupervised learning"
   ]
  },
  {
   "cell_type": "markdown",
   "id": "97dbc2e6",
   "metadata": {},
   "source": [
    "4.The final output of Hierarchical clustering is?"
   ]
  },
  {
   "cell_type": "markdown",
   "id": "059a2f8a",
   "metadata": {},
   "source": [
    "Ans. d. All of the above"
   ]
  },
  {
   "cell_type": "markdown",
   "id": "081bff79",
   "metadata": {},
   "source": [
    "5.Which of the step is not required for K-means clustering?"
   ]
  },
  {
   "cell_type": "markdown",
   "id": "7fe0554e",
   "metadata": {},
   "source": [
    "Ans. d. None"
   ]
  },
  {
   "cell_type": "markdown",
   "id": "091efa64",
   "metadata": {},
   "source": [
    "6.Which is the following is wrong?"
   ]
  },
  {
   "cell_type": "markdown",
   "id": "fe2cfe8d",
   "metadata": {},
   "source": [
    "Ans. d. None"
   ]
  },
  {
   "cell_type": "markdown",
   "id": "4be23332",
   "metadata": {},
   "source": [
    "7.Which of the following metrics, do we have for finding dissimilarity between two clusters in hierarchical clustering?"
   ]
  },
  {
   "cell_type": "markdown",
   "id": "e74d0a5d",
   "metadata": {},
   "source": [
    "Ans. d. 1, 2 and 3"
   ]
  },
  {
   "cell_type": "markdown",
   "id": "4013a4f3",
   "metadata": {},
   "source": [
    "8.Which of the following are true?"
   ]
  },
  {
   "cell_type": "markdown",
   "id": "c54dfbd2",
   "metadata": {},
   "source": [
    "Ans. b. 2 only"
   ]
  },
  {
   "cell_type": "markdown",
   "id": "3f4f1316",
   "metadata": {},
   "source": [
    "9.In the figure above, if you draw a horizontal line on y-axis for y=2. What will be the number of clusters formed?"
   ]
  },
  {
   "cell_type": "markdown",
   "id": "23f0187d",
   "metadata": {},
   "source": [
    "Ans. d. 5"
   ]
  },
  {
   "cell_type": "markdown",
   "id": "6d8bcffb",
   "metadata": {},
   "source": [
    "10.For which of the following tasks might clustering be a suitable approach?"
   ]
  },
  {
   "cell_type": "markdown",
   "id": "17aa207b",
   "metadata": {},
   "source": [
    "Ans. d. Given historical weather records, predict if tomorrow's weather will be sunny or rainy."
   ]
  },
  {
   "cell_type": "markdown",
   "id": "2f6ce78f",
   "metadata": {},
   "source": [
    "Q13 to Q14 are subjective answers type questions, Answers them in their own words briefly"
   ]
  },
  {
   "cell_type": "markdown",
   "id": "4ac5ede5",
   "metadata": {},
   "source": [
    "13. What is the importance of clustering?"
   ]
  },
  {
   "cell_type": "markdown",
   "id": "0097e0b0",
   "metadata": {},
   "source": [
    "Ans. Data professionals often use clustering in the Exploratory Data Analysis phase to discover new information and patterns in the data. As clustering is unsupervised machine learning, it doesn't require a labeled dataset. Clustering itself is not one specific algorithm but the general task to be solved."
   ]
  },
  {
   "cell_type": "markdown",
   "id": "0320bb8d",
   "metadata": {},
   "source": [
    " 14. How can I improve my clustering performance?"
   ]
  },
  {
   "cell_type": "markdown",
   "id": "91b44ecc",
   "metadata": {},
   "source": [
    "Ans.Graph-based clustering performance can easily be improved by applying ICA blind source separation during the graph Laplacian embedding step. Applying unsupervised feature learning to input data using either RICA or SFT, improves clustering performance.23-Aug-2018"
   ]
  },
  {
   "cell_type": "code",
   "execution_count": null,
   "id": "9ab77c07",
   "metadata": {},
   "outputs": [],
   "source": []
  }
 ],
 "metadata": {
  "kernelspec": {
   "display_name": "Python 3 (ipykernel)",
   "language": "python",
   "name": "python3"
  },
  "language_info": {
   "codemirror_mode": {
    "name": "ipython",
    "version": 3
   },
   "file_extension": ".py",
   "mimetype": "text/x-python",
   "name": "python",
   "nbconvert_exporter": "python",
   "pygments_lexer": "ipython3",
   "version": "3.9.13"
  }
 },
 "nbformat": 4,
 "nbformat_minor": 5
}
